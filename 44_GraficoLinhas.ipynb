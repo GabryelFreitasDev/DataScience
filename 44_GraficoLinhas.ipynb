{
 "cells": [
  {
   "cell_type": "code",
   "execution_count": null,
   "id": "3a170142",
   "metadata": {},
   "outputs": [],
   "source": [
    "import matplotlib.pyplot as plt\n",
    "%matplotlib inline"
   ]
  },
  {
   "cell_type": "code",
   "execution_count": null,
   "id": "3f5662f6",
   "metadata": {},
   "outputs": [],
   "source": [
    "x  = []\n",
    "y  = []\n",
    "y2 = []"
   ]
  },
  {
   "cell_type": "code",
   "execution_count": null,
   "id": "0bead86e",
   "metadata": {},
   "outputs": [],
   "source": [
    "for num in range(-200,201,10):\n",
    "    x.append(num)\n",
    "    y.append(num)\n",
    "    y2.append(2 * num)"
   ]
  },
  {
   "cell_type": "code",
   "execution_count": null,
   "id": "a0df90c5",
   "metadata": {},
   "outputs": [],
   "source": [
    "#Perceba a diferença entre o método: plot <> scatter\n",
    "\n",
    "#plt.scatter(x,y, s=100, c='gray', marker='o')\n",
    "\n",
    "plt.plot(x,y)"
   ]
  },
  {
   "cell_type": "markdown",
   "id": "ebee62f1",
   "metadata": {},
   "source": [
    "## Alterando a cor da linha"
   ]
  },
  {
   "cell_type": "code",
   "execution_count": null,
   "id": "06638342",
   "metadata": {},
   "outputs": [],
   "source": [
    "plt.plot(x,y, c='red')"
   ]
  },
  {
   "cell_type": "markdown",
   "id": "846f0ad4",
   "metadata": {},
   "source": [
    "## Alterando os marcadores (style)"
   ]
  },
  {
   "cell_type": "code",
   "execution_count": null,
   "id": "960f7919",
   "metadata": {},
   "outputs": [],
   "source": [
    "plt.plot(x,y, c='blue', ls='-')"
   ]
  },
  {
   "cell_type": "code",
   "execution_count": null,
   "id": "2265f808",
   "metadata": {},
   "outputs": [],
   "source": [
    "plt.plot(x,y, c='blue', ls='--') #ls = line style"
   ]
  },
  {
   "cell_type": "markdown",
   "id": "b007fe3b",
   "metadata": {},
   "source": [
    "## Estilo pontilhado"
   ]
  },
  {
   "cell_type": "code",
   "execution_count": null,
   "id": "ee1b4f02",
   "metadata": {},
   "outputs": [],
   "source": [
    "plt.plot(x,y, c='blue', ls=':')"
   ]
  },
  {
   "cell_type": "code",
   "execution_count": null,
   "id": "eae99575",
   "metadata": {},
   "outputs": [],
   "source": [
    "plt.plot(x,y, c='blue', ls='-.')"
   ]
  },
  {
   "cell_type": "markdown",
   "id": "0a057168",
   "metadata": {},
   "source": [
    "## Alterando o tamanho (espessura)"
   ]
  },
  {
   "cell_type": "code",
   "execution_count": null,
   "id": "88f4f6d3",
   "metadata": {},
   "outputs": [],
   "source": [
    "plt.plot(x,y, c='blue', ls='-.',lw=2)"
   ]
  },
  {
   "cell_type": "markdown",
   "id": "20a3a550",
   "metadata": {},
   "source": [
    "## Insrindo marcadores"
   ]
  },
  {
   "cell_type": "code",
   "execution_count": null,
   "id": "535cd8b4",
   "metadata": {},
   "outputs": [],
   "source": [
    "#Marcando os pares com a opção marker\n",
    "\n",
    "plt.plot(x,y, c='blue', ls='-.', lw=2, marker='o')"
   ]
  },
  {
   "cell_type": "code",
   "execution_count": null,
   "id": "c89bd3b9",
   "metadata": {},
   "outputs": [],
   "source": [
    "plt.plot(x,y, c='blue', ls='-.', lw=2, marker='^')"
   ]
  },
  {
   "cell_type": "markdown",
   "id": "5a58cc00",
   "metadata": {},
   "source": [
    "## Alterando o tamanho dos marcadores"
   ]
  },
  {
   "cell_type": "code",
   "execution_count": null,
   "id": "591d5db9",
   "metadata": {},
   "outputs": [],
   "source": [
    "plt.plot(x,y, c='blue', ls='-.', lw=2, marker='^', ms=10)"
   ]
  },
  {
   "cell_type": "code",
   "execution_count": null,
   "id": "a874d0f6",
   "metadata": {},
   "outputs": [],
   "source": [
    "#Customizando markers\n",
    "\n",
    "plt.plot(x,y, c='green', ls='-', lw=2, marker='o', ms=10, fillstyle='bottom') #bottom, top, none, left, right"
   ]
  },
  {
   "cell_type": "markdown",
   "id": "d47a8ba0",
   "metadata": {},
   "source": [
    "## Juntando o aprendizado"
   ]
  },
  {
   "cell_type": "code",
   "execution_count": null,
   "id": "6f378f99",
   "metadata": {},
   "outputs": [],
   "source": [
    "a = [1,2,3,4,5,6,7,8,9,10,11,12,13]\n",
    "b = [2,4,4,6,8,10,10,12,14,12,10,10,12]\n",
    "\n",
    "plt.plot(a,b, c='blue', ls='-', lw=1, marker='o')"
   ]
  },
  {
   "cell_type": "code",
   "execution_count": null,
   "id": "5349c4a7",
   "metadata": {},
   "outputs": [],
   "source": [
    "plt.plot(a,b, c='blue', ls='-', lw=1, marker='^')"
   ]
  },
  {
   "cell_type": "markdown",
   "id": "23624acd",
   "metadata": {},
   "source": [
    "## A importância do eixo X"
   ]
  },
  {
   "cell_type": "code",
   "execution_count": null,
   "id": "fafdb6c0",
   "metadata": {},
   "outputs": [],
   "source": [
    "#Considere a produção de 03 funcionários de uma fábrica ao londo de 13 dias de trabalho\n",
    "\n",
    "#Funcionário 01\n",
    "a = [1,2,3,4,5,6,7,8,9,10,11,12,13]\n",
    "b = [2,4,4,6,8,10,10,12,14,12,10,10,12]\n",
    "\n",
    "#Funcionário 02\n",
    "c = [1,2,3,4,5,6,7,8,9,10,11,12,13]\n",
    "d = [3,7,7,9,11,13,8,15,17,15,13,17,18]\n",
    "\n",
    "#Funcionário 03\n",
    "e = [1,2,3,4,5,6,7,8,9,10,11,12,13]\n",
    "f = [1,10,5,4,23,1,9,4,12,19,23,2,5]"
   ]
  },
  {
   "cell_type": "code",
   "execution_count": null,
   "id": "a5916541",
   "metadata": {},
   "outputs": [],
   "source": [
    "plt.plot(a,b, c='blue', ls=':', lw=1, marker='^')\n",
    "plt.plot(c,d, c='red', ls=':', lw=1, marker='o')\n",
    "plt.plot(e,f, c='green', ls=':', lw=1, marker='x')"
   ]
  }
 ],
 "metadata": {
  "kernelspec": {
   "display_name": "Python 3",
   "language": "python",
   "name": "python3"
  },
  "language_info": {
   "codemirror_mode": {
    "name": "ipython",
    "version": 3
   },
   "file_extension": ".py",
   "mimetype": "text/x-python",
   "name": "python",
   "nbconvert_exporter": "python",
   "pygments_lexer": "ipython3",
   "version": "3.8.8"
  }
 },
 "nbformat": 4,
 "nbformat_minor": 5
}
