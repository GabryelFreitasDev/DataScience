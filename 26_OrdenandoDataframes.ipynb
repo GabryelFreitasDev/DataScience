{
 "cells": [
  {
   "cell_type": "code",
   "execution_count": null,
   "id": "268f6023",
   "metadata": {},
   "outputs": [],
   "source": [
    "import numpy as np\n",
    "import pandas as pd"
   ]
  },
  {
   "cell_type": "code",
   "execution_count": null,
   "id": "8916c4e2",
   "metadata": {},
   "outputs": [],
   "source": [
    "colunas_filmes = ['star_rating', 'title', 'content_rating', 'genre', 'duration', 'actors_list']\n",
    "\n",
    "file = \"C:\\\\Git\\\\DataScience\\\\movies.csv\"\n",
    "filmes = pd.read_csv(file, header=0,names=colunas_filmes)\n",
    "filmes.columns"
   ]
  },
  {
   "cell_type": "code",
   "execution_count": null,
   "id": "2297d4d1",
   "metadata": {},
   "outputs": [],
   "source": [
    "filmes.head()"
   ]
  },
  {
   "cell_type": "code",
   "execution_count": null,
   "id": "c9cfc6f9",
   "metadata": {},
   "outputs": [],
   "source": [
    "#Ordenando por título\n",
    "\n",
    "filmes.title.sort_values().head()"
   ]
  },
  {
   "cell_type": "code",
   "execution_count": null,
   "id": "52ba02c6",
   "metadata": {},
   "outputs": [],
   "source": [
    "#O retorno é uma série\n",
    "\n",
    "A = filmes.title.sort_values()\n",
    "type(A)"
   ]
  },
  {
   "cell_type": "code",
   "execution_count": null,
   "id": "89189497",
   "metadata": {},
   "outputs": [],
   "source": [
    "A"
   ]
  },
  {
   "cell_type": "code",
   "execution_count": null,
   "id": "0bc380eb",
   "metadata": {},
   "outputs": [],
   "source": [
    "#Ordem descendente\n",
    "\n",
    "filmes.title.sort_values(ascending=False).head()"
   ]
  },
  {
   "cell_type": "code",
   "execution_count": null,
   "id": "19c36ab2",
   "metadata": {},
   "outputs": [],
   "source": [
    "#Para ordenar o data frame em si, o sort pode ser aplicado diretamente a ele\n",
    "\n",
    "filmes.sort_values('title',ascending=False).head()"
   ]
  },
  {
   "cell_type": "code",
   "execution_count": null,
   "id": "1d4539f9",
   "metadata": {},
   "outputs": [],
   "source": [
    "#Apenas ordenar não altera o data frame original"
   ]
  },
  {
   "cell_type": "code",
   "execution_count": null,
   "id": "a1a78297",
   "metadata": {},
   "outputs": [],
   "source": [
    "#Ordenando por classificaçãoe duração\n",
    "\n",
    "filmes.sort_values(['genre','duration']).head()"
   ]
  },
  {
   "cell_type": "code",
   "execution_count": null,
   "id": "218b63ec",
   "metadata": {},
   "outputs": [],
   "source": [
    "#Filtrando um data frame"
   ]
  },
  {
   "cell_type": "code",
   "execution_count": null,
   "id": "aeec7917",
   "metadata": {},
   "outputs": [],
   "source": [
    "#Criação de uma lista para saber os filmes duração maior que 180 minutos\n",
    "\n",
    "booleanos = []\n",
    "\n",
    "for length in filmes.duration:\n",
    "    if length >= 200:\n",
    "        booleanos.append(True)\n",
    "    else:\n",
    "        booleanos.append(False)"
   ]
  },
  {
   "cell_type": "code",
   "execution_count": null,
   "id": "cc1e3b4c",
   "metadata": {},
   "outputs": [],
   "source": [
    "booleanos[:20]"
   ]
  },
  {
   "cell_type": "code",
   "execution_count": null,
   "id": "502035bb",
   "metadata": {},
   "outputs": [],
   "source": [
    "#Verificando o tamanho da lista\n",
    "len(booleanos)"
   ]
  },
  {
   "cell_type": "code",
   "execution_count": null,
   "id": "2b9e58ff",
   "metadata": {},
   "outputs": [],
   "source": [
    "#Precisamos converter a lista em uma série para aplicar como filtro de dataframe pandas"
   ]
  },
  {
   "cell_type": "code",
   "execution_count": null,
   "id": "b059f7e0",
   "metadata": {},
   "outputs": [],
   "source": [
    "#Convertendo a lista em série\n",
    "\n",
    "duracao = pd.Series(booleanos)\n",
    "duracao.head()"
   ]
  },
  {
   "cell_type": "code",
   "execution_count": null,
   "id": "88ca82e4",
   "metadata": {},
   "outputs": [],
   "source": [
    "#Podemos usar a notação de colchetes para indexar ou para aplicar filtros de séries booleanas\n",
    "\n",
    "print(filmes['title'][:10])"
   ]
  },
  {
   "cell_type": "code",
   "execution_count": null,
   "id": "b2c68bd5",
   "metadata": {},
   "outputs": [],
   "source": [
    "#Aplicacao de uma série booleana ao data frame, trazendo apenas o que é maior que 200\n",
    "\n",
    "filmes[duracao]"
   ]
  },
  {
   "cell_type": "code",
   "execution_count": null,
   "id": "d1c5a7b7",
   "metadata": {},
   "outputs": [],
   "source": [
    "#Podemos ainda continuar a notação, trazendo apenas as colunas desejadas\n",
    "\n",
    "filmes[duracao][['title','star_rating']]"
   ]
  },
  {
   "cell_type": "code",
   "execution_count": null,
   "id": "99814266",
   "metadata": {},
   "outputs": [],
   "source": [
    "#Forma simplifica, escrevendo em List Comprehension\n",
    "#Nesse caso é criada uma expressão de filtro"
   ]
  },
  {
   "cell_type": "code",
   "execution_count": null,
   "id": "3b2750fb",
   "metadata": {},
   "outputs": [],
   "source": [
    "A = filmes.duration >= 180\n",
    "A.head(20)"
   ]
  },
  {
   "cell_type": "code",
   "execution_count": null,
   "id": "ac624de3",
   "metadata": {},
   "outputs": [],
   "source": [
    "filmes[A].head()"
   ]
  },
  {
   "cell_type": "code",
   "execution_count": null,
   "id": "178f955d",
   "metadata": {},
   "outputs": [],
   "source": [
    "#Escrevendo por list comprehension\n",
    "\n",
    "filmes[filmes.duration >= 180].head()"
   ]
  },
  {
   "cell_type": "code",
   "execution_count": null,
   "id": "0704fd09",
   "metadata": {},
   "outputs": [],
   "source": [
    "#Podemos também retornar outra série com a coluna que desejamos\n",
    "\n",
    "genero_maior_200 = filmes[filmes.duration >= 200].genre #Jogando uma expressão pra dentro de uma lista"
   ]
  },
  {
   "cell_type": "code",
   "execution_count": null,
   "id": "2f566c95",
   "metadata": {},
   "outputs": [],
   "source": [
    "genero_maior_200"
   ]
  },
  {
   "cell_type": "code",
   "execution_count": null,
   "id": "084701d8",
   "metadata": {},
   "outputs": [],
   "source": [
    "type(genero_maior_200)"
   ]
  },
  {
   "cell_type": "code",
   "execution_count": null,
   "id": "f54d834e",
   "metadata": {},
   "outputs": [],
   "source": [
    "#A notação de colchetes pode ser utilizada para fazer a mesma coisa\n",
    "\n",
    "genero_maior_200 = filmes[filmes.duration >= 200]['genre']"
   ]
  },
  {
   "cell_type": "code",
   "execution_count": null,
   "id": "6cd81cc9",
   "metadata": {},
   "outputs": [],
   "source": [
    "genero_maior_200"
   ]
  },
  {
   "cell_type": "code",
   "execution_count": null,
   "id": "6b23525b",
   "metadata": {},
   "outputs": [],
   "source": [
    "#A boa prática, entretanto, é utilizar o método loc, que define uma condição para filtrar por labels\n",
    "#O loc aplica uma expressão por label\n",
    "#Ele sempre retorna uma série, não o data frame\n",
    "\n",
    "filmes.loc[filmes.duration >= 200, 'genre']"
   ]
  }
 ],
 "metadata": {
  "kernelspec": {
   "display_name": "Python 3",
   "language": "python",
   "name": "python3"
  },
  "language_info": {
   "codemirror_mode": {
    "name": "ipython",
    "version": 3
   },
   "file_extension": ".py",
   "mimetype": "text/x-python",
   "name": "python",
   "nbconvert_exporter": "python",
   "pygments_lexer": "ipython3",
   "version": "3.8.8"
  }
 },
 "nbformat": 4,
 "nbformat_minor": 5
}
