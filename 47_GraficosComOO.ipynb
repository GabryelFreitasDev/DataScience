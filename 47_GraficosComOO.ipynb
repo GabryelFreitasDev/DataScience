{
 "cells": [
  {
   "cell_type": "code",
   "execution_count": null,
   "id": "cbcbb8c3",
   "metadata": {},
   "outputs": [],
   "source": [
    "# A principal função dos fráficos é sumarizar, ou seja, mostrar de forma clara e objetiva um resumo visual das informações"
   ]
  },
  {
   "cell_type": "code",
   "execution_count": null,
   "id": "b32a1c5c",
   "metadata": {},
   "outputs": [],
   "source": [
    "import matplotlib.pyplot as plt\n",
    "import random as rd"
   ]
  },
  {
   "cell_type": "code",
   "execution_count": null,
   "id": "5c645c38",
   "metadata": {},
   "outputs": [],
   "source": [
    "%matplotlib inline"
   ]
  },
  {
   "cell_type": "code",
   "execution_count": null,
   "id": "29b124d7",
   "metadata": {},
   "outputs": [],
   "source": [
    "dias = []\n",
    "\n",
    "for i in range(1, 366):\n",
    "    dias.append(i)\n",
    "    \n",
    "func01 = []\n",
    "func02 = []\n",
    "\n",
    "for i in range(1,366):\n",
    "    x = rd.randint(0,100)\n",
    "    func01.append(x)\n",
    "    y = rd.randint(0,100)\n",
    "    func02.append(y)"
   ]
  },
  {
   "cell_type": "code",
   "execution_count": null,
   "id": "48608987",
   "metadata": {},
   "outputs": [],
   "source": [
    "plt.plot(dias, func01, c='red', ls=':')\n",
    "plt.plot(dias, func02, c='blue', ls=':')"
   ]
  },
  {
   "cell_type": "code",
   "execution_count": null,
   "id": "c2b166ba",
   "metadata": {},
   "outputs": [],
   "source": [
    "#Trazendo uma dimensão menor: Meses"
   ]
  },
  {
   "cell_type": "code",
   "execution_count": null,
   "id": "19e81807",
   "metadata": {},
   "outputs": [],
   "source": [
    "meses = []\n",
    "\n",
    "for i in range(1, 31):\n",
    "    meses.append(i)\n",
    "    \n",
    "func01 = []\n",
    "func02 = []\n",
    "func03 = []\n",
    "\n",
    "for i in range(1,31):\n",
    "    x = rd.randint(0,100)\n",
    "    func01.append(x)\n",
    "    y = rd.randint(0,100)\n",
    "    func02.append(y)\n",
    "    z = rd.randint(25,70)\n",
    "    func03.append(z)"
   ]
  },
  {
   "cell_type": "code",
   "execution_count": null,
   "id": "df0dd576",
   "metadata": {},
   "outputs": [],
   "source": [
    "plt.plot(meses, func01, c='red', ls=':')\n",
    "plt.plot(meses, func02, c='blue', ls=':')\n",
    "plt.plot(meses, func03, c='green')"
   ]
  },
  {
   "cell_type": "code",
   "execution_count": null,
   "id": "4075ec7e",
   "metadata": {},
   "outputs": [],
   "source": [
    "#Alterando o estilo do título com fontsize\n",
    "\n",
    "plt.text(11,98,'Texto no gráfico', color='black', style='oblique', fontsize=15) #X, Y, Z\n",
    "\n",
    "plt.plot(meses, func01, c='red', ls=':')\n",
    "plt.plot(meses, func02, c='blue', ls=':')\n",
    "plt.plot(meses, func03, c='green')"
   ]
  },
  {
   "cell_type": "code",
   "execution_count": null,
   "id": "aeaf2615",
   "metadata": {},
   "outputs": [],
   "source": [
    "#Adicionando box\n",
    "\n",
    "plt.text(11,93,'Texto no gráfico', color='black', style='oblique', weight='heavy', \n",
    "         bbox=dict(facecolor='yellow',alpha=0.30)) #X, Y, Z\n",
    "\n",
    "plt.plot(meses, func01, c='red', ls=':')\n",
    "plt.plot(meses, func02, c='blue', ls=':')\n",
    "plt.plot(meses, func03, c='green')"
   ]
  },
  {
   "cell_type": "code",
   "execution_count": null,
   "id": "8ee31f2a",
   "metadata": {},
   "outputs": [],
   "source": [
    "#Adicionando anotações"
   ]
  },
  {
   "cell_type": "code",
   "execution_count": null,
   "id": "1b901a96",
   "metadata": {},
   "outputs": [],
   "source": [
    "plt.annotate(xy=(10,20), xytext=(12,90), text='Anotação', arrowprops=dict(arrowstyle='-'))\n",
    "\n",
    "plt.plot(meses, func01, c='red', ls=':')\n",
    "plt.plot(meses, func02, c='blue', ls=':')\n",
    "plt.plot(meses, func03, c='green')"
   ]
  },
  {
   "cell_type": "markdown",
   "id": "067c227b",
   "metadata": {},
   "source": [
    "## Gráficos orientados a objetos"
   ]
  },
  {
   "cell_type": "code",
   "execution_count": null,
   "id": "72633015",
   "metadata": {},
   "outputs": [],
   "source": [
    "#Criando multigráficos"
   ]
  },
  {
   "cell_type": "code",
   "execution_count": null,
   "id": "b82a83ae",
   "metadata": {},
   "outputs": [],
   "source": [
    "meses = []\n",
    "\n",
    "for i in range(1, 31):\n",
    "    meses.append(i)\n",
    "    \n",
    "func01 = []\n",
    "func02 = []\n",
    "func03 = []\n",
    "\n",
    "for i in range(1,31):\n",
    "    x = rd.randint(0,100)\n",
    "    func01.append(x)\n",
    "    y = rd.randint(0,100)\n",
    "    func02.append(y)\n",
    "    z = rd.randint(25,70)\n",
    "    func03.append(z)"
   ]
  },
  {
   "cell_type": "code",
   "execution_count": null,
   "id": "73ff7cf7",
   "metadata": {},
   "outputs": [],
   "source": [
    "#Multigráficos\n",
    "\n",
    "#(1,3,1) Uma linha / Três colunas / Primeiro gráfico\n",
    "plt.subplot(1,3,1)\n",
    "plt.plot(meses, func01, c='red', ls=':')\n",
    "\n",
    "#(1,3,2) Uma linha / Três colunas / Segundo gráfico\n",
    "plt.subplot(1,3,2)\n",
    "plt.plot(meses, func02, c='blue', ls=':')\n",
    "\n",
    "#(1,3,3) Uma linha / Três colunas / Terceiro gráfico\n",
    "plt.subplot(1,3,3)\n",
    "plt.plot(meses, func03, c='green')"
   ]
  },
  {
   "cell_type": "code",
   "execution_count": null,
   "id": "ac2a5ab5",
   "metadata": {},
   "outputs": [],
   "source": [
    "#Eixos\n",
    "\n",
    "x = [1,2,3,4,5,6,7,8,9,10,11,12]\n",
    "y = [34,65,32,65,67,89,35,65,45,89,56,45]\n",
    "\n",
    "#Trabalhando com orientação a objetos\n",
    "\n",
    "figura = plt.figure() #Instância de um objeto dentro da variável figura\n",
    "                      #O objeto é do tipo gráfico\n",
    "\n",
    "#Esquerda, baixo, direita, alto\n",
    "\n",
    "axes01 = figura.add_axes([0.1,0.1,0.8,0.8]) #Localização exata do gráfico\n",
    "axes01.plot(x,y)                            #Plotagem dentro do gráfico\n",
    "axes01.set_xlabel('Meses')\n",
    "axes01.set_ylabel('Produção')"
   ]
  },
  {
   "cell_type": "code",
   "execution_count": null,
   "id": "1f94c7c4",
   "metadata": {},
   "outputs": [],
   "source": [
    "#Notação orientada a objetos - Gráficos sobrepostos\n",
    "#Eixos\n",
    "\n",
    "meses = [1,2,3,4,5,6,7,8,9,10,11,12]\n",
    "func01 = [34,65,32,65,67,89,35,65,45,89,56,45]\n",
    "func02 = [34,36,32,32,60,23,30,35,26,28,24,30]\n",
    "\n",
    "#Trabalhando com orientação a objetos\n",
    "\n",
    "figura = plt.figure()\n",
    "\n",
    "#Esquerda, baixo, direita, alto\n",
    "\n",
    "axes01 = figura.add_axes([0.1,0.1,0.8,0.8])\n",
    "axes02 = figura.add_axes([0.2,0.5,0.3,0.3])\n",
    "\n",
    "axes01.plot(meses, func01, c='red')\n",
    "axes02.plot(meses, func02)\n",
    "\n",
    "axes01.set_xlabel('Meses')\n",
    "axes01.set_ylabel('Produção')"
   ]
  },
  {
   "cell_type": "code",
   "execution_count": null,
   "id": "7f67a013",
   "metadata": {},
   "outputs": [],
   "source": [
    "#Plotando dois gráficos no mesmo quadro\n",
    "\n",
    "#Descompactando a tupla\n",
    "fig, ax = plt.subplots() #fig é a figura\n",
    "                         #ax é o eixo\n",
    "\n",
    "#Plootando o gráfico 01 e o gráfico 02\n",
    "ax.plot(meses, func01)\n",
    "ax.plot(meses, func02, c='red')"
   ]
  },
  {
   "cell_type": "code",
   "execution_count": null,
   "id": "a26f4957",
   "metadata": {},
   "outputs": [],
   "source": [
    "#Dividindo o gráfico em linhas e colunas\n",
    "\n",
    "fig, ax = plt.subplots(nrows=1, ncols=2)\n",
    "plt.tight_layout()\n",
    "\n",
    "ax[0].plot(meses, func01)\n",
    "ax[1].plot(meses, func02)"
   ]
  },
  {
   "cell_type": "code",
   "execution_count": null,
   "id": "95008d28",
   "metadata": {},
   "outputs": [],
   "source": [
    "#Aumentando o tamanho\n",
    "\n",
    "fig, ax = plt.subplots(nrows=1, ncols=2, figsize=(12,10))\n",
    "\n",
    "plt.tight_layout()\n",
    "\n",
    "ax[0].plot(meses, func01, label='Funcionário 01')\n",
    "ax[1].plot(meses, func02, label='Funcionário 02')"
   ]
  },
  {
   "cell_type": "code",
   "execution_count": null,
   "id": "20520e2b",
   "metadata": {},
   "outputs": [],
   "source": [
    "#Salvando o gráfico\n",
    "\n",
    "fig.savefig('grafico.png')"
   ]
  }
 ],
 "metadata": {
  "kernelspec": {
   "display_name": "Python 3",
   "language": "python",
   "name": "python3"
  },
  "language_info": {
   "codemirror_mode": {
    "name": "ipython",
    "version": 3
   },
   "file_extension": ".py",
   "mimetype": "text/x-python",
   "name": "python",
   "nbconvert_exporter": "python",
   "pygments_lexer": "ipython3",
   "version": "3.8.8"
  }
 },
 "nbformat": 4,
 "nbformat_minor": 5
}
