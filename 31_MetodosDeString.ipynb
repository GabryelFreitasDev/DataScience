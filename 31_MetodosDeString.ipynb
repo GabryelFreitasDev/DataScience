{
 "cells": [
  {
   "cell_type": "code",
   "execution_count": null,
   "id": "2027eb9b",
   "metadata": {},
   "outputs": [],
   "source": [
    "import numpy as np\n",
    "import pandas as pd"
   ]
  },
  {
   "cell_type": "code",
   "execution_count": null,
   "id": "f89eea3d",
   "metadata": {},
   "outputs": [],
   "source": [
    "arquivo = \"C:\\\\Git\\\\DataScience\\\\sanduiches.txt\"\n",
    "vendas = pd.read_table(arquivo)\n",
    "vendas.columns"
   ]
  },
  {
   "cell_type": "code",
   "execution_count": null,
   "id": "a80d6dc7",
   "metadata": {},
   "outputs": [],
   "source": [
    "#Como utilizamos um método de string normalmente (Python puro)?\n",
    "\n",
    "'data science'.upper()"
   ]
  },
  {
   "cell_type": "markdown",
   "id": "d31cf71f",
   "metadata": {},
   "source": [
    "## Os métodos de strings no Pandas são acessados via str"
   ]
  },
  {
   "cell_type": "code",
   "execution_count": null,
   "id": "43ec73f8",
   "metadata": {},
   "outputs": [],
   "source": [
    "vendas.item_name.str.upper().head()"
   ]
  },
  {
   "cell_type": "markdown",
   "id": "9cd3a788",
   "metadata": {},
   "source": [
    "### Procurando um item que contenha frango"
   ]
  },
  {
   "cell_type": "markdown",
   "id": "d8b60ebd",
   "metadata": {},
   "source": [
    "Para isso será necessário criar uma série booleana e aplicá-la ao data frame"
   ]
  },
  {
   "cell_type": "code",
   "execution_count": null,
   "id": "7ae49461",
   "metadata": {},
   "outputs": [],
   "source": [
    "vendas.item_name.str.contains('Chicken').head()"
   ]
  },
  {
   "cell_type": "code",
   "execution_count": null,
   "id": "25b682dc",
   "metadata": {},
   "outputs": [],
   "source": [
    "#Aplicando a série ao data frame de forma direta\n",
    "\n",
    "vendas[vendas.item_name.str.contains('Chicken')].head()"
   ]
  },
  {
   "cell_type": "markdown",
   "id": "17f08276",
   "metadata": {},
   "source": [
    "### Retirando os colchetes da lista de ingredientes"
   ]
  },
  {
   "cell_type": "code",
   "execution_count": null,
   "id": "239403a1",
   "metadata": {},
   "outputs": [],
   "source": [
    "vendas.choice_description.str.replace('[','').str.replace(']','').head(10)"
   ]
  }
 ],
 "metadata": {
  "kernelspec": {
   "display_name": "Python 3",
   "language": "python",
   "name": "python3"
  },
  "language_info": {
   "codemirror_mode": {
    "name": "ipython",
    "version": 3
   },
   "file_extension": ".py",
   "mimetype": "text/x-python",
   "name": "python",
   "nbconvert_exporter": "python",
   "pygments_lexer": "ipython3",
   "version": "3.8.8"
  }
 },
 "nbformat": 4,
 "nbformat_minor": 5
}
