{
 "cells": [
  {
   "cell_type": "code",
   "execution_count": null,
   "id": "d9cc2b0e",
   "metadata": {},
   "outputs": [],
   "source": [
    "#Testes com o Python puro\n",
    "\n",
    "%lsmagic #Comandos mágicos do jupyter abertos com o %"
   ]
  },
  {
   "cell_type": "code",
   "execution_count": null,
   "id": "ee96ee28",
   "metadata": {},
   "outputs": [],
   "source": [
    "#Avaliando 3 + 1\n",
    "\n",
    "%timeit 3 + 1"
   ]
  },
  {
   "cell_type": "code",
   "execution_count": null,
   "id": "7b9e175a",
   "metadata": {},
   "outputs": [],
   "source": [
    "def soma(a,b):\n",
    "    num1 = a\n",
    "    num2 = b\n",
    "    \n",
    "    resultado = num1 + num2\n",
    "    \n",
    "    return resultado"
   ]
  },
  {
   "cell_type": "code",
   "execution_count": null,
   "id": "57d7a630",
   "metadata": {},
   "outputs": [],
   "source": [
    "%timeit soma(3,1)"
   ]
  },
  {
   "cell_type": "code",
   "execution_count": null,
   "id": "aa47cff1",
   "metadata": {},
   "outputs": [],
   "source": [
    "def soma(a,b):\n",
    "    num1 = a\n",
    "    num2 = b\n",
    "    \n",
    "    return num1 + num2"
   ]
  },
  {
   "cell_type": "code",
   "execution_count": null,
   "id": "ae6c6f0d",
   "metadata": {},
   "outputs": [],
   "source": [
    "%timeit soma(3,1)"
   ]
  },
  {
   "cell_type": "code",
   "execution_count": null,
   "id": "3e5fdf4f",
   "metadata": {},
   "outputs": [],
   "source": [
    "def soma(a,b):\n",
    "    return a + b"
   ]
  },
  {
   "cell_type": "code",
   "execution_count": null,
   "id": "e53b14a1",
   "metadata": {},
   "outputs": [],
   "source": [
    "%timeit soma(3,1)"
   ]
  },
  {
   "cell_type": "code",
   "execution_count": null,
   "id": "db88ec47",
   "metadata": {},
   "outputs": [],
   "source": [
    "%%timeit \n",
    "\n",
    "a = []\n",
    "for i in range(10000):\n",
    "    a.append(i + 7)"
   ]
  },
  {
   "cell_type": "code",
   "execution_count": null,
   "id": "73bf123d",
   "metadata": {},
   "outputs": [],
   "source": [
    "%timeit a = [7 + i for i in range(10000)]"
   ]
  },
  {
   "cell_type": "code",
   "execution_count": null,
   "id": "116b5e7e",
   "metadata": {},
   "outputs": [],
   "source": [
    "import numpy as np"
   ]
  },
  {
   "cell_type": "code",
   "execution_count": null,
   "id": "f07f214c",
   "metadata": {},
   "outputs": [],
   "source": [
    "%%timeit\n",
    "\n",
    "a = [7 + np.arange(10000)]"
   ]
  }
 ],
 "metadata": {
  "kernelspec": {
   "display_name": "Python 3",
   "language": "python",
   "name": "python3"
  },
  "language_info": {
   "codemirror_mode": {
    "name": "ipython",
    "version": 3
   },
   "file_extension": ".py",
   "mimetype": "text/x-python",
   "name": "python",
   "nbconvert_exporter": "python",
   "pygments_lexer": "ipython3",
   "version": "3.8.8"
  }
 },
 "nbformat": 4,
 "nbformat_minor": 5
}
