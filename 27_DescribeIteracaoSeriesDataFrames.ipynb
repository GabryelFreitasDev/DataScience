{
 "cells": [
  {
   "cell_type": "code",
   "execution_count": null,
   "id": "8ab62e12",
   "metadata": {},
   "outputs": [],
   "source": [
    "import numpy as np\n",
    "import pandas as pd"
   ]
  },
  {
   "cell_type": "code",
   "execution_count": null,
   "id": "52d96617",
   "metadata": {},
   "outputs": [],
   "source": [
    "colunas_filmes = ['star_rating','title','content_rating','genre','duration','actors_list']\n",
    "\n",
    "file = \"C:\\\\Git\\\\DataScience\\\\movies.csv\"\n",
    "filmes = pd.read_csv(file, header=0,names=colunas_filmes)\n",
    "filmes.columns"
   ]
  },
  {
   "cell_type": "code",
   "execution_count": null,
   "id": "e9e49e97",
   "metadata": {},
   "outputs": [],
   "source": [
    "#Imprimindo todas as linhas de UMA SÉRIE, iterando UMA SÉRIE\n",
    "\n",
    "for item in filmes.title:\n",
    "    print(item)"
   ]
  },
  {
   "cell_type": "code",
   "execution_count": null,
   "id": "466d3433",
   "metadata": {},
   "outputs": [],
   "source": [
    "#Iterando um dataframe com iterrows\n",
    "\n",
    "for indice, linha in filmes.iterrows():\n",
    "    print(indice, linha.title,\" - \",linha.genre,\" - \",linha.star_rating)"
   ]
  },
  {
   "cell_type": "markdown",
   "id": "bea3cacc",
   "metadata": {},
   "source": [
    "## O método describe()"
   ]
  },
  {
   "cell_type": "code",
   "execution_count": null,
   "id": "acedff8b",
   "metadata": {},
   "outputs": [],
   "source": [
    "#Por padrão, são considerados os valores numéricos\n",
    "\n",
    "filmes.describe()"
   ]
  },
  {
   "cell_type": "code",
   "execution_count": null,
   "id": "cc2dfbfc",
   "metadata": {},
   "outputs": [],
   "source": [
    "#Incluindo todas as colunas\n",
    "\n",
    "filmes.describe(include='all')"
   ]
  },
  {
   "cell_type": "code",
   "execution_count": null,
   "id": "07bb1cad",
   "metadata": {},
   "outputs": [],
   "source": [
    "#Descrevendo apenas os tipos solicitados\n",
    "\n",
    "filmes.describe(include=['object','float64'])"
   ]
  }
 ],
 "metadata": {
  "kernelspec": {
   "display_name": "Python 3",
   "language": "python",
   "name": "python3"
  },
  "language_info": {
   "codemirror_mode": {
    "name": "ipython",
    "version": 3
   },
   "file_extension": ".py",
   "mimetype": "text/x-python",
   "name": "python",
   "nbconvert_exporter": "python",
   "pygments_lexer": "ipython3",
   "version": "3.8.8"
  }
 },
 "nbformat": 4,
 "nbformat_minor": 5
}
