{
 "cells": [
  {
   "cell_type": "code",
   "execution_count": null,
   "id": "0de5b940",
   "metadata": {},
   "outputs": [],
   "source": [
    "def leitura(registro):\n",
    "    registro['Nome']  = [] #Adição de uma lista à chave Nome\n",
    "    registro['Idade'] = [] #Adição de uma lista à chave Idade\n",
    "    for i in range (0,5):\n",
    "        print(\"Informe o nome:\")\n",
    "        registro['Nome'].append(input()) #O append pode ser usado porque o Nome é uma lista dentro do dicionário.\n",
    "        print(\"Informe a idade:\")\n",
    "        registro['Idade'].append(int(input())) #O append pode ser usado porque o Idade é uma lista dentro do dicionário.\n",
    "        \n",
    "    return registro"
   ]
  },
  {
   "cell_type": "code",
   "execution_count": null,
   "id": "698fa6ee",
   "metadata": {},
   "outputs": [],
   "source": [
    "registro = {} #Criação de um dicionário vazio\n",
    "leitura(registro)\n",
    "i = 0"
   ]
  }
 ],
 "metadata": {
  "kernelspec": {
   "display_name": "Python 3",
   "language": "python",
   "name": "python3"
  },
  "language_info": {
   "codemirror_mode": {
    "name": "ipython",
    "version": 3
   },
   "file_extension": ".py",
   "mimetype": "text/x-python",
   "name": "python",
   "nbconvert_exporter": "python",
   "pygments_lexer": "ipython3",
   "version": "3.8.8"
  }
 },
 "nbformat": 4,
 "nbformat_minor": 5
}
