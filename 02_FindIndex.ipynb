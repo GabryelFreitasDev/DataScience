{
 "cells": [
  {
   "cell_type": "code",
   "execution_count": 11,
   "id": "3b965de9",
   "metadata": {},
   "outputs": [
    {
     "name": "stdout",
     "output_type": "stream",
     "text": [
      "\"3345.878\n"
     ]
    }
   ],
   "source": [
    "expr = '''Dados de acesso do cliente Universidade dos Dados\n",
    "01/02/2017 \"3345.878.00\"\n",
    "02/02/2017 \"6.088.00\"\n",
    "03/02/2017 \"645.00\"\n",
    "04/02/2017 \"10.876.00\"'''\n",
    "\n",
    "inicio = expr.find('\"')\n",
    "fim    = expr.find('.00\"',inicio)\n",
    "\n",
    "print(expr[inicio:fim])"
   ]
  },
  {
   "cell_type": "code",
   "execution_count": null,
   "id": "69e2502d",
   "metadata": {},
   "outputs": [],
   "source": []
  }
 ],
 "metadata": {
  "kernelspec": {
   "display_name": "Python 3",
   "language": "python",
   "name": "python3"
  },
  "language_info": {
   "codemirror_mode": {
    "name": "ipython",
    "version": 3
   },
   "file_extension": ".py",
   "mimetype": "text/x-python",
   "name": "python",
   "nbconvert_exporter": "python",
   "pygments_lexer": "ipython3",
   "version": "3.8.8"
  }
 },
 "nbformat": 4,
 "nbformat_minor": 5
}
