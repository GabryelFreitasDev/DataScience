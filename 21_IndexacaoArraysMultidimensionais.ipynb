{
 "cells": [
  {
   "cell_type": "code",
   "execution_count": null,
   "id": "3ab98a32",
   "metadata": {},
   "outputs": [],
   "source": [
    "import numpy as np"
   ]
  },
  {
   "cell_type": "code",
   "execution_count": null,
   "id": "e0785493",
   "metadata": {},
   "outputs": [],
   "source": [
    "a = [[1,2,3,4],[5,6,7,8],[10,20,30,40],[50,60,70,80]]\n",
    "\n",
    "array = np.array(a)\n",
    "\n",
    "print(array)"
   ]
  },
  {
   "cell_type": "code",
   "execution_count": null,
   "id": "5112f48b",
   "metadata": {},
   "outputs": [],
   "source": [
    "#Primeira linha do array\n",
    "\n",
    "print(array[0])"
   ]
  },
  {
   "cell_type": "code",
   "execution_count": null,
   "id": "a032e628",
   "metadata": {},
   "outputs": [],
   "source": [
    "#Linha de índice 2\n",
    "\n",
    "print(array[2])"
   ]
  },
  {
   "cell_type": "code",
   "execution_count": null,
   "id": "0bb6d960",
   "metadata": {},
   "outputs": [],
   "source": [
    "#Primeira linha e última coluna\n",
    "\n",
    "print(array[0,-1])"
   ]
  },
  {
   "cell_type": "code",
   "execution_count": null,
   "id": "ab7cbfb5",
   "metadata": {},
   "outputs": [],
   "source": [
    "#Atribuindo valor a uma posição da matriz\n",
    "\n",
    "array[0,0] = 0\n",
    "\n",
    "print(array)"
   ]
  },
  {
   "cell_type": "code",
   "execution_count": null,
   "id": "0f1ed38a",
   "metadata": {},
   "outputs": [],
   "source": [
    "#Pegando os números centrais\n",
    "\n",
    "print(array[1:3,2:4])"
   ]
  },
  {
   "cell_type": "code",
   "execution_count": null,
   "id": "67c4bbfc",
   "metadata": {},
   "outputs": [],
   "source": [
    "#Trazendo somente a última coluna\n",
    "\n",
    "print(array[:,-1])"
   ]
  },
  {
   "cell_type": "code",
   "execution_count": null,
   "id": "09d891ef",
   "metadata": {},
   "outputs": [],
   "source": [
    "#Trazendo somente a última linha\n",
    "\n",
    "print(array[-1,:])"
   ]
  },
  {
   "cell_type": "code",
   "execution_count": null,
   "id": "e5cca16c",
   "metadata": {},
   "outputs": [],
   "source": [
    "#Concatenando arrays multidimensionais\n",
    "\n",
    "A = np.array([[1,2],[3,4]])\n",
    "B = np.array([[5,6]])\n",
    "\n",
    "C = np.concatenate((A,B))\n",
    "\n",
    "print(C)"
   ]
  }
 ],
 "metadata": {
  "kernelspec": {
   "display_name": "Python 3",
   "language": "python",
   "name": "python3"
  },
  "language_info": {
   "codemirror_mode": {
    "name": "ipython",
    "version": 3
   },
   "file_extension": ".py",
   "mimetype": "text/x-python",
   "name": "python",
   "nbconvert_exporter": "python",
   "pygments_lexer": "ipython3",
   "version": "3.8.8"
  }
 },
 "nbformat": 4,
 "nbformat_minor": 5
}
