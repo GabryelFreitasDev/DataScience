{
 "cells": [
  {
   "cell_type": "code",
   "execution_count": null,
   "id": "fa7d0016",
   "metadata": {},
   "outputs": [],
   "source": [
    "import pandas as pd\n",
    "import numpy as np"
   ]
  },
  {
   "cell_type": "code",
   "execution_count": null,
   "id": "b8ce0a15",
   "metadata": {},
   "outputs": [],
   "source": [
    "#Series possui apenas uma dimensão\n",
    "#Equivale a uma lista do numpy\n",
    "\n",
    "numeros = pd.Series([1,2,3,4,5,6,7,8,9,10,11,12])\n",
    "numeros"
   ]
  },
  {
   "cell_type": "code",
   "execution_count": null,
   "id": "f5dc091e",
   "metadata": {},
   "outputs": [],
   "source": [
    "type(numeros)"
   ]
  },
  {
   "cell_type": "code",
   "execution_count": null,
   "id": "d4c6a0dc",
   "metadata": {},
   "outputs": [],
   "source": [
    "numeros.index"
   ]
  },
  {
   "cell_type": "code",
   "execution_count": null,
   "id": "562e75b4",
   "metadata": {},
   "outputs": [],
   "source": [
    "#Criação de uma lista normal usando python puro\n",
    "\n",
    "meses = ['janeiro','fevereiro','março','abril','maio','junho','julho','agosto','setembro','outubro','novembro','dezembro']"
   ]
  },
  {
   "cell_type": "code",
   "execution_count": null,
   "id": "b5275855",
   "metadata": {},
   "outputs": [],
   "source": [
    "#Conversão da lista em série\n",
    "\n",
    "meses_sr = pd.Series(np.arange(1,13), index = meses)\n",
    "meses_sr"
   ]
  },
  {
   "cell_type": "code",
   "execution_count": null,
   "id": "78688e35",
   "metadata": {},
   "outputs": [],
   "source": [
    "meses_sr.index"
   ]
  },
  {
   "cell_type": "code",
   "execution_count": null,
   "id": "c5799281",
   "metadata": {},
   "outputs": [],
   "source": [
    "#Criação de série através de um dicionário - As chaves passam a índices\n",
    "\n",
    "world_cup = {'Brasil':5,'Alemanha':4,'Itália':4,'Argentina':2,'Uruguai':2,'Inglaterra':1,'França':1}"
   ]
  },
  {
   "cell_type": "code",
   "execution_count": null,
   "id": "8f4f2640",
   "metadata": {},
   "outputs": [],
   "source": [
    "#Conversão do dicionário em série\n",
    "\n",
    "world_cup_sr = pd.Series(world_cup)\n",
    "world_cup_sr"
   ]
  },
  {
   "cell_type": "code",
   "execution_count": null,
   "id": "b26fbc66",
   "metadata": {},
   "outputs": [],
   "source": [
    "#Criando uma série definindo o índice\n",
    "\n",
    "world_cup = {'Brasil':5,'Alemanha':4,'Itália':4,'Argentina':2,'Uruguai':2,'Inglaterra':1,'França':1}"
   ]
  },
  {
   "cell_type": "code",
   "execution_count": null,
   "id": "811544ad",
   "metadata": {},
   "outputs": [],
   "source": [
    "world_cup_sr = pd.Series(\n",
    "               world_cup,\n",
    "               index = ['Brasil','Alemanha','Itália','Argentina','Uruguai','Inglaterra','França','Espanha'],\n",
    "               name = 'wcSeries')"
   ]
  },
  {
   "cell_type": "code",
   "execution_count": null,
   "id": "823bc43d",
   "metadata": {},
   "outputs": [],
   "source": [
    "#O NaN é exibido porque o índice espanha não tem correspondência no índice world_cup\n",
    "\n",
    "world_cup_sr"
   ]
  },
  {
   "cell_type": "code",
   "execution_count": null,
   "id": "cc786727",
   "metadata": {},
   "outputs": [],
   "source": [
    "world_cup_sr.index"
   ]
  },
  {
   "cell_type": "code",
   "execution_count": null,
   "id": "269816b0",
   "metadata": {},
   "outputs": [],
   "source": [
    "#O valor da série pode ser trazido a partir do índice\n",
    "\n",
    "world_cup_sr['Brasil']"
   ]
  },
  {
   "cell_type": "code",
   "execution_count": null,
   "id": "85dc4ad8",
   "metadata": {},
   "outputs": [],
   "source": [
    "#Implicitamente, porém, o Python ainda atribui um índice numérico\n",
    "\n",
    "world_cup_sr[0]"
   ]
  },
  {
   "cell_type": "code",
   "execution_count": null,
   "id": "2af474f1",
   "metadata": {},
   "outputs": [],
   "source": [
    "#Os valores podem ser atribuídos por meio de índices númericos ou valorados\n",
    "\n",
    "world_cup_sr['Espanha'] = 1\n",
    "world_cup_sr"
   ]
  },
  {
   "cell_type": "code",
   "execution_count": null,
   "id": "e2f40f67",
   "metadata": {},
   "outputs": [],
   "source": [
    "#Ao usar índices numéricos, podemos fazer slices, como nsa listas e vetores\n",
    "\n",
    "world_cup_sr[1:3]"
   ]
  },
  {
   "cell_type": "code",
   "execution_count": null,
   "id": "fc22ced8",
   "metadata": {},
   "outputs": [],
   "source": [
    "#Podem utilizadas também operações lógicas\n",
    "\n",
    "world_cup_sr[world_cup_sr > 3]"
   ]
  },
  {
   "cell_type": "code",
   "execution_count": null,
   "id": "a15612cb",
   "metadata": {},
   "outputs": [],
   "source": [
    "#Lendo arquivos do Excel\n",
    "\n",
    "arquivo = \"C:\\\\Git\\\\DataScience\\\\Alunos.xlsx\"\n",
    "\n",
    "#Carregando o arquivo\n",
    "\n",
    "xls = pd.ExcelFile(arquivo)\n",
    "\n",
    "#Verificando as planilhas\n",
    "\n",
    "print(xls.sheet_names)"
   ]
  },
  {
   "cell_type": "code",
   "execution_count": null,
   "id": "d1335364",
   "metadata": {},
   "outputs": [],
   "source": [
    "#Carregando a planilha na variável alunos\n",
    "\n",
    "alunos = xls.parse('Alunos')\n",
    "alunos.head()"
   ]
  },
  {
   "cell_type": "code",
   "execution_count": null,
   "id": "b3dc548d",
   "metadata": {},
   "outputs": [],
   "source": [
    "type(alunos)"
   ]
  },
  {
   "cell_type": "code",
   "execution_count": null,
   "id": "8a87b672",
   "metadata": {},
   "outputs": [],
   "source": [
    "#Em DataFrames, os ídices são as colunas\n",
    "\n",
    "alunos['Alunos'][1]"
   ]
  },
  {
   "cell_type": "code",
   "execution_count": null,
   "id": "4012b280",
   "metadata": {},
   "outputs": [],
   "source": [
    "#Dot notation\n",
    "\n",
    "alunos.Alunos[1] #alunos é o dataframe | Alunos é o cabeçalho da coluna"
   ]
  },
  {
   "cell_type": "code",
   "execution_count": null,
   "id": "a5c6dd4d",
   "metadata": {},
   "outputs": [],
   "source": [
    "#Dot notation X colchetes? Preferir sempre usar o colchete\n",
    "#Dot notation não reconhece espaços nos nomes das colunas\n",
    "\n",
    "alunos = xls.parse('Trimestre')\n",
    "alunos.head()"
   ]
  },
  {
   "cell_type": "code",
   "execution_count": null,
   "id": "c543b6d5",
   "metadata": {},
   "outputs": [],
   "source": [
    "alunos['Mês 01'][1]"
   ]
  },
  {
   "cell_type": "code",
   "execution_count": null,
   "id": "a3e42567",
   "metadata": {},
   "outputs": [],
   "source": [
    "#Índice de linhas\n",
    "\n",
    "alunos.index"
   ]
  },
  {
   "cell_type": "code",
   "execution_count": null,
   "id": "16751ecd",
   "metadata": {},
   "outputs": [],
   "source": [
    "#Tamanho do data frame\n",
    "\n",
    "alunos.shape"
   ]
  },
  {
   "cell_type": "code",
   "execution_count": null,
   "id": "4ae014d6",
   "metadata": {},
   "outputs": [],
   "source": [
    "#Verificando as colunas\n",
    "\n",
    "alunos.columns"
   ]
  },
  {
   "cell_type": "code",
   "execution_count": null,
   "id": "2e459826",
   "metadata": {},
   "outputs": [],
   "source": [
    "#Criando uma nova série no data frame\n",
    "\n",
    "'João' + ' ' + 'Nunes'"
   ]
  },
  {
   "cell_type": "code",
   "execution_count": null,
   "id": "6e720bd5",
   "metadata": {},
   "outputs": [],
   "source": [
    "alunos['Nome Completo'] = alunos['Alunos'] + ' ' + alunos['Sobrenome']"
   ]
  },
  {
   "cell_type": "code",
   "execution_count": null,
   "id": "3389810c",
   "metadata": {},
   "outputs": [],
   "source": [
    "alunos"
   ]
  },
  {
   "cell_type": "code",
   "execution_count": null,
   "id": "16ed1018",
   "metadata": {},
   "outputs": [],
   "source": [
    "alunos['Nome Completo'] = alunos.Alunos + ' ' + alunos.Sobrenome"
   ]
  },
  {
   "cell_type": "code",
   "execution_count": null,
   "id": "7ab0c9b0",
   "metadata": {},
   "outputs": [],
   "source": [
    "alunos"
   ]
  }
 ],
 "metadata": {
  "kernelspec": {
   "display_name": "Python 3",
   "language": "python",
   "name": "python3"
  },
  "language_info": {
   "codemirror_mode": {
    "name": "ipython",
    "version": 3
   },
   "file_extension": ".py",
   "mimetype": "text/x-python",
   "name": "python",
   "nbconvert_exporter": "python",
   "pygments_lexer": "ipython3",
   "version": "3.8.8"
  }
 },
 "nbformat": 4,
 "nbformat_minor": 5
}
