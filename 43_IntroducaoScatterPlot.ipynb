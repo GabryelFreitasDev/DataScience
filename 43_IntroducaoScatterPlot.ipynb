{
 "cells": [
  {
   "cell_type": "code",
   "execution_count": null,
   "id": "ade75c50",
   "metadata": {},
   "outputs": [],
   "source": [
    "import matplotlib.pyplot as plt\n",
    "%matplotlib inline"
   ]
  },
  {
   "cell_type": "markdown",
   "id": "c4a335ba",
   "metadata": {},
   "source": [
    "## Scatter Plot "
   ]
  },
  {
   "cell_type": "code",
   "execution_count": null,
   "id": "a991afde",
   "metadata": {},
   "outputs": [],
   "source": [
    "x = []\n",
    "y = []\n",
    "\n",
    "plt.scatter(x,y)"
   ]
  },
  {
   "cell_type": "code",
   "execution_count": null,
   "id": "f80e2359",
   "metadata": {},
   "outputs": [],
   "source": [
    "#Escalas são diferentes de pares ordenados\n",
    "\n",
    "x = [1,2,3,4,5,6,7,8,9,10,11,12,13]\n",
    "y = [2,4,6,8,10,12,14,16,18,20,22,24,26]\n",
    "\n",
    "plt.scatter(x,y)"
   ]
  },
  {
   "cell_type": "code",
   "execution_count": null,
   "id": "b0d4737a",
   "metadata": {},
   "outputs": [],
   "source": [
    "#As séries devem conter os pares ordenados (plots do gráfico), não as escalas\n",
    "\n",
    "x = [1,2,3,4,5,6,7,8,9,10,11,12,13]\n",
    "y = [2,4,4,6,8,10,10,12,14,12,10,10,12]\n",
    "\n",
    "plt.scatter(x,y)"
   ]
  },
  {
   "cell_type": "markdown",
   "id": "26f5a495",
   "metadata": {},
   "source": [
    "## Colocando mais elementos"
   ]
  },
  {
   "cell_type": "code",
   "execution_count": null,
   "id": "cd3765c7",
   "metadata": {},
   "outputs": [],
   "source": [
    "x = []\n",
    "y = []"
   ]
  },
  {
   "cell_type": "code",
   "execution_count": null,
   "id": "f83fe739",
   "metadata": {},
   "outputs": [],
   "source": [
    "for i in range(-50,100):\n",
    "    x.append(i)\n",
    "    y.append(i)"
   ]
  },
  {
   "cell_type": "code",
   "execution_count": null,
   "id": "43f0e223",
   "metadata": {},
   "outputs": [],
   "source": [
    "print(x,y)"
   ]
  },
  {
   "cell_type": "code",
   "execution_count": null,
   "id": "22d6ed33",
   "metadata": {},
   "outputs": [],
   "source": [
    "plt.scatter(x,y)"
   ]
  },
  {
   "cell_type": "markdown",
   "id": "e0af6b35",
   "metadata": {},
   "source": [
    "## Aumentando a distância entre os pontos (pares)  "
   ]
  },
  {
   "cell_type": "code",
   "execution_count": null,
   "id": "f9124b89",
   "metadata": {},
   "outputs": [],
   "source": [
    "x = []\n",
    "y = []\n",
    "\n",
    "for i in range(-50,100,5):\n",
    "    x.append(i)\n",
    "    y.append(i)"
   ]
  },
  {
   "cell_type": "code",
   "execution_count": null,
   "id": "496f8c0f",
   "metadata": {},
   "outputs": [],
   "source": [
    "print(x,y)"
   ]
  },
  {
   "cell_type": "code",
   "execution_count": null,
   "id": "4e7a2fbd",
   "metadata": {},
   "outputs": [],
   "source": [
    "plt.scatter(x,y)"
   ]
  },
  {
   "cell_type": "code",
   "execution_count": null,
   "id": "81722e26",
   "metadata": {},
   "outputs": [],
   "source": [
    "x = []\n",
    "y = []\n",
    "\n",
    "for i in range(-50,100,15):\n",
    "    x.append(i)\n",
    "    y.append(i)"
   ]
  },
  {
   "cell_type": "code",
   "execution_count": null,
   "id": "d7421c1c",
   "metadata": {},
   "outputs": [],
   "source": [
    "plt.scatter(x,y)"
   ]
  },
  {
   "cell_type": "markdown",
   "id": "bf83811b",
   "metadata": {},
   "source": [
    "## Modificando o tamanho dos pares "
   ]
  },
  {
   "cell_type": "code",
   "execution_count": null,
   "id": "caa41096",
   "metadata": {},
   "outputs": [],
   "source": [
    "plt.scatter(x,y, s=100)"
   ]
  },
  {
   "cell_type": "code",
   "execution_count": null,
   "id": "dfc41603",
   "metadata": {},
   "outputs": [],
   "source": [
    "plt.scatter(x,y, s=5)"
   ]
  },
  {
   "cell_type": "markdown",
   "id": "c0175672",
   "metadata": {},
   "source": [
    "## Alterando a cor dos pares "
   ]
  },
  {
   "cell_type": "code",
   "execution_count": null,
   "id": "0bcaab1e",
   "metadata": {},
   "outputs": [],
   "source": [
    "plt.scatter(x,y, s=30, c='green')"
   ]
  },
  {
   "cell_type": "code",
   "execution_count": null,
   "id": "cd638671",
   "metadata": {},
   "outputs": [],
   "source": [
    "plt.scatter(x,y, s=30, c='yellow')"
   ]
  },
  {
   "cell_type": "markdown",
   "id": "3f621873",
   "metadata": {},
   "source": [
    "## Alterando o marcados dos pares"
   ]
  },
  {
   "cell_type": "code",
   "execution_count": null,
   "id": "d8db5d10",
   "metadata": {},
   "outputs": [],
   "source": [
    "plt.scatter(x,y, s=30, c='red', marker='+')"
   ]
  },
  {
   "cell_type": "code",
   "execution_count": null,
   "id": "9ce56d75",
   "metadata": {},
   "outputs": [],
   "source": [
    "plt.scatter(x,y, s=30, c='purple', marker='^')"
   ]
  },
  {
   "cell_type": "code",
   "execution_count": null,
   "id": "d7855a10",
   "metadata": {},
   "outputs": [],
   "source": [
    "plt.scatter(x,y, s=30, c='gray', marker='o')"
   ]
  },
  {
   "cell_type": "markdown",
   "id": "ce76f2fd",
   "metadata": {},
   "source": [
    "## Gráfico multi linhas"
   ]
  },
  {
   "cell_type": "code",
   "execution_count": null,
   "id": "a0aa517c",
   "metadata": {},
   "outputs": [],
   "source": [
    "x = []\n",
    "y = []\n",
    "y2 = []\n",
    "y3 = []\n",
    "\n",
    "for i in range(-50,100,5):\n",
    "    x.append(i)\n",
    "    y.append(i)\n",
    "    y2.append(i * 2)\n",
    "    y3.append(i + 50)"
   ]
  },
  {
   "cell_type": "code",
   "execution_count": null,
   "id": "279afd1c",
   "metadata": {},
   "outputs": [],
   "source": [
    "plt.scatter(x,y, s=100, c='gray', marker='o')\n",
    "plt.scatter(x,y2, s=30, c='purple', marker='^')\n",
    "plt.scatter(x,y3, s=100, c='blue', marker='+')"
   ]
  }
 ],
 "metadata": {
  "kernelspec": {
   "display_name": "Python 3",
   "language": "python",
   "name": "python3"
  },
  "language_info": {
   "codemirror_mode": {
    "name": "ipython",
    "version": 3
   },
   "file_extension": ".py",
   "mimetype": "text/x-python",
   "name": "python",
   "nbconvert_exporter": "python",
   "pygments_lexer": "ipython3",
   "version": "3.8.8"
  }
 },
 "nbformat": 4,
 "nbformat_minor": 5
}
