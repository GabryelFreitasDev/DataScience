{
 "cells": [
  {
   "cell_type": "code",
   "execution_count": null,
   "id": "2538cfd6",
   "metadata": {},
   "outputs": [],
   "source": [
    "#loc: inclusive (linhas,colunas)\n",
    "#Aplicado a labels\n",
    "#Iloc: exclusive (linhas,colunas), localização por índice, última posição exclusiva\n",
    "#Aplicado a inteiros"
   ]
  },
  {
   "cell_type": "code",
   "execution_count": null,
   "id": "ddb0b074",
   "metadata": {},
   "outputs": [],
   "source": [
    "import numpy as np\n",
    "import pandas as pd"
   ]
  },
  {
   "cell_type": "code",
   "execution_count": null,
   "id": "76de5285",
   "metadata": {},
   "outputs": [],
   "source": [
    "file=\"C:\\\\Git\\\\DataScience\\\\ufo.csv\"\n",
    "ufo=pd.read_csv(file)\n",
    "ufo.head()"
   ]
  },
  {
   "cell_type": "markdown",
   "id": "c4d84fde",
   "metadata": {},
   "source": [
    "## Método loc"
   ]
  },
  {
   "cell_type": "markdown",
   "id": "1867de00",
   "metadata": {},
   "source": [
    "O método loc é utilizado para processar linhas e colunas por sua **label**. Nós podemos passar os seguintes parâmetros:\n",
    "* Somente uma label\n",
    "* Uma lista de labels\n",
    "* Um slice de labels\n",
    "* Uma série booleana\n",
    "* Uma coluna (todas as labels)"
   ]
  },
  {
   "cell_type": "code",
   "execution_count": null,
   "id": "87c2a921",
   "metadata": {},
   "outputs": [],
   "source": [
    "#Trazendo a linha 0 e todas as colunas\n",
    "\n",
    "ufo.loc[0,:]"
   ]
  },
  {
   "cell_type": "code",
   "execution_count": null,
   "id": "b0121c73",
   "metadata": {},
   "outputs": [],
   "source": [
    "#linhas 0, 1 e 2 e todas as colunas\n",
    "\n",
    "ufo.loc[[0, 1, 2], :]"
   ]
  },
  {
   "cell_type": "code",
   "execution_count": null,
   "id": "831d563d",
   "metadata": {},
   "outputs": [],
   "source": [
    "#Intervalo inclusivo entre 0 e 2 e todas as colunas\n",
    "\n",
    "ufo.loc[0:2, :]"
   ]
  },
  {
   "cell_type": "code",
   "execution_count": null,
   "id": "03d8dbd3",
   "metadata": {},
   "outputs": [],
   "source": [
    "#A omissão do parâmetro referente a coluna traz todas as colunas por padrão\n",
    "#INCLUSIVO\n",
    "\n",
    "ufo.loc[0:2]"
   ]
  },
  {
   "cell_type": "code",
   "execution_count": null,
   "id": "7b8b5438",
   "metadata": {},
   "outputs": [],
   "source": [
    "#Linha 0 a 2 da coluna city (INCLUSIVO)\n",
    "\n",
    "ufo.loc[0:2,'City']"
   ]
  },
  {
   "cell_type": "code",
   "execution_count": null,
   "id": "5a5bf303",
   "metadata": {},
   "outputs": [],
   "source": [
    "#Linha 0 a 2 da coluna city e state\n",
    "\n",
    "ufo.loc[0:2, ['City', 'State']]"
   ]
  },
  {
   "cell_type": "code",
   "execution_count": null,
   "id": "6206fe42",
   "metadata": {},
   "outputs": [],
   "source": [
    "#Podemos passar uma lista de labels de colunas\n",
    "\n",
    "ufo[['City','State']].head(5)"
   ]
  },
  {
   "cell_type": "code",
   "execution_count": null,
   "id": "5c00c181",
   "metadata": {},
   "outputs": [],
   "source": [
    "#Podemos também passar um intervalo de colunas. Nesse exemplo, city e state\n",
    "\n",
    "ufo.loc[0:2, 'City':'State']"
   ]
  },
  {
   "cell_type": "code",
   "execution_count": null,
   "id": "6c783bc5",
   "metadata": {},
   "outputs": [],
   "source": [
    "#Trazendo a coluna state nas linhas em que a cidade seja Oakland\n",
    "\n",
    "ufo.loc[ufo.City=='Oakland','State']"
   ]
  },
  {
   "cell_type": "code",
   "execution_count": null,
   "id": "6bddaac6",
   "metadata": {},
   "outputs": [],
   "source": [
    "#Podemos chegar ao mesmo resultado utilizando dot notation, mas é melhor o loc\n",
    "#por questões de performance e boa prática\n",
    "\n",
    "ufo.loc[ufo.City=='Oakland'].State"
   ]
  },
  {
   "cell_type": "markdown",
   "id": "1016b99f",
   "metadata": {},
   "source": [
    "## Vamos testar realmente os labels quando nossas linhas não tem índices"
   ]
  },
  {
   "cell_type": "code",
   "execution_count": null,
   "id": "fd6c2418",
   "metadata": {},
   "outputs": [],
   "source": [
    "ufo_labels = ufo.set_index(['State'])"
   ]
  },
  {
   "cell_type": "code",
   "execution_count": null,
   "id": "caa1e615",
   "metadata": {},
   "outputs": [],
   "source": [
    "ufo_labels.head()"
   ]
  },
  {
   "cell_type": "code",
   "execution_count": null,
   "id": "15bfc8c5",
   "metadata": {},
   "outputs": [],
   "source": [
    "ufo_labels.loc['NY','Time'].head(10)"
   ]
  },
  {
   "cell_type": "code",
   "execution_count": null,
   "id": "5ef32d5a",
   "metadata": {},
   "outputs": [],
   "source": [
    "#Tentando realizar o filtro com loc e índices numéricos\n",
    "\n",
    "ufo_labels.loc[0:10,'Time']\n",
    "\n",
    "#O índice numérico não existe mais!!!"
   ]
  },
  {
   "cell_type": "markdown",
   "id": "97479d2e",
   "metadata": {},
   "source": [
    "## Método iloc"
   ]
  },
  {
   "cell_type": "markdown",
   "id": "5d113439",
   "metadata": {},
   "source": [
    "O método iloc é utilizado para selecionar linhas e colunas, porém, diferentemente do loc, onde podemos passar labels, no iloc passamos um inteiro. Iloc vem de índice location\n",
    "\n",
    "* Um inteiro simples\n",
    "* Um lista de inteiros\n",
    "* Um slice de inteiros\n",
    "* Uma coluna (igual à lista de todos os inteiros)"
   ]
  },
  {
   "cell_type": "code",
   "execution_count": null,
   "id": "377ee1c2",
   "metadata": {},
   "outputs": [],
   "source": [
    "#Linhas na posição 0 e 1, colunas na posição 0 e 3\n",
    "\n",
    "ufo.iloc[[0, 1],[0, 3]]"
   ]
  },
  {
   "cell_type": "code",
   "execution_count": null,
   "id": "947c5fc5",
   "metadata": {},
   "outputs": [],
   "source": [
    "#Linhas: intervalo de 0 a 2 (exclusivo) Colunas: intervalo de 0 a 4 (exclusivo)\n",
    "\n",
    "ufo.iloc[0:2, 0:4]"
   ]
  },
  {
   "cell_type": "code",
   "execution_count": null,
   "id": "bd8f72e8",
   "metadata": {},
   "outputs": [],
   "source": [
    "#Linhas de 0 a 4 (exclusivo) e todas as colunas\n",
    "\n",
    "ufo.iloc[0:4, :]"
   ]
  },
  {
   "cell_type": "code",
   "execution_count": null,
   "id": "2792f4dc",
   "metadata": {},
   "outputs": [],
   "source": [
    "#Podemos chegar ao mesmo resultado com notação de brackets, porém é melhor iloc\n",
    "\n",
    "ufo[0:4]"
   ]
  }
 ],
 "metadata": {
  "kernelspec": {
   "display_name": "Python 3",
   "language": "python",
   "name": "python3"
  },
  "language_info": {
   "codemirror_mode": {
    "name": "ipython",
    "version": 3
   },
   "file_extension": ".py",
   "mimetype": "text/x-python",
   "name": "python",
   "nbconvert_exporter": "python",
   "pygments_lexer": "ipython3",
   "version": "3.8.8"
  }
 },
 "nbformat": 4,
 "nbformat_minor": 5
}
