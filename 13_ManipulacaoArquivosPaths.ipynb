{
 "cells": [
  {
   "cell_type": "code",
   "execution_count": null,
   "id": "a1b130c9",
   "metadata": {},
   "outputs": [],
   "source": [
    "#Criação de um arquivo em um diretório específico\n",
    "arquivo = open('c:\\\\Raw\\\\teste.txt','w') #O parâmetro w indica que o arquivo será criado"
   ]
  },
  {
   "cell_type": "code",
   "execution_count": null,
   "id": "427bc335",
   "metadata": {},
   "outputs": [],
   "source": [
    "arquivo.close() #Fechamento do arquivo"
   ]
  },
  {
   "cell_type": "code",
   "execution_count": null,
   "id": "07f4f9a2",
   "metadata": {},
   "outputs": [],
   "source": [
    "arquivo = open('c:\\\\Raw\\\\teste.txt','w')"
   ]
  },
  {
   "cell_type": "code",
   "execution_count": null,
   "id": "320e3203",
   "metadata": {},
   "outputs": [],
   "source": [
    "#Escrevendo alguma coisa no arquivo\n",
    "arquivo.write('Alguma coisa')"
   ]
  },
  {
   "cell_type": "code",
   "execution_count": null,
   "id": "ded91ac5",
   "metadata": {},
   "outputs": [],
   "source": [
    "#Abertura do arquivo em modo leitura e armazenamento em variável\n",
    "arquivo = open('c:\\\\Raw\\\\teste.txt','r')\n",
    "\n",
    "conteudo = arquivo.read()\n",
    "\n",
    "conteudo"
   ]
  },
  {
   "cell_type": "code",
   "execution_count": null,
   "id": "267934e7",
   "metadata": {},
   "outputs": [],
   "source": [
    "arquivo.close() #Fechamento do arquivo"
   ]
  },
  {
   "cell_type": "code",
   "execution_count": 14,
   "id": "57cf46eb",
   "metadata": {},
   "outputs": [],
   "source": [
    "#Escrevendo uma nova linha (INCORRETO)\n",
    "arquivo = open('c:\\\\Raw\\\\teste.txt','w')\n",
    "arquivo.write('\\nOutra coisa')\n",
    "arquivo.close()"
   ]
  },
  {
   "cell_type": "code",
   "execution_count": 15,
   "id": "3d762ad8",
   "metadata": {},
   "outputs": [],
   "source": [
    "#Escrevendo novas linhas com append\n",
    "arquivo = open('c:\\\\Raw\\\\teste.txt','a')\n",
    "arquivo.write('\\nOutra coisa com append')\n",
    "arquivo.close()"
   ]
  },
  {
   "cell_type": "code",
   "execution_count": 16,
   "id": "3efe940b",
   "metadata": {},
   "outputs": [],
   "source": [
    "#Simplificação usando o with\n",
    "\n",
    "with open('c:\\\\Raw\\\\teste.txt','w') as arq:\n",
    "    arq.write('Outra coisa utilizando WITH')\n",
    "    #O arquivo é fechado automaticamente"
   ]
  }
 ],
 "metadata": {
  "kernelspec": {
   "display_name": "Python 3",
   "language": "python",
   "name": "python3"
  },
  "language_info": {
   "codemirror_mode": {
    "name": "ipython",
    "version": 3
   },
   "file_extension": ".py",
   "mimetype": "text/x-python",
   "name": "python",
   "nbconvert_exporter": "python",
   "pygments_lexer": "ipython3",
   "version": "3.8.8"
  }
 },
 "nbformat": 4,
 "nbformat_minor": 5
}
