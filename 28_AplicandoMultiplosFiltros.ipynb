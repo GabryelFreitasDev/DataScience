{
 "cells": [
  {
   "cell_type": "markdown",
   "id": "d48dd96f",
   "metadata": {},
   "source": [
    "## Filtros múltiplos"
   ]
  },
  {
   "cell_type": "code",
   "execution_count": null,
   "id": "7908b6ca",
   "metadata": {},
   "outputs": [],
   "source": [
    "import numpy as np\n",
    "import pandas as pd"
   ]
  },
  {
   "cell_type": "code",
   "execution_count": null,
   "id": "e967a33d",
   "metadata": {},
   "outputs": [],
   "source": [
    "colunas_filmes = ['star_rating','title','content_rating','genre','duration','actors_list']\n",
    "\n",
    "file = \"C:\\\\Git\\\\DataScience\\\\movies.csv\"\n",
    "filmes = pd.read_csv(file, header=0,names=colunas_filmes)\n",
    "filmes.columns"
   ]
  },
  {
   "cell_type": "code",
   "execution_count": null,
   "id": "ce058239",
   "metadata": {},
   "outputs": [],
   "source": [
    "#Filtrando com duração superior a 180 minutos\n",
    "\n",
    "filmes[filmes.duration >= 180]"
   ]
  },
  {
   "cell_type": "code",
   "execution_count": null,
   "id": "b61d9d68",
   "metadata": {},
   "outputs": [],
   "source": [
    "#Operador AND\n",
    "\n",
    "print(True and True)\n",
    "print(True and False)\n",
    "print(False and False)"
   ]
  },
  {
   "cell_type": "code",
   "execution_count": null,
   "id": "17d7a465",
   "metadata": {},
   "outputs": [],
   "source": [
    "#Operador OR\n",
    "\n",
    "print(True or True)\n",
    "print(True or False)\n",
    "print(False or False)"
   ]
  },
  {
   "cell_type": "markdown",
   "id": "419fcc29",
   "metadata": {},
   "source": [
    "## Trazer somente filmes do gênero drama E com duração superior a 200 minutos"
   ]
  },
  {
   "cell_type": "code",
   "execution_count": null,
   "id": "c7db87d5",
   "metadata": {},
   "outputs": [],
   "source": [
    "dramas_longos = filmes[(filmes.duration >= 200) & (filmes.genre == 'Drama')]\n",
    "dramas_longos"
   ]
  },
  {
   "cell_type": "markdown",
   "id": "78fc7140",
   "metadata": {},
   "source": [
    "## Trazer somente os filmes do gênero drama ou com duração superior a 200 minutos"
   ]
  },
  {
   "cell_type": "code",
   "execution_count": null,
   "id": "9118bba4",
   "metadata": {},
   "outputs": [],
   "source": [
    "filmes_longos = filmes[(filmes.duration >= 200) | (filmes.genre == 'Drama')]\n",
    "filmes_longos.head()"
   ]
  },
  {
   "cell_type": "markdown",
   "id": "e7980667",
   "metadata": {},
   "source": [
    "## Trazer os filmes dos gêneros crime, drama ou action"
   ]
  },
  {
   "cell_type": "code",
   "execution_count": null,
   "id": "73fd337b",
   "metadata": {},
   "outputs": [],
   "source": [
    "filmes[(filmes.genre == 'Crime') | (filmes.genre == 'Drama') | (filmes.genre == 'Action')].head(10)"
   ]
  },
  {
   "cell_type": "markdown",
   "id": "b72ce5e3",
   "metadata": {},
   "source": [
    "## Utilizando o método ISIN"
   ]
  },
  {
   "cell_type": "code",
   "execution_count": null,
   "id": "6dda9882",
   "metadata": {},
   "outputs": [],
   "source": [
    "filmes[filmes.star_rating.isin([9.0,9.1,9.2,9.3])]"
   ]
  },
  {
   "cell_type": "code",
   "execution_count": null,
   "id": "c9d3caa2",
   "metadata": {},
   "outputs": [],
   "source": [
    "filmes[filmes.genre.isin(['Crime','Drama','Action'])].head(10)"
   ]
  }
 ],
 "metadata": {
  "kernelspec": {
   "display_name": "Python 3",
   "language": "python",
   "name": "python3"
  },
  "language_info": {
   "codemirror_mode": {
    "name": "ipython",
    "version": 3
   },
   "file_extension": ".py",
   "mimetype": "text/x-python",
   "name": "python",
   "nbconvert_exporter": "python",
   "pygments_lexer": "ipython3",
   "version": "3.8.8"
  }
 },
 "nbformat": 4,
 "nbformat_minor": 5
}
