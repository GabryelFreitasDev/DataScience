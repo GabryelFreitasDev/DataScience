{
 "cells": [
  {
   "cell_type": "code",
   "execution_count": null,
   "id": "d4ca6252",
   "metadata": {},
   "outputs": [],
   "source": [
    "import numpy as np"
   ]
  },
  {
   "cell_type": "code",
   "execution_count": null,
   "id": "2bb53113",
   "metadata": {},
   "outputs": [],
   "source": [
    "A = np.array([[10,20,30],[40,50,60]])"
   ]
  },
  {
   "cell_type": "code",
   "execution_count": null,
   "id": "f25f74a9",
   "metadata": {},
   "outputs": [],
   "source": [
    "A"
   ]
  },
  {
   "cell_type": "code",
   "execution_count": null,
   "id": "1c0a28e1",
   "metadata": {},
   "outputs": [],
   "source": [
    "A.T"
   ]
  },
  {
   "cell_type": "code",
   "execution_count": null,
   "id": "a77256b0",
   "metadata": {},
   "outputs": [],
   "source": [
    "np.transpose(A)"
   ]
  },
  {
   "cell_type": "code",
   "execution_count": null,
   "id": "0e6eec96",
   "metadata": {},
   "outputs": [],
   "source": [
    "#Broadcasting"
   ]
  },
  {
   "cell_type": "code",
   "execution_count": null,
   "id": "790b7e6d",
   "metadata": {},
   "outputs": [],
   "source": [
    "B = np.array([[100,200,300]])"
   ]
  },
  {
   "cell_type": "code",
   "execution_count": null,
   "id": "ec5634fb",
   "metadata": {},
   "outputs": [],
   "source": [
    "B.T"
   ]
  },
  {
   "cell_type": "code",
   "execution_count": null,
   "id": "35233c73",
   "metadata": {},
   "outputs": [],
   "source": [
    "B.T + B"
   ]
  },
  {
   "cell_type": "code",
   "execution_count": null,
   "id": "6af8ecb0",
   "metadata": {},
   "outputs": [],
   "source": [
    "#Convertendo matrizes em arrays"
   ]
  },
  {
   "cell_type": "code",
   "execution_count": null,
   "id": "aecbdc13",
   "metadata": {},
   "outputs": [],
   "source": [
    "A = np.array([np.arange(10,60,10),np.arange(100,150,10)])"
   ]
  },
  {
   "cell_type": "code",
   "execution_count": null,
   "id": "91141055",
   "metadata": {},
   "outputs": [],
   "source": [
    "A"
   ]
  },
  {
   "cell_type": "code",
   "execution_count": null,
   "id": "2d23f38d",
   "metadata": {},
   "outputs": [],
   "source": [
    "A.ravel() #Transforma matriz em array"
   ]
  },
  {
   "cell_type": "code",
   "execution_count": null,
   "id": "ad05709f",
   "metadata": {},
   "outputs": [],
   "source": [
    "A.T.ravel() #Transposta da conversão de matriz em array"
   ]
  },
  {
   "cell_type": "code",
   "execution_count": null,
   "id": "b610b57d",
   "metadata": {},
   "outputs": [],
   "source": [
    "#Operadores lógicos"
   ]
  },
  {
   "cell_type": "code",
   "execution_count": null,
   "id": "2184866a",
   "metadata": {},
   "outputs": [],
   "source": [
    "array = np.random.randint(1,10,size=(4,4))"
   ]
  },
  {
   "cell_type": "code",
   "execution_count": null,
   "id": "0a007123",
   "metadata": {},
   "outputs": [],
   "source": [
    "array"
   ]
  },
  {
   "cell_type": "code",
   "execution_count": null,
   "id": "bdd568ce",
   "metadata": {},
   "outputs": [],
   "source": [
    "np.any((array % 7) == 0) #Any = algum elemento"
   ]
  },
  {
   "cell_type": "code",
   "execution_count": null,
   "id": "72e14ad4",
   "metadata": {},
   "outputs": [],
   "source": [
    "np.all(array < 11)      #All = todos os elementos"
   ]
  },
  {
   "cell_type": "code",
   "execution_count": null,
   "id": "0af6c258",
   "metadata": {},
   "outputs": [],
   "source": [
    "#Reshaping"
   ]
  },
  {
   "cell_type": "code",
   "execution_count": null,
   "id": "7968f62b",
   "metadata": {},
   "outputs": [],
   "source": [
    "array = np.arange(1,16)"
   ]
  },
  {
   "cell_type": "code",
   "execution_count": null,
   "id": "d657177d",
   "metadata": {},
   "outputs": [],
   "source": [
    "array"
   ]
  },
  {
   "cell_type": "code",
   "execution_count": null,
   "id": "255ba3a5",
   "metadata": {},
   "outputs": [],
   "source": [
    "array.reshape(3,5) #Transformando o array em uma matriz com o mesmo número de elementos"
   ]
  },
  {
   "cell_type": "code",
   "execution_count": null,
   "id": "a09fb266",
   "metadata": {},
   "outputs": [],
   "source": [
    "#Ordenando o array"
   ]
  },
  {
   "cell_type": "code",
   "execution_count": null,
   "id": "f5c611f3",
   "metadata": {},
   "outputs": [],
   "source": [
    "array = np.array([[3,2],[10,-1]])"
   ]
  },
  {
   "cell_type": "code",
   "execution_count": null,
   "id": "0ba18570",
   "metadata": {},
   "outputs": [],
   "source": [
    "array"
   ]
  },
  {
   "cell_type": "code",
   "execution_count": null,
   "id": "22ef1e42",
   "metadata": {},
   "outputs": [],
   "source": [
    "#Ordenando por linhas\n",
    "\n",
    "array.sort(axis = 1)"
   ]
  },
  {
   "cell_type": "code",
   "execution_count": null,
   "id": "418e09f1",
   "metadata": {},
   "outputs": [],
   "source": [
    "array"
   ]
  },
  {
   "cell_type": "code",
   "execution_count": null,
   "id": "ef79401c",
   "metadata": {},
   "outputs": [],
   "source": [
    "array = np.array([[3,2],[10,-1]])"
   ]
  },
  {
   "cell_type": "code",
   "execution_count": null,
   "id": "de441333",
   "metadata": {},
   "outputs": [],
   "source": [
    "array"
   ]
  },
  {
   "cell_type": "code",
   "execution_count": null,
   "id": "17765827",
   "metadata": {},
   "outputs": [],
   "source": [
    "#Ordenando por colunas\n",
    "\n",
    "array.sort(axis = 1)"
   ]
  },
  {
   "cell_type": "code",
   "execution_count": null,
   "id": "b8efd14a",
   "metadata": {},
   "outputs": [],
   "source": [
    "array"
   ]
  }
 ],
 "metadata": {
  "kernelspec": {
   "display_name": "Python 3",
   "language": "python",
   "name": "python3"
  },
  "language_info": {
   "codemirror_mode": {
    "name": "ipython",
    "version": 3
   },
   "file_extension": ".py",
   "mimetype": "text/x-python",
   "name": "python",
   "nbconvert_exporter": "python",
   "pygments_lexer": "ipython3",
   "version": "3.8.8"
  }
 },
 "nbformat": 4,
 "nbformat_minor": 5
}
