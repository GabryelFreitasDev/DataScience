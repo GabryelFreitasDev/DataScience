{
 "cells": [
  {
   "cell_type": "code",
   "execution_count": null,
   "id": "33b7fc1b",
   "metadata": {},
   "outputs": [],
   "source": [
    "import numpy as np\n",
    "import pandas as pd"
   ]
  },
  {
   "cell_type": "code",
   "execution_count": null,
   "id": "d595d189",
   "metadata": {},
   "outputs": [],
   "source": [
    "file=\"C:\\\\Git\\\\DataScience\\\\ufo.csv\"\n",
    "ufo=pd.read_csv(file)\n",
    "ufo.head()"
   ]
  },
  {
   "cell_type": "code",
   "execution_count": null,
   "id": "33ced6de",
   "metadata": {},
   "outputs": [],
   "source": [
    "ufo.dtypes"
   ]
  },
  {
   "cell_type": "markdown",
   "id": "03460163",
   "metadata": {},
   "source": [
    "## Utilizando métodos string para acessar as posições da data"
   ]
  },
  {
   "cell_type": "code",
   "execution_count": null,
   "id": "efae172e",
   "metadata": {},
   "outputs": [],
   "source": [
    "#Porém essa abordagem não é 100% segura\n",
    "\n",
    "ufo.Time.str.slice(-5, -3).astype(int).head()"
   ]
  },
  {
   "cell_type": "code",
   "execution_count": null,
   "id": "7e7a71ab",
   "metadata": {},
   "outputs": [],
   "source": [
    "#Vamos converter a coluna time para datetime\n",
    "\n",
    "ufo['Time'] = pd.to_datetime(ufo.Time)\n",
    "ufo.head()"
   ]
  },
  {
   "cell_type": "code",
   "execution_count": null,
   "id": "aa972af1",
   "metadata": {},
   "outputs": [],
   "source": [
    "ufo.dtypes"
   ]
  },
  {
   "cell_type": "markdown",
   "id": "2fadb273",
   "metadata": {},
   "source": [
    "## Com uma coluna do tipo datetime, temos métodos muito melhores"
   ]
  },
  {
   "cell_type": "code",
   "execution_count": null,
   "id": "fd967f9b",
   "metadata": {},
   "outputs": [],
   "source": [
    "#Selecionando a hora\n",
    "\n",
    "ufo.Time.dt.hour.head()"
   ]
  },
  {
   "cell_type": "code",
   "execution_count": null,
   "id": "e39665e4",
   "metadata": {},
   "outputs": [],
   "source": [
    "#Verificando o dia da semana da data\n",
    "\n",
    "ufo.Time.dt.weekday.head()"
   ]
  },
  {
   "cell_type": "code",
   "execution_count": null,
   "id": "7180194e",
   "metadata": {},
   "outputs": [],
   "source": [
    "#Verificando o dia do ano da data\n",
    "\n",
    "ufo.Time.dt.dayofyear.head()"
   ]
  },
  {
   "cell_type": "markdown",
   "id": "2fda0cbb",
   "metadata": {},
   "source": [
    "## Como funciona a conversão"
   ]
  },
  {
   "cell_type": "code",
   "execution_count": null,
   "id": "b58a5902",
   "metadata": {},
   "outputs": [],
   "source": [
    "#O resultado é um timestamp\n",
    "\n",
    "ts = pd.to_datetime('31/1/1999')\n",
    "ts"
   ]
  },
  {
   "cell_type": "code",
   "execution_count": null,
   "id": "5361996e",
   "metadata": {},
   "outputs": [],
   "source": [
    "#Comparando uma série datetime com timestamp\n",
    "\n",
    "ufo.loc[ufo.Time >= ts, :].head()"
   ]
  },
  {
   "cell_type": "code",
   "execution_count": null,
   "id": "08ce3e1b",
   "metadata": {},
   "outputs": [],
   "source": [
    "#Encontrando a maior data\n",
    "\n",
    "maxima = ufo.Time.max()\n",
    "maxima"
   ]
  },
  {
   "cell_type": "code",
   "execution_count": null,
   "id": "f7f137c0",
   "metadata": {},
   "outputs": [],
   "source": [
    "#Encontrando a menor data\n",
    "\n",
    "minima = ufo.Time.min()\n",
    "minima"
   ]
  },
  {
   "cell_type": "code",
   "execution_count": null,
   "id": "6a552a5d",
   "metadata": {},
   "outputs": [],
   "source": [
    "#Podemos fazer operações matemáticas\n",
    "\n",
    "td = maxima - minima\n",
    "td"
   ]
  },
  {
   "cell_type": "code",
   "execution_count": null,
   "id": "6bca2837",
   "metadata": {},
   "outputs": [],
   "source": [
    "#O tipo timedelta também tem atributos que podem ser acessados com tab\n",
    "\n",
    "td."
   ]
  },
  {
   "cell_type": "markdown",
   "id": "4fe85209",
   "metadata": {},
   "source": [
    "## Criando um gráfico de aparições de UFO ao longo dos anos"
   ]
  },
  {
   "cell_type": "code",
   "execution_count": null,
   "id": "5b4f51fc",
   "metadata": {},
   "outputs": [],
   "source": [
    "#Utilizando matplotlib\n",
    "\n",
    "%matplotlib inline"
   ]
  },
  {
   "cell_type": "code",
   "execution_count": null,
   "id": "d5f0aaf1",
   "metadata": {},
   "outputs": [],
   "source": [
    "#Criando a coluna year utilizando os métodos do tipo dt\n",
    "\n",
    "ufo['Year']=ufo.Time.dt.year"
   ]
  },
  {
   "cell_type": "code",
   "execution_count": null,
   "id": "32a66c40",
   "metadata": {},
   "outputs": [],
   "source": [
    "#Verificando a coluna\n",
    "\n",
    "ufo.head()"
   ]
  },
  {
   "cell_type": "code",
   "execution_count": null,
   "id": "d1e66ac6",
   "metadata": {},
   "outputs": [],
   "source": [
    "#Contando os valores de aparições por ano\n",
    "\n",
    "ufo.Year.value_counts().head()"
   ]
  },
  {
   "cell_type": "code",
   "execution_count": null,
   "id": "95135bfa",
   "metadata": {},
   "outputs": [],
   "source": [
    "#Precisamos ordenar os valores dos anos\n",
    "\n",
    "ufo.Year.value_counts().sort_index().tail(10)"
   ]
  },
  {
   "cell_type": "code",
   "execution_count": null,
   "id": "bec46bb2",
   "metadata": {},
   "outputs": [],
   "source": [
    "#Plotando o gráfico\n",
    "\n",
    "ufo.Year.value_counts().sort_index().plot()"
   ]
  }
 ],
 "metadata": {
  "kernelspec": {
   "display_name": "Python 3",
   "language": "python",
   "name": "python3"
  },
  "language_info": {
   "codemirror_mode": {
    "name": "ipython",
    "version": 3
   },
   "file_extension": ".py",
   "mimetype": "text/x-python",
   "name": "python",
   "nbconvert_exporter": "python",
   "pygments_lexer": "ipython3",
   "version": "3.8.8"
  }
 },
 "nbformat": 4,
 "nbformat_minor": 5
}
