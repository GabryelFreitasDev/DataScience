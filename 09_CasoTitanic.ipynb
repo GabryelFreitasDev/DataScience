{
 "cells": [
  {
   "cell_type": "code",
   "execution_count": null,
   "id": "11bb4a53",
   "metadata": {},
   "outputs": [],
   "source": [
    "#Leitura do arquivo para dentro de uma variável em memória\n",
    "titanic_csv = open('titanic.csv','r')"
   ]
  },
  {
   "cell_type": "code",
   "execution_count": null,
   "id": "3da3e667",
   "metadata": {},
   "outputs": [],
   "source": [
    "#Identificação de cada uma das linhas do arquivo, criando uma lista de linhas\n",
    "titanic_csv.readlines()"
   ]
  },
  {
   "cell_type": "code",
   "execution_count": null,
   "id": "6e75c8ba",
   "metadata": {},
   "outputs": [],
   "source": [
    "#Após ler um arquivo, não é possível ler novamente. Para que seja possível,\n",
    "#é necessário utilizar a função seek, que retorna o ponteiro para o início\n",
    "#da lista.\n",
    "titanic_csv.seek(0)"
   ]
  },
  {
   "cell_type": "code",
   "execution_count": null,
   "id": "38a56205",
   "metadata": {},
   "outputs": [],
   "source": [
    "#As linhas são jogadas para a variável linhas\n",
    "linhas = titanic_csv.readlines()"
   ]
  },
  {
   "cell_type": "code",
   "execution_count": null,
   "id": "e495fa7e",
   "metadata": {},
   "outputs": [],
   "source": [
    "#Após a leitura das linhas para a variável linhas, o arquivo pode ser fechado\n",
    "#A memória é liberada\n",
    "titanic_csv.close()"
   ]
  },
  {
   "cell_type": "code",
   "execution_count": null,
   "id": "e1c66010",
   "metadata": {},
   "outputs": [],
   "source": [
    "#Separação da string dos cabeçalhos do arquivo. Cada coluna se tornará a chave\n",
    "#de um dicionário posteriormente\n",
    "colunas = linhas[0].split(',')"
   ]
  },
  {
   "cell_type": "code",
   "execution_count": null,
   "id": "2005f2ed",
   "metadata": {},
   "outputs": [],
   "source": [
    "# Variável dados recebe a a primeira linha de dados após o cabeçalho\n",
    "dados = linhas[1].split(',')"
   ]
  },
  {
   "cell_type": "code",
   "execution_count": null,
   "id": "0a09b4a1",
   "metadata": {},
   "outputs": [],
   "source": [
    "print(colunas)\n",
    "print(dados)"
   ]
  },
  {
   "cell_type": "code",
   "execution_count": null,
   "id": "a545c16a",
   "metadata": {},
   "outputs": [],
   "source": [
    "#O print pode ser indexado também\n",
    "print(colunas[0])\n",
    "print(dados[0])"
   ]
  },
  {
   "cell_type": "code",
   "execution_count": null,
   "id": "71ede0b7",
   "metadata": {},
   "outputs": [],
   "source": [
    "import re #Biblioteca de regex expression para utilizar expressões regulares\n",
    "#Site para expressões regulares https://www.regexpal.com/\n",
    "match = re.compile(r'\"(.*)(,)(\\s.*)\"')\n",
    "#Onde:\n",
    "# (.*) = Pega todos os caracteres antes da vírgula\n",
    "#(,) = Pega a vírgula\n",
    "#(\\s.*) = Pega todos os caracteres depois do espaço\n",
    "match.sub(r'\"\\3 \\1\"',linhas[1]) #Aplicação da expressão regular para todas as linhas\n",
    "#Onde:\n",
    "# /3 = Terceiro bloco da primeiraa expressão regular\n",
    "# /1 = Primeiro bloco da primeira expressão regular"
   ]
  },
  {
   "cell_type": "code",
   "execution_count": null,
   "id": "e6ab3e21",
   "metadata": {},
   "outputs": [],
   "source": []
  }
 ],
 "metadata": {
  "kernelspec": {
   "display_name": "Python 3",
   "language": "python",
   "name": "python3"
  },
  "language_info": {
   "codemirror_mode": {
    "name": "ipython",
    "version": 3
   },
   "file_extension": ".py",
   "mimetype": "text/x-python",
   "name": "python",
   "nbconvert_exporter": "python",
   "pygments_lexer": "ipython3",
   "version": "3.8.8"
  }
 },
 "nbformat": 4,
 "nbformat_minor": 5
}
