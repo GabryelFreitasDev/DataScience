{
 "cells": [
  {
   "cell_type": "code",
   "execution_count": null,
   "id": "11bb4a53",
   "metadata": {},
   "outputs": [],
   "source": [
    "#Leitura do arquivo para dentro de uma variável em memória\n",
    "titanic_csv = open('titanic.csv','r')"
   ]
  },
  {
   "cell_type": "code",
   "execution_count": null,
   "id": "3da3e667",
   "metadata": {},
   "outputs": [],
   "source": [
    "#Identificação de cada uma das linhas do arquivo, criando uma lista de linhas\n",
    "titanic_csv.readlines()"
   ]
  },
  {
   "cell_type": "code",
   "execution_count": null,
   "id": "6e75c8ba",
   "metadata": {},
   "outputs": [],
   "source": [
    "#Após ler um arquivo, não é possível ler novamente. Para que seja possível,\n",
    "#é necessário utilizar a função seek, que retorna o ponteiro para o início\n",
    "#da lista.\n",
    "titanic_csv.seek(0)"
   ]
  },
  {
   "cell_type": "code",
   "execution_count": null,
   "id": "38a56205",
   "metadata": {},
   "outputs": [],
   "source": [
    "#As linhas são jogadas para a variável linhas\n",
    "linhas = titanic_csv.readlines()"
   ]
  },
  {
   "cell_type": "code",
   "execution_count": null,
   "id": "e495fa7e",
   "metadata": {},
   "outputs": [],
   "source": [
    "#Após a leitura das linhas para a variável linhas, o arquivo pode ser fechado\n",
    "#A memória é liberada\n",
    "titanic_csv.close()"
   ]
  },
  {
   "cell_type": "code",
   "execution_count": null,
   "id": "e1c66010",
   "metadata": {},
   "outputs": [],
   "source": [
    "#Separação da string dos cabeçalhos do arquivo. Cada coluna se tornará a chave\n",
    "#de um dicionário posteriormente\n",
    "colunas = linhas[0].split(',')"
   ]
  },
  {
   "cell_type": "code",
   "execution_count": null,
   "id": "2005f2ed",
   "metadata": {},
   "outputs": [],
   "source": [
    "# Variável dados recebe a a primeira linha de dados após o cabeçalho\n",
    "dados = linhas[1].split(',')"
   ]
  },
  {
   "cell_type": "code",
   "execution_count": null,
   "id": "0a09b4a1",
   "metadata": {},
   "outputs": [],
   "source": [
    "print(colunas)\n",
    "print(dados)"
   ]
  },
  {
   "cell_type": "code",
   "execution_count": null,
   "id": "a545c16a",
   "metadata": {},
   "outputs": [],
   "source": [
    "#O print pode ser indexado também\n",
    "print(colunas[0])\n",
    "print(dados[0])"
   ]
  },
  {
   "cell_type": "code",
   "execution_count": null,
   "id": "71ede0b7",
   "metadata": {},
   "outputs": [],
   "source": [
    "import re #Biblioteca de regex expression para utilizar expressões regulares\n",
    "#Site para expressões regulares https://www.regexpal.com/\n",
    "match = re.compile(r'\"(.*)(,)(\\s.*)\"')\n",
    "#Onde:\n",
    "# (.*) = Pega todos os caracteres antes da vírgula\n",
    "#(,) = Pega a vírgula\n",
    "#(\\s.*) = Pega todos os caracteres depois do espaço\n",
    "match.sub(r'\"\\3 \\1\"',linhas[1]) #Aplicação da expressão regular para a linha 1\n",
    "#Onde:\n",
    "# /3 = Terceiro bloco da primeiraa expressão regular\n",
    "# /1 = Primeiro bloco da primeira expressão regular"
   ]
  },
  {
   "cell_type": "code",
   "execution_count": null,
   "id": "e6ab3e21",
   "metadata": {},
   "outputs": [],
   "source": [
    "#Função para remover vírgulas dos nomes e troca nomes com posições invertidas\n",
    "def tratar_nome(linha):\n",
    "    import re\n",
    "    match = re.compile(r'\"(.*)(,)(\\s.*)\"')\n",
    "    return match.sub(r'\"\\3 \\1\"',linha)"
   ]
  },
  {
   "cell_type": "code",
   "execution_count": null,
   "id": "8004b77f",
   "metadata": {},
   "outputs": [],
   "source": [
    "#Teste da função na linha 1\n",
    "tratar_nome(linhas[1])"
   ]
  },
  {
   "cell_type": "code",
   "execution_count": null,
   "id": "02b0921e",
   "metadata": {},
   "outputs": [],
   "source": [
    "#Exemplos de chamada da função\n",
    "linha1_tratada = tratar_nome(linhas[1])\n",
    "linha1_separada = linha1_tratada.split(',') #Split não vale para listas: apenas para strings\n",
    "print(colunas)\n",
    "print(linha1_tratada)  #linha1_tratada é string\n",
    "print(linha1_separada) #linha1_separada é lista"
   ]
  },
  {
   "cell_type": "code",
   "execution_count": null,
   "id": "e7ce1070",
   "metadata": {},
   "outputs": [],
   "source": [
    "#Criação de um dicionário que recebe a coluna como chave e uma lista vazia como valores"
   ]
  },
  {
   "cell_type": "code",
   "execution_count": null,
   "id": "d66651b3",
   "metadata": {},
   "outputs": [],
   "source": [
    "#As chaves e os valores são criados como vazios\n",
    "titanic_dados = {} #Criação do dicionário vazio\n",
    "\n",
    "for coluna in colunas: #colunas representa todos os cabeçalhos\n",
    "    titanic_dados[coluna] = [] #Cada coluna (chave) recebe uma lista vazia\n",
    "\n",
    "titanic_dados"
   ]
  },
  {
   "cell_type": "code",
   "execution_count": null,
   "id": "e2236d23",
   "metadata": {},
   "outputs": [],
   "source": [
    "#Tratamento de todas as linhas do dataset por meio da função tratar_nome\n",
    "for dado in linhas[1:]: #A linha 0 é excluída porque é o cabeçalho\n",
    "    dado_tratado = tratar_nome(dado)\n",
    "    print(dado_tratado)\n",
    "#O resultado do loop é uma string"
   ]
  },
  {
   "cell_type": "code",
   "execution_count": null,
   "id": "28b2ad4d",
   "metadata": {},
   "outputs": [],
   "source": [
    "#Conversão da string em uma lista (que pode ser indexada) de valores\n",
    "for dado in linhas[1:]:\n",
    "    dado_tratado = tratar_nome(dado)\n",
    "    dado_como_lista = dado_tratado.split(',')\n",
    "print(dado_como_lista)"
   ]
  },
  {
   "cell_type": "code",
   "execution_count": null,
   "id": "04035783",
   "metadata": {},
   "outputs": [],
   "source": [
    "#Repetição dos passos anteriores, porém armazenando o retorno do split em uma lista para adicionar cada linha convertida em\n",
    "#lista, fazendo uma lista aninhada\n",
    "dados_tratados = [] #No final, teremos uma lista com várias listas [ [n,s,i], [n,s,i], [n,s,i], [n,s,i]]\n",
    "                    #                                               0 0 1 2  1 0 1 2  2 0 1 2  3 0 1 2 =>posições\n",
    "\n",
    "for dado in linhas[1:]:\n",
    "    dado_tratado    = tratar_nome(dado)\n",
    "    dado_como_lista = dado_tratado.split(',')\n",
    "    dados_tratados.append(dado_como_lista)"
   ]
  },
  {
   "cell_type": "code",
   "execution_count": null,
   "id": "cc118d5f",
   "metadata": {},
   "outputs": [],
   "source": [
    "#Correlação de linhas e colunas\n",
    "print(colunas[1], colunas[3])\n",
    "print(dados_tratados[1][1], dados_tratados[1][3])"
   ]
  },
  {
   "cell_type": "code",
   "execution_count": null,
   "id": "c459644e",
   "metadata": {},
   "outputs": [],
   "source": [
    "#Loop que percorre os dados tratados, considerando o mesmo índice para impressão dos nomes dos passageiros\n",
    "for passageiro in dados_tratados:\n",
    "    print(colunas[3], passageiro[3], colunas[5], passageiro[5], colunas[4], passageiro[4])"
   ]
  },
  {
   "cell_type": "code",
   "execution_count": null,
   "id": "e0503fba",
   "metadata": {},
   "outputs": [],
   "source": [
    "#Exemplo de utilização do enumerate para retorno do índice do elemento\n",
    "frutas = ['mamão', 'melão','melancia']\n",
    "\n",
    "for indice, fruta in enumerate(frutas):\n",
    "    print('Fruta:',fruta,'no índice: ', indice)"
   ]
  },
  {
   "cell_type": "code",
   "execution_count": null,
   "id": "9dde2c0a",
   "metadata": {},
   "outputs": [],
   "source": [
    "#Pegando os índices para correlacionar as colunas\n",
    "for passageiro in dados_tratados:\n",
    "    print(passageiro)\n",
    "    for indice, dado in enumerate(passageiro):\n",
    "        print('Índice:', indice,'Dado:',dado)"
   ]
  },
  {
   "cell_type": "code",
   "execution_count": null,
   "id": "d9bd604a",
   "metadata": {},
   "outputs": [],
   "source": [
    "# 1. Pegar cada linha da variável dados_tratados e colocar em passageiro\n",
    "# 2. For para pegar o índice e o restante dos dados\n",
    "# 3. Na variável coluna pego a colua no respectivo índice\n",
    "\n",
    "for passageiro in dados_tratados:\n",
    "    for indice, dado in enumerate(passageiro): #Enumarate retorna índice e valor\n",
    "        coluna = colunas[indice]\n",
    "        print(coluna,dado)"
   ]
  },
  {
   "cell_type": "code",
   "execution_count": null,
   "id": "935cfc5b",
   "metadata": {},
   "outputs": [],
   "source": [
    "#Preenchimento do dicionário com os valores correlacionados\n",
    "for passageiro in dados_tratados:\n",
    "    for indice, dado in enumerate(passageiro):\n",
    "        coluna = colunas[indice]\n",
    "        titanic_dados[coluna].append(dado)"
   ]
  },
  {
   "cell_type": "code",
   "execution_count": null,
   "id": "63f6406d",
   "metadata": {},
   "outputs": [],
   "source": [
    "#Loop para conversão das idades em float\n",
    "for indice, age in enumerate(titanic_dados[\"Age\"]):\n",
    "    if titanic_dados[\"Age\"][indice] != '':\n",
    "        titanic_dados[\"Age\"][indice] = float(age)\n",
    "    else:\n",
    "        titanic_dados[\"Age\"][indice] = -1"
   ]
  },
  {
   "cell_type": "code",
   "execution_count": null,
   "id": "db7b1a0a",
   "metadata": {},
   "outputs": [],
   "source": [
    "#Preenchendo a lista de idades\n",
    "lista_idades = []\n",
    "    \n",
    "for idade in titanic_dados[\"Age\"]:\n",
    "    if idade != -1:\n",
    "        lista_idades.append(idade)"
   ]
  },
  {
   "cell_type": "code",
   "execution_count": null,
   "id": "b2312a2b",
   "metadata": {},
   "outputs": [],
   "source": [
    "#Função para soma e contagem das idades\n",
    "def media(lista):\n",
    "    soma_total = sum(lista)\n",
    "    quantidade = len(lista)\n",
    "    \n",
    "    return soma_total / quantidade"
   ]
  },
  {
   "cell_type": "code",
   "execution_count": null,
   "id": "338e8763",
   "metadata": {},
   "outputs": [],
   "source": [
    "print(\"A média de idade dos passageiros é \",media(lista_idades))"
   ]
  },
  {
   "cell_type": "code",
   "execution_count": null,
   "id": "36b8abd8",
   "metadata": {},
   "outputs": [],
   "source": [
    "media_idades = media(lista_idades)"
   ]
  },
  {
   "cell_type": "code",
   "execution_count": null,
   "id": "0f2bb56e",
   "metadata": {},
   "outputs": [],
   "source": [
    "for indice, age in enumerate(titanic_dados[\"Age\"]):\n",
    "    if age == -1:\n",
    "        titanic_dados[\"Age\"][indice] = media_idades"
   ]
  },
  {
   "cell_type": "code",
   "execution_count": null,
   "id": "b6edd819",
   "metadata": {},
   "outputs": [],
   "source": [
    "#Importando pandas"
   ]
  },
  {
   "cell_type": "code",
   "execution_count": null,
   "id": "c53adbfb",
   "metadata": {},
   "outputs": [],
   "source": [
    "import pandas\n",
    "titanic_dados = pandas.read_csv(\"titanic.csv\") #Leitura do CSV\n",
    "titanic_dados.head(10) #Mostrar as 10 primeiras linhas"
   ]
  }
 ],
 "metadata": {
  "kernelspec": {
   "display_name": "Python 3",
   "language": "python",
   "name": "python3"
  },
  "language_info": {
   "codemirror_mode": {
    "name": "ipython",
    "version": 3
   },
   "file_extension": ".py",
   "mimetype": "text/x-python",
   "name": "python",
   "nbconvert_exporter": "python",
   "pygments_lexer": "ipython3",
   "version": "3.8.8"
  }
 },
 "nbformat": 4,
 "nbformat_minor": 5
}
