{
 "cells": [
  {
   "cell_type": "code",
   "execution_count": null,
   "id": "bc984940",
   "metadata": {},
   "outputs": [],
   "source": [
    "#Algoritmo que preenche uma lista e retorna essa lista ordenada do menor para o maior, utilizando funções e loops"
   ]
  },
  {
   "cell_type": "code",
   "execution_count": null,
   "id": "88921a7d",
   "metadata": {},
   "outputs": [],
   "source": [
    "def leitura():\n",
    "    lista = []\n",
    "    num   = 0\n",
    "    for i in range (1,16):\n",
    "        print(\"Informe o \",i,\"º número:\")\n",
    "        num = int(input())\n",
    "        lista.append(num)\n",
    "        \n",
    "    return lista"
   ]
  },
  {
   "cell_type": "code",
   "execution_count": null,
   "id": "621e7030",
   "metadata": {},
   "outputs": [],
   "source": [
    "def ordenacao(lista):\n",
    "    for i in range (0,14):\n",
    "        for j in range (0,14):\n",
    "            if (lista[j] > lista[j + 1]):\n",
    "                aux = lista[j]\n",
    "                lista[j] = lista[j + 1]\n",
    "                lista[j + 1] = aux\n",
    "            \n",
    "    return lista"
   ]
  },
  {
   "cell_type": "code",
   "execution_count": null,
   "id": "ee2972b0",
   "metadata": {},
   "outputs": [],
   "source": [
    "lista = leitura()\n",
    "ordenacao(lista)\n",
    "print(lista)"
   ]
  }
 ],
 "metadata": {
  "kernelspec": {
   "display_name": "Python 3",
   "language": "python",
   "name": "python3"
  },
  "language_info": {
   "codemirror_mode": {
    "name": "ipython",
    "version": 3
   },
   "file_extension": ".py",
   "mimetype": "text/x-python",
   "name": "python",
   "nbconvert_exporter": "python",
   "pygments_lexer": "ipython3",
   "version": "3.8.8"
  }
 },
 "nbformat": 4,
 "nbformat_minor": 5
}
