{
 "cells": [
  {
   "cell_type": "code",
   "execution_count": null,
   "id": "d4035649",
   "metadata": {},
   "outputs": [],
   "source": [
    "import pandas as pd\n",
    "import numpy as np"
   ]
  },
  {
   "cell_type": "code",
   "execution_count": null,
   "id": "ad9fe686",
   "metadata": {},
   "outputs": [],
   "source": [
    "colunas_filmes = ['star_rating','title','content_rating','genre','duration','actors_list']\n",
    "\n",
    "file=\"C:\\\\Git\\\\DataScience\\\\movies.csv\"\n",
    "filmes=pd.read_csv(file,header=0,names=colunas_filmes)\n",
    "filmes.columns"
   ]
  },
  {
   "cell_type": "code",
   "execution_count": null,
   "id": "dedbc459",
   "metadata": {},
   "outputs": [],
   "source": [
    "filmes.head()"
   ]
  },
  {
   "cell_type": "code",
   "execution_count": null,
   "id": "61165267",
   "metadata": {},
   "outputs": [],
   "source": [
    "#Examinando os tipos\n",
    "\n",
    "filmes.dtypes"
   ]
  },
  {
   "cell_type": "markdown",
   "id": "7c6748e3",
   "metadata": {},
   "source": [
    "## Explorando séries não numéricas"
   ]
  },
  {
   "cell_type": "code",
   "execution_count": null,
   "id": "a400c834",
   "metadata": {},
   "outputs": [],
   "source": [
    "#Contando valores não nulos, unique e a frequência do valor mais comum\n",
    "\n",
    "filmes.genre.describe()"
   ]
  },
  {
   "cell_type": "code",
   "execution_count": null,
   "id": "48e91f7e",
   "metadata": {},
   "outputs": [],
   "source": [
    "#Vamos verificar a frequência dos valores\n",
    "\n",
    "filmes.genre.value_counts()"
   ]
  },
  {
   "cell_type": "code",
   "execution_count": null,
   "id": "65576ac4",
   "metadata": {},
   "outputs": [],
   "source": [
    "#Podemos exibir a porcentagem\n",
    "\n",
    "filmes.genre.value_counts(normalize=True)"
   ]
  },
  {
   "cell_type": "markdown",
   "id": "ae6e8549",
   "metadata": {},
   "source": [
    "Como pode ser observado, value_counts() retorna uma série e ela pode ser aproveitada com todos os métodos"
   ]
  },
  {
   "cell_type": "code",
   "execution_count": null,
   "id": "dc31076c",
   "metadata": {},
   "outputs": [],
   "source": [
    "type(filmes.genre.value_counts())"
   ]
  },
  {
   "cell_type": "code",
   "execution_count": null,
   "id": "2b43150b",
   "metadata": {},
   "outputs": [],
   "source": [
    "#Um exemplo é o head()\n",
    "\n",
    "filmes.genre.value_counts().head()"
   ]
  },
  {
   "cell_type": "code",
   "execution_count": null,
   "id": "3847d8c8",
   "metadata": {},
   "outputs": [],
   "source": [
    "#Ou o tail\n",
    "\n",
    "filmes.genre.value_counts().tail(10)"
   ]
  },
  {
   "cell_type": "markdown",
   "id": "496fd2b2",
   "metadata": {},
   "source": [
    "## Unique() e  nunique()"
   ]
  },
  {
   "cell_type": "code",
   "execution_count": null,
   "id": "80d0c421",
   "metadata": {},
   "outputs": [],
   "source": [
    "#O método unique() mostra os valores da série sem repetir\n",
    "\n",
    "filmes.genre.unique()"
   ]
  },
  {
   "cell_type": "code",
   "execution_count": null,
   "id": "b233bd4f",
   "metadata": {},
   "outputs": [],
   "source": [
    "#O método nunique mostra a quantidade de valores únicos\n",
    "\n",
    "filmes.genre.nunique()"
   ]
  },
  {
   "cell_type": "markdown",
   "id": "306de9b5",
   "metadata": {},
   "source": [
    "## Crosstab"
   ]
  },
  {
   "cell_type": "markdown",
   "id": "e17004cb",
   "metadata": {},
   "source": [
    "É uma maneira de visualizar duas dimensões de forma agregada. É um método do Pandas"
   ]
  },
  {
   "cell_type": "code",
   "execution_count": null,
   "id": "ae16ddcd",
   "metadata": {},
   "outputs": [],
   "source": [
    "filmes.head()"
   ]
  },
  {
   "cell_type": "code",
   "execution_count": null,
   "id": "6154a44a",
   "metadata": {},
   "outputs": [],
   "source": [
    "#Funciona como se fosse um pivot\n",
    "\n",
    "pd.crosstab(filmes.genre, filmes.star_rating)"
   ]
  }
 ],
 "metadata": {
  "kernelspec": {
   "display_name": "Python 3",
   "language": "python",
   "name": "python3"
  },
  "language_info": {
   "codemirror_mode": {
    "name": "ipython",
    "version": 3
   },
   "file_extension": ".py",
   "mimetype": "text/x-python",
   "name": "python",
   "nbconvert_exporter": "python",
   "pygments_lexer": "ipython3",
   "version": "3.8.8"
  }
 },
 "nbformat": 4,
 "nbformat_minor": 5
}
