{
 "cells": [
  {
   "cell_type": "code",
   "execution_count": null,
   "id": "0c518118",
   "metadata": {},
   "outputs": [],
   "source": [
    "import numpy as np"
   ]
  },
  {
   "cell_type": "code",
   "execution_count": null,
   "id": "1941a639",
   "metadata": {},
   "outputs": [],
   "source": [
    "a = np.array([-10,10,20,30], dtype = 'float')"
   ]
  },
  {
   "cell_type": "code",
   "execution_count": null,
   "id": "43917ae9",
   "metadata": {},
   "outputs": [],
   "source": [
    "a"
   ]
  },
  {
   "cell_type": "code",
   "execution_count": null,
   "id": "7d9efb26",
   "metadata": {},
   "outputs": [],
   "source": [
    "#A propriedade dtype retorna o tpo dos elementos do array\n",
    "\n",
    "a.dtype"
   ]
  },
  {
   "cell_type": "code",
   "execution_count": null,
   "id": "9288a408",
   "metadata": {},
   "outputs": [],
   "source": [
    "#Caso o tipo não seja passado para o python, ele definirá automaticamente\n",
    "\n",
    "b = np.array([-10,10,20,30])\n",
    "b.dtype"
   ]
  },
  {
   "cell_type": "code",
   "execution_count": null,
   "id": "70dac466",
   "metadata": {},
   "outputs": [],
   "source": [
    "#Caso haja um dado diferente, o python define o tipo pelo elemento mais específico\n",
    "\n",
    "c = np.array([10,20,30,40.5])\n",
    "c.dtype"
   ]
  },
  {
   "cell_type": "code",
   "execution_count": null,
   "id": "6b61d693",
   "metadata": {},
   "outputs": [],
   "source": [
    "#Array do tipo string\n",
    "\n",
    "d = np.array(['Universidade','dos','Dados'])\n",
    "d.dtype"
   ]
  },
  {
   "cell_type": "code",
   "execution_count": null,
   "id": "137c57b2",
   "metadata": {},
   "outputs": [],
   "source": [
    "#Array booleano\n",
    "\n",
    "e = np.array([False,False,True])\n",
    "e.dtype"
   ]
  },
  {
   "cell_type": "code",
   "execution_count": null,
   "id": "2d824d71",
   "metadata": {},
   "outputs": [],
   "source": [
    "#Cast de arrays\n",
    "\n",
    "f = np.array([-9,10,20.7])\n",
    "f.dtype"
   ]
  },
  {
   "cell_type": "code",
   "execution_count": null,
   "id": "4582f151",
   "metadata": {},
   "outputs": [],
   "source": [
    "#O cast é feito com a função astype()\n",
    "\n",
    "f.astype(int)"
   ]
  },
  {
   "cell_type": "code",
   "execution_count": null,
   "id": "e13463ad",
   "metadata": {},
   "outputs": [],
   "source": [
    "#Arrays com operações aritméticas\n",
    "\n",
    "array = np.arange(0,5)\n",
    "array"
   ]
  },
  {
   "cell_type": "code",
   "execution_count": null,
   "id": "91a31a63",
   "metadata": {},
   "outputs": [],
   "source": [
    "#Array com multiplicação\n",
    "\n",
    "array = np.arange(0,10) * 10\n",
    "array"
   ]
  },
  {
   "cell_type": "code",
   "execution_count": null,
   "id": "6dd617a5",
   "metadata": {},
   "outputs": [],
   "source": [
    "#Array com potencia\n",
    "\n",
    "array = np.arange(0,10) ** 2\n",
    "array"
   ]
  },
  {
   "cell_type": "code",
   "execution_count": null,
   "id": "ce8d8eb4",
   "metadata": {},
   "outputs": [],
   "source": [
    "#Operações aritméticas entre arrays\n",
    "arrayA = np.arange(0,10)\n",
    "arrayB = np.arange(0,10) + 1"
   ]
  },
  {
   "cell_type": "code",
   "execution_count": null,
   "id": "a1698a3e",
   "metadata": {},
   "outputs": [],
   "source": [
    "arrayA"
   ]
  },
  {
   "cell_type": "code",
   "execution_count": null,
   "id": "f7634154",
   "metadata": {},
   "outputs": [],
   "source": [
    "arrayB"
   ]
  },
  {
   "cell_type": "code",
   "execution_count": null,
   "id": "7baacad0",
   "metadata": {},
   "outputs": [],
   "source": [
    "#Soma de arrays\n",
    "\n",
    "arrayA + arrayB"
   ]
  },
  {
   "cell_type": "code",
   "execution_count": null,
   "id": "2f7d224b",
   "metadata": {},
   "outputs": [],
   "source": [
    "#Subtração\n",
    "\n",
    "arrayA - arrayB"
   ]
  },
  {
   "cell_type": "code",
   "execution_count": null,
   "id": "dc983b55",
   "metadata": {},
   "outputs": [],
   "source": [
    "#Divisão\n",
    "\n",
    "arrayA / arrayB"
   ]
  },
  {
   "cell_type": "code",
   "execution_count": null,
   "id": "929ce506",
   "metadata": {},
   "outputs": [],
   "source": [
    "#Multiplicação\n",
    "\n",
    "arrayA * arrayB"
   ]
  },
  {
   "cell_type": "code",
   "execution_count": null,
   "id": "79073eab",
   "metadata": {},
   "outputs": [],
   "source": [
    "#Comparação\n",
    "\n",
    "arrayA == arrayB"
   ]
  },
  {
   "cell_type": "code",
   "execution_count": null,
   "id": "2ef9b65e",
   "metadata": {},
   "outputs": [],
   "source": [
    "#Comparação\n",
    "\n",
    "arrayA > arrayB"
   ]
  },
  {
   "cell_type": "code",
   "execution_count": null,
   "id": "2ee51d6b",
   "metadata": {},
   "outputs": [],
   "source": [
    "#Comparação\n",
    "\n",
    "arrayA < arrayB"
   ]
  },
  {
   "cell_type": "code",
   "execution_count": null,
   "id": "c9002a11",
   "metadata": {},
   "outputs": [],
   "source": [
    "#Tabelas verdade para comparação de array utilizando AND\n",
    "\n",
    "array1 = np.array([True,False,True,False])\n",
    "array2 = np.array([False,False,True,False])\n",
    "np.logical_and(array1,array2)"
   ]
  },
  {
   "cell_type": "code",
   "execution_count": null,
   "id": "4c2b8a51",
   "metadata": {},
   "outputs": [],
   "source": [
    "#Tabelas verdade para comparação de array utilizando OR\n",
    "\n",
    "array1 = np.array([True,False,True,False])\n",
    "array2 = np.array([False,False,True,False])\n",
    "np.logical_or(array1,array2)"
   ]
  },
  {
   "cell_type": "code",
   "execution_count": null,
   "id": "0de1a810",
   "metadata": {},
   "outputs": [],
   "source": [
    "#Arrays com tamanhos diferentes\n",
    "\n",
    "A = np.array([1,2,3,4,5])\n",
    "B = np.array([1,2,3])\n",
    "\n",
    "#As operações resultam em erro porque eles devem possuir o mesmo tamanho"
   ]
  },
  {
   "cell_type": "code",
   "execution_count": null,
   "id": "cb6e52eb",
   "metadata": {},
   "outputs": [],
   "source": [
    "#Dot product\n",
    "\n",
    "A = np.array([2,4,6])\n",
    "B = np.array([2,2,2])"
   ]
  },
  {
   "cell_type": "code",
   "execution_count": null,
   "id": "c4fd1d78",
   "metadata": {},
   "outputs": [],
   "source": [
    "#Hadmard product: multiplica os elementos de mesmo índice\n",
    "\n",
    "A * B"
   ]
  },
  {
   "cell_type": "code",
   "execution_count": null,
   "id": "ee752491",
   "metadata": {},
   "outputs": [],
   "source": [
    "#Dot product: multiplica os elementos de mesmo índice e soma os resultados\n",
    "\n",
    "print(np.dot(A,B))"
   ]
  },
  {
   "cell_type": "code",
   "execution_count": null,
   "id": "af693a02",
   "metadata": {},
   "outputs": [],
   "source": [
    "#Cópias de arrays\n",
    "\n",
    "A = np.arange(10)"
   ]
  },
  {
   "cell_type": "code",
   "execution_count": null,
   "id": "e6301085",
   "metadata": {},
   "outputs": [],
   "source": [
    "A"
   ]
  },
  {
   "cell_type": "code",
   "execution_count": null,
   "id": "8fe6f327",
   "metadata": {},
   "outputs": [],
   "source": [
    "B = A[5:] #B recebe apenas referências do A"
   ]
  },
  {
   "cell_type": "code",
   "execution_count": null,
   "id": "dfad99ac",
   "metadata": {},
   "outputs": [],
   "source": [
    "B"
   ]
  },
  {
   "cell_type": "code",
   "execution_count": null,
   "id": "9f6506dc",
   "metadata": {},
   "outputs": [],
   "source": [
    "A[:] = 0"
   ]
  },
  {
   "cell_type": "code",
   "execution_count": null,
   "id": "f4895370",
   "metadata": {},
   "outputs": [],
   "source": [
    "B"
   ]
  },
  {
   "cell_type": "code",
   "execution_count": null,
   "id": "b011404b",
   "metadata": {},
   "outputs": [],
   "source": [
    "A = np.arange(10)"
   ]
  },
  {
   "cell_type": "code",
   "execution_count": null,
   "id": "e770ddad",
   "metadata": {},
   "outputs": [],
   "source": [
    "A"
   ]
  },
  {
   "cell_type": "code",
   "execution_count": null,
   "id": "9a22729b",
   "metadata": {},
   "outputs": [],
   "source": [
    "B = A[5:].copy()"
   ]
  },
  {
   "cell_type": "code",
   "execution_count": null,
   "id": "3e12cdfa",
   "metadata": {},
   "outputs": [],
   "source": [
    "B"
   ]
  },
  {
   "cell_type": "code",
   "execution_count": null,
   "id": "d065b089",
   "metadata": {},
   "outputs": [],
   "source": [
    "A[:] = 0"
   ]
  },
  {
   "cell_type": "code",
   "execution_count": null,
   "id": "78e1c58f",
   "metadata": {},
   "outputs": [],
   "source": [
    "B"
   ]
  },
  {
   "cell_type": "code",
   "execution_count": null,
   "id": "275e694f",
   "metadata": {},
   "outputs": [],
   "source": [
    "A"
   ]
  }
 ],
 "metadata": {
  "kernelspec": {
   "display_name": "Python 3",
   "language": "python",
   "name": "python3"
  },
  "language_info": {
   "codemirror_mode": {
    "name": "ipython",
    "version": 3
   },
   "file_extension": ".py",
   "mimetype": "text/x-python",
   "name": "python",
   "nbconvert_exporter": "python",
   "pygments_lexer": "ipython3",
   "version": "3.8.8"
  }
 },
 "nbformat": 4,
 "nbformat_minor": 5
}
