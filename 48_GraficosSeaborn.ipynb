{
 "cells": [
  {
   "cell_type": "code",
   "execution_count": null,
   "id": "7845b666",
   "metadata": {},
   "outputs": [],
   "source": [
    "import matplotlib.pyplot as plt\n",
    "import random as rd\n",
    "import seaborn as sb"
   ]
  },
  {
   "cell_type": "code",
   "execution_count": null,
   "id": "fe482416",
   "metadata": {},
   "outputs": [],
   "source": [
    "%matplotlib inline"
   ]
  },
  {
   "cell_type": "code",
   "execution_count": null,
   "id": "5442bf06",
   "metadata": {},
   "outputs": [],
   "source": [
    "#O seaborn possui bons datasets para estudar\n",
    "\n",
    "sb.get_dataset_names()"
   ]
  },
  {
   "cell_type": "code",
   "execution_count": null,
   "id": "4ebd18eb",
   "metadata": {},
   "outputs": [],
   "source": [
    "titanic = sb.load_dataset('titanic')\n",
    "titanic.head()"
   ]
  },
  {
   "cell_type": "code",
   "execution_count": null,
   "id": "a67288c4",
   "metadata": {},
   "outputs": [],
   "source": [
    "tips = sb.load_dataset('tips')\n",
    "tips.head(20)"
   ]
  },
  {
   "cell_type": "code",
   "execution_count": null,
   "id": "7647c3e9",
   "metadata": {},
   "outputs": [],
   "source": [
    "fly = sb.load_dataset('flights')\n",
    "fly.head(20)"
   ]
  },
  {
   "cell_type": "code",
   "execution_count": null,
   "id": "bfe6edc9",
   "metadata": {},
   "outputs": [],
   "source": [
    "#Fazendo um pivot\n",
    "\n",
    "fly = fly.pivot_table(values='passengers', index='month', columns='year')\n",
    "fly"
   ]
  },
  {
   "cell_type": "markdown",
   "id": "76430a08",
   "metadata": {},
   "source": [
    "## Tipos de gráficos"
   ]
  },
  {
   "cell_type": "markdown",
   "id": "3c527e13",
   "metadata": {},
   "source": [
    "### Histograma"
   ]
  },
  {
   "cell_type": "code",
   "execution_count": null,
   "id": "1e478c75",
   "metadata": {},
   "outputs": [],
   "source": [
    "tips.head()"
   ]
  },
  {
   "cell_type": "code",
   "execution_count": null,
   "id": "a049decb",
   "metadata": {},
   "outputs": [],
   "source": [
    "#Displot mostra um histograma\n",
    "#Kde é a curva da variação\n",
    "#Bins é o tamanho de cada agrupamento\n",
    "sb.displot(tips['tip'],kde=False,bins=10)"
   ]
  },
  {
   "cell_type": "code",
   "execution_count": null,
   "id": "acb0aa7d",
   "metadata": {},
   "outputs": [],
   "source": [
    "#Aumentando os bins e diminuindo o intervalo\n",
    "#Aumentando os bins o gráfico fica mais preciso\n",
    "sb.displot(tips['tip'],kde=False,bins=20)"
   ]
  },
  {
   "cell_type": "markdown",
   "id": "8a4574d8",
   "metadata": {},
   "source": [
    "### Correlacionando gráficos"
   ]
  },
  {
   "cell_type": "markdown",
   "id": "1b5cd367",
   "metadata": {},
   "source": [
    "### Gráficos lineares"
   ]
  },
  {
   "cell_type": "markdown",
   "id": "abe01532",
   "metadata": {},
   "source": [
    "### Joinplot"
   ]
  },
  {
   "cell_type": "markdown",
   "id": "d3336c41",
   "metadata": {},
   "source": [
    "**Junta histogramas com plots e é útil para ver a relação de duas variáveis**"
   ]
  },
  {
   "cell_type": "code",
   "execution_count": null,
   "id": "972b4696",
   "metadata": {},
   "outputs": [],
   "source": [
    "#Vamos verificar total_bill X tips\n",
    "\n",
    "sb.jointplot(x='total_bill',y='tip',data=tips)"
   ]
  },
  {
   "cell_type": "code",
   "execution_count": null,
   "id": "d8fed7e9",
   "metadata": {},
   "outputs": [],
   "source": [
    "#Verificando o valor da passagem com idade\n",
    "\n",
    "sb.jointplot(x='fare',y='age',data=titanic)"
   ]
  },
  {
   "cell_type": "code",
   "execution_count": null,
   "id": "3d821342",
   "metadata": {},
   "outputs": [],
   "source": [
    "#Vamos verificar tamanho da mesa X tips\n",
    "\n",
    "sb.jointplot(x='size',y='tip',data=tips)"
   ]
  },
  {
   "cell_type": "markdown",
   "id": "d5a0acdf",
   "metadata": {},
   "source": [
    "## Olhando os dados de maneira geral com pairplot"
   ]
  },
  {
   "cell_type": "code",
   "execution_count": null,
   "id": "b26b4416",
   "metadata": {},
   "outputs": [],
   "source": [
    "sb.pairplot(tips)"
   ]
  },
  {
   "cell_type": "code",
   "execution_count": null,
   "id": "c94bf965",
   "metadata": {},
   "outputs": [],
   "source": [
    "#Segmentando os dados com HUE - hora da refeição\n",
    "\n",
    "sb.pairplot(tips, hue='time')"
   ]
  },
  {
   "cell_type": "code",
   "execution_count": null,
   "id": "a43c928e",
   "metadata": {},
   "outputs": [],
   "source": [
    "#Segmentando os dados com HUE - fumante\n",
    "\n",
    "sb.pairplot(tips, hue='smoker')"
   ]
  },
  {
   "cell_type": "code",
   "execution_count": null,
   "id": "30036e13",
   "metadata": {},
   "outputs": [],
   "source": [
    "#Alterando a paleta de cores\n",
    "\n",
    "#https://chrisalbon.com/python/data_visualization/seaborn_color_palettes/\n",
    "\n",
    "sb.pairplot(tips, hue='sex', palette='PRGn')"
   ]
  },
  {
   "cell_type": "markdown",
   "id": "ff2ace0b",
   "metadata": {},
   "source": [
    "## Plotando dados categóricos"
   ]
  },
  {
   "cell_type": "code",
   "execution_count": null,
   "id": "7e59c362",
   "metadata": {},
   "outputs": [],
   "source": [
    "sb.countplot(y='fare', data=titanic)"
   ]
  },
  {
   "cell_type": "code",
   "execution_count": null,
   "id": "02b6b0e8",
   "metadata": {},
   "outputs": [],
   "source": [
    "sb.countplot(x='sex', data=titanic)"
   ]
  },
  {
   "cell_type": "markdown",
   "id": "85c9e2c1",
   "metadata": {},
   "source": [
    "## Boxplot"
   ]
  },
  {
   "cell_type": "code",
   "execution_count": null,
   "id": "20188a96",
   "metadata": {},
   "outputs": [],
   "source": [
    "sb.boxplot(x='day', y='tip', data=tips)"
   ]
  },
  {
   "cell_type": "code",
   "execution_count": null,
   "id": "5ba8ab52",
   "metadata": {},
   "outputs": [],
   "source": [
    "#Separando com HUE por sexo\n",
    "\n",
    "sb.boxplot(x='day', y='tip', data=tips, hue='sex')"
   ]
  },
  {
   "cell_type": "code",
   "execution_count": null,
   "id": "1652296d",
   "metadata": {},
   "outputs": [],
   "source": [
    "#Violinplot - Ideal para ver concentrações\n",
    "\n",
    "sb.violinplot(x='day', y='tip', data=tips)"
   ]
  },
  {
   "cell_type": "code",
   "execution_count": null,
   "id": "436f5fd0",
   "metadata": {},
   "outputs": [],
   "source": [
    "#Utilizando o HUE\n",
    "\n",
    "sb.violinplot(x='day', y='tip', data=tips, hue='sex')"
   ]
  },
  {
   "cell_type": "code",
   "execution_count": null,
   "id": "55447326",
   "metadata": {},
   "outputs": [],
   "source": [
    "#Refinando o gráfico\n",
    "\n",
    "sb.violinplot(x='day', y='tip', data=tips, hue='sex', split=True)"
   ]
  },
  {
   "cell_type": "markdown",
   "id": "fc76d6c6",
   "metadata": {},
   "source": [
    "## Stripplot"
   ]
  },
  {
   "cell_type": "code",
   "execution_count": null,
   "id": "6d075133",
   "metadata": {},
   "outputs": [],
   "source": [
    "sb.stripplot(x='day', y='tip',data=tips)"
   ]
  },
  {
   "cell_type": "code",
   "execution_count": null,
   "id": "499e87ab",
   "metadata": {},
   "outputs": [],
   "source": [
    "#jitter distribui melhor os valores\n",
    "\n",
    "sb.stripplot(x='day', y='tip',data=tips, jitter=True)"
   ]
  },
  {
   "cell_type": "code",
   "execution_count": null,
   "id": "f2ea39d1",
   "metadata": {},
   "outputs": [],
   "source": [
    "#Swarmplot: faz a mesma coisa do stripplot, porém ele abre os pontos na horizontal\n",
    "\n",
    "sb.swarmplot(x='day', y='tip', data=tips)"
   ]
  },
  {
   "cell_type": "code",
   "execution_count": null,
   "id": "e4b1428c",
   "metadata": {},
   "outputs": [],
   "source": [
    "#Como o violin é criado\n",
    "\n",
    "sb.swarmplot(x='day', y='tip', data=tips, color='black')\n",
    "sb.violinplot(x='day', y='tip', data=tips)"
   ]
  },
  {
   "cell_type": "markdown",
   "id": "5f5354d5",
   "metadata": {},
   "source": [
    "## Visualizando correlação"
   ]
  },
  {
   "cell_type": "code",
   "execution_count": null,
   "id": "038c9093",
   "metadata": {},
   "outputs": [],
   "source": [
    "correlacao = tips.corr()\n",
    "correlacao"
   ]
  },
  {
   "cell_type": "code",
   "execution_count": null,
   "id": "b5201400",
   "metadata": {},
   "outputs": [],
   "source": [
    "sb.heatmap(correlacao, annot=True)"
   ]
  },
  {
   "cell_type": "code",
   "execution_count": null,
   "id": "e5b2718c",
   "metadata": {},
   "outputs": [],
   "source": [
    "sb.heatmap(fly)"
   ]
  },
  {
   "cell_type": "code",
   "execution_count": null,
   "id": "1ce7266c",
   "metadata": {},
   "outputs": [],
   "source": [
    "sb.clustermap(fly)"
   ]
  },
  {
   "cell_type": "code",
   "execution_count": null,
   "id": "128c6b02",
   "metadata": {},
   "outputs": [],
   "source": [
    "tips.head()"
   ]
  },
  {
   "cell_type": "code",
   "execution_count": null,
   "id": "9c201e84",
   "metadata": {},
   "outputs": [],
   "source": [
    "#Funciona como se fosse uma regressão linear, fazendo previsões\n",
    "\n",
    "sb.lmplot(x='total_bill',y = 'tip', data=tips, hue='time')"
   ]
  },
  {
   "cell_type": "code",
   "execution_count": null,
   "id": "e17bd970",
   "metadata": {},
   "outputs": [],
   "source": [
    "sb.lmplot(x='total_bill',y = 'tip', data=tips, hue='time', col='time')"
   ]
  }
 ],
 "metadata": {
  "kernelspec": {
   "display_name": "Python 3",
   "language": "python",
   "name": "python3"
  },
  "language_info": {
   "codemirror_mode": {
    "name": "ipython",
    "version": 3
   },
   "file_extension": ".py",
   "mimetype": "text/x-python",
   "name": "python",
   "nbconvert_exporter": "python",
   "pygments_lexer": "ipython3",
   "version": "3.8.8"
  }
 },
 "nbformat": 4,
 "nbformat_minor": 5
}
