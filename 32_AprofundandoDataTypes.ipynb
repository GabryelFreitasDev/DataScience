{
 "cells": [
  {
   "cell_type": "markdown",
   "id": "6620ff2f",
   "metadata": {},
   "source": [
    "## Modificando tipos de séries no Pandas"
   ]
  },
  {
   "cell_type": "code",
   "execution_count": null,
   "id": "d2675d19",
   "metadata": {},
   "outputs": [],
   "source": [
    "import numpy as np\n",
    "import pandas as pd"
   ]
  },
  {
   "cell_type": "code",
   "execution_count": null,
   "id": "fcc9b2df",
   "metadata": {},
   "outputs": [],
   "source": [
    "file=\"C:\\\\Git\\\\DataScience\\\\drinks.csv\"\n",
    "drinks=pd.read_csv(file)\n",
    "drinks.columns"
   ]
  },
  {
   "cell_type": "markdown",
   "id": "58263d90",
   "metadata": {},
   "source": [
    "## Verificando o tipo dos dados"
   ]
  },
  {
   "cell_type": "code",
   "execution_count": null,
   "id": "33e3098e",
   "metadata": {},
   "outputs": [],
   "source": [
    "#Utilizando o dtypes\n",
    "\n",
    "drinks.dtypes"
   ]
  },
  {
   "cell_type": "code",
   "execution_count": null,
   "id": "b6f32651",
   "metadata": {},
   "outputs": [],
   "source": [
    "#Modificando o tipo em uma série existente com ASTYPE()\n",
    "\n",
    "drinks['beer_servings'] = drinks.beer_servings.astype(float)"
   ]
  },
  {
   "cell_type": "code",
   "execution_count": null,
   "id": "ca812c80",
   "metadata": {},
   "outputs": [],
   "source": [
    "#Da mesma forma, podemos modificar o tupo enquanto lemos uma série\n",
    "#dtype recebe um dicionário {chave: valor} como parâmetro\n",
    "\n",
    "drinks = pd.read_csv(file,dtype={'spirit_servings':float})\n",
    "drinks.dtypes"
   ]
  },
  {
   "cell_type": "markdown",
   "id": "d876073a",
   "metadata": {},
   "source": [
    "## Lendo outro dataset"
   ]
  },
  {
   "cell_type": "code",
   "execution_count": null,
   "id": "287b07fe",
   "metadata": {},
   "outputs": [],
   "source": [
    "arquivo = \"C:\\\\Git\\\\DataScience\\\\sanduiches.txt\"\n",
    "vendas = pd.read_table(arquivo)\n",
    "vendas.head()"
   ]
  },
  {
   "cell_type": "code",
   "execution_count": null,
   "id": "8752f9fd",
   "metadata": {},
   "outputs": [],
   "source": [
    "vendas.dtypes"
   ]
  },
  {
   "cell_type": "markdown",
   "id": "4a33dba0",
   "metadata": {},
   "source": [
    "### Convertendo o preço em float e calculando a média com uma linha de código"
   ]
  },
  {
   "cell_type": "code",
   "execution_count": null,
   "id": "f2e65367",
   "metadata": {},
   "outputs": [],
   "source": [
    "vendas.item_price.str.replace('$','').astype(float).mean()"
   ]
  },
  {
   "cell_type": "markdown",
   "id": "82900bfe",
   "metadata": {},
   "source": [
    "## Mais um pouco sobre booleanos"
   ]
  },
  {
   "cell_type": "code",
   "execution_count": null,
   "id": "35f40900",
   "metadata": {},
   "outputs": [],
   "source": [
    "#Utilizando o contains\n",
    "\n",
    "vendas.item_name.str.contains('Chicken').head()"
   ]
  },
  {
   "cell_type": "code",
   "execution_count": null,
   "id": "d34403fa",
   "metadata": {},
   "outputs": [],
   "source": [
    "#Convertendo uma série boolean em integer (False = 0, True = 1)\n",
    "\n",
    "vendas.item_name.str.contains('Chicken').astype(int).head(10)"
   ]
  },
  {
   "cell_type": "code",
   "execution_count": null,
   "id": "bb9ecee3",
   "metadata": {},
   "outputs": [],
   "source": [
    "#Podemos fazer o procedimento com uma variável\n",
    "\n",
    "vendas_int = vendas.item_name.str.contains('Chicken').astype(int)\n",
    "\n",
    "vendas_int.head()"
   ]
  },
  {
   "cell_type": "markdown",
   "id": "f232f473",
   "metadata": {},
   "source": [
    "## Quantos itens contém Tomato?"
   ]
  },
  {
   "cell_type": "code",
   "execution_count": null,
   "id": "7be1827a",
   "metadata": {},
   "outputs": [],
   "source": [
    "vendas.item_name.str.contains('Tomato').astype(int).sum()"
   ]
  },
  {
   "cell_type": "markdown",
   "id": "ea3347d2",
   "metadata": {},
   "source": [
    "## Será que servem Coca-Cola nessa lanchonete?"
   ]
  },
  {
   "cell_type": "code",
   "execution_count": null,
   "id": "0d53b4c3",
   "metadata": {},
   "outputs": [],
   "source": [
    "vendas.choice_description.str.contains('Coke').astype(int).sum()"
   ]
  },
  {
   "cell_type": "code",
   "execution_count": null,
   "id": "4a19d8c7",
   "metadata": {},
   "outputs": [],
   "source": [
    "#Apagando as linhas que possuem valor nulo na descrição\n",
    "\n",
    "ordens = vendas.dropna(subset=['choice_description'],how='any')"
   ]
  },
  {
   "cell_type": "code",
   "execution_count": null,
   "id": "4f397ffa",
   "metadata": {},
   "outputs": [],
   "source": [
    "ordens.shape"
   ]
  },
  {
   "cell_type": "code",
   "execution_count": null,
   "id": "028e31b7",
   "metadata": {},
   "outputs": [],
   "source": [
    "ordens.head()"
   ]
  },
  {
   "cell_type": "code",
   "execution_count": null,
   "id": "8824ae89",
   "metadata": {},
   "outputs": [],
   "source": [
    "ordens.choice_description.str.contains('Coke').astype(int).sum()"
   ]
  },
  {
   "cell_type": "markdown",
   "id": "aa5d716e",
   "metadata": {},
   "source": [
    "## E quantos tem Guacamole?"
   ]
  },
  {
   "cell_type": "code",
   "execution_count": null,
   "id": "afbf6de8",
   "metadata": {},
   "outputs": [],
   "source": [
    "ordens.choice_description.str.contains('Guacamole').astype(int).sum()"
   ]
  },
  {
   "cell_type": "markdown",
   "id": "95d37e09",
   "metadata": {},
   "source": [
    "## E quantos pratos tem arroz?"
   ]
  },
  {
   "cell_type": "code",
   "execution_count": null,
   "id": "84f15334",
   "metadata": {},
   "outputs": [],
   "source": [
    "ordens.choice_description.str.contains('Rice').astype(int).sum()"
   ]
  }
 ],
 "metadata": {
  "kernelspec": {
   "display_name": "Python 3",
   "language": "python",
   "name": "python3"
  },
  "language_info": {
   "codemirror_mode": {
    "name": "ipython",
    "version": 3
   },
   "file_extension": ".py",
   "mimetype": "text/x-python",
   "name": "python",
   "nbconvert_exporter": "python",
   "pygments_lexer": "ipython3",
   "version": "3.8.8"
  }
 },
 "nbformat": 4,
 "nbformat_minor": 5
}
