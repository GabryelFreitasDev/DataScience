{
 "cells": [
  {
   "cell_type": "code",
   "execution_count": null,
   "id": "683ea47a",
   "metadata": {},
   "outputs": [],
   "source": [
    "import numpy as np\n",
    "import pandas as pd"
   ]
  },
  {
   "cell_type": "code",
   "execution_count": null,
   "id": "06f3a092",
   "metadata": {},
   "outputs": [],
   "source": [
    "#Ler um dataset de reviews de filmes para um dataframe\n",
    "\n",
    "colunas=['user_id','age','gender','occupation','zip_code']\n",
    "users=pd.read_table('C:\\\\Git\\\\DataScience\\\\Duplicadas.txt', sep='|', header=None, names=colunas)\n",
    "users.head(10)"
   ]
  },
  {
   "cell_type": "code",
   "execution_count": null,
   "id": "643c51a8",
   "metadata": {},
   "outputs": [],
   "source": [
    "#Verificando linhas e colunas\n",
    "\n",
    "users.shape"
   ]
  },
  {
   "cell_type": "code",
   "execution_count": null,
   "id": "7bb8fb4d",
   "metadata": {},
   "outputs": [],
   "source": [
    "#Procurando por ceps duplicados\n",
    "#A primeira ocorrência não é marcada como \"true\"\n",
    "\n",
    "users.zip_code.duplicated().head(20)"
   ]
  },
  {
   "cell_type": "code",
   "execution_count": null,
   "id": "a1cc4026",
   "metadata": {},
   "outputs": [],
   "source": [
    "#Uma série booleana pode ser convertida em 0 e 1 automaticamente ao utilizarmos métodos de agregação\n",
    "\n",
    "users.zip_code.duplicated().sum()"
   ]
  },
  {
   "cell_type": "code",
   "execution_count": null,
   "id": "7cb66840",
   "metadata": {},
   "outputs": [],
   "source": [
    "#Verificando se uma linha inteira é duplicada\n",
    "\n",
    "users.duplicated()"
   ]
  },
  {
   "cell_type": "code",
   "execution_count": null,
   "id": "8e353443",
   "metadata": {},
   "outputs": [],
   "source": [
    "#Contando as linhas duplicadas\n",
    "\n",
    "users.duplicated().sum()"
   ]
  },
  {
   "cell_type": "code",
   "execution_count": null,
   "id": "8a6e0c08",
   "metadata": {},
   "outputs": [],
   "source": [
    "#Mantendo a primeira ocorrência da linha duplicada\n",
    "\n",
    "users.loc[users.duplicated(keep='first'), :]"
   ]
  },
  {
   "cell_type": "code",
   "execution_count": null,
   "id": "86e4716a",
   "metadata": {},
   "outputs": [],
   "source": [
    "#Mantendo a última ocorrência da linha duplicada\n",
    "\n",
    "users.loc[users.duplicated(keep='last'), :]"
   ]
  },
  {
   "cell_type": "code",
   "execution_count": null,
   "id": "675a2ec4",
   "metadata": {},
   "outputs": [],
   "source": [
    "#Mantendo todas as linhas duplicadas\n",
    "\n",
    "users.loc[users.duplicated(keep=False), :]"
   ]
  },
  {
   "cell_type": "code",
   "execution_count": null,
   "id": "5c528cfc",
   "metadata": {},
   "outputs": [],
   "source": [
    "#Apagando as linhas duplicadas (inplace false por default) - Shape do dataset que ficou\n",
    "\n",
    "users.drop_duplicates(keep='first').shape"
   ]
  },
  {
   "cell_type": "code",
   "execution_count": null,
   "id": "35358d12",
   "metadata": {},
   "outputs": [],
   "source": [
    "users.drop_duplicates(keep='last').shape"
   ]
  },
  {
   "cell_type": "code",
   "execution_count": null,
   "id": "430d6d31",
   "metadata": {},
   "outputs": [],
   "source": [
    "users.drop_duplicates(keep=False).shape"
   ]
  },
  {
   "cell_type": "markdown",
   "id": "fa4571fa",
   "metadata": {},
   "source": [
    "## Utilizando o maior arquivo"
   ]
  },
  {
   "cell_type": "code",
   "execution_count": null,
   "id": "60de4f49",
   "metadata": {},
   "outputs": [],
   "source": [
    "#Ler um dataset de reviews de filmes para um dataframe\n",
    "\n",
    "colunas=['user_id','age','gender','occupation','zip_code']\n",
    "users=pd.read_table('C:\\\\Git\\\\DataScience\\\\Users.txt', sep='|', header=None, names=colunas, index_col='user_id')\n",
    "users.head()"
   ]
  },
  {
   "cell_type": "code",
   "execution_count": null,
   "id": "51cb2314",
   "metadata": {},
   "outputs": [],
   "source": [
    "#Verificando linhas e colunas\n",
    "\n",
    "users.shape"
   ]
  },
  {
   "cell_type": "markdown",
   "id": "90137249",
   "metadata": {},
   "source": [
    "## Encontrando linhas duplicadas com duplicated() "
   ]
  },
  {
   "cell_type": "code",
   "execution_count": null,
   "id": "c38c097f",
   "metadata": {},
   "outputs": [],
   "source": [
    "#Procurando CEPs duplicados\n",
    "\n",
    "users.zip_code.duplicated().head(50)"
   ]
  },
  {
   "cell_type": "code",
   "execution_count": null,
   "id": "7e169727",
   "metadata": {},
   "outputs": [],
   "source": [
    "#Uma série booleana pode ser convertida em 0 e 1 automaticamente ao utilizarmos métodos de agregação\n",
    "#Preferência por utilizar o sum para identificação das linhas duplicadas\n",
    "\n",
    "users.zip_code.duplicated().sum()"
   ]
  },
  {
   "cell_type": "code",
   "execution_count": null,
   "id": "90f12d58",
   "metadata": {},
   "outputs": [],
   "source": [
    "#Olhando o arquivo de baixo para cima\n",
    "\n",
    "users.duplicated().tail()"
   ]
  },
  {
   "cell_type": "code",
   "execution_count": null,
   "id": "000dbf8c",
   "metadata": {},
   "outputs": [],
   "source": [
    "#Contando as linhas duplicadas\n",
    "\n",
    "users.duplicated().sum()"
   ]
  },
  {
   "cell_type": "markdown",
   "id": "9f9ea01b",
   "metadata": {},
   "source": [
    "Regras para o método **duplicated**\n",
    "* **keep=first** (default): Marcas as linhas duplicadas como true, menos a primeira ocorrência;\n",
    "* **keep=last**: Marca as linhas duplicadas como true, menos a última ocorrência;\n",
    "* **keep=False**: Marca todas as linhas duplicadas como true."
   ]
  },
  {
   "cell_type": "code",
   "execution_count": null,
   "id": "a57fc236",
   "metadata": {},
   "outputs": [],
   "source": [
    "#Mantendo a primeira linha\n",
    "\n",
    "users.loc[users.duplicated(keep='first'), :]"
   ]
  },
  {
   "cell_type": "code",
   "execution_count": null,
   "id": "57650ef1",
   "metadata": {},
   "outputs": [],
   "source": [
    "#Mantendo a última linha\n",
    "\n",
    "users.loc[users.duplicated(keep='last'), :]"
   ]
  },
  {
   "cell_type": "code",
   "execution_count": null,
   "id": "f30886ec",
   "metadata": {},
   "outputs": [],
   "source": [
    "#Mantendo todas as linhas\n",
    "\n",
    "users.loc[users.duplicated(keep=False), :]"
   ]
  },
  {
   "cell_type": "markdown",
   "id": "fc3e1bd4",
   "metadata": {},
   "source": [
    "## Apagando as linhas duplicadas com drop_duplicates()"
   ]
  },
  {
   "cell_type": "code",
   "execution_count": null,
   "id": "cb03cbfc",
   "metadata": {},
   "outputs": [],
   "source": [
    "#Apagando as linhas duplicadas (inplace=False por default)\n",
    "\n",
    "users.drop_duplicates(keep='first').shape"
   ]
  },
  {
   "cell_type": "code",
   "execution_count": null,
   "id": "b5368960",
   "metadata": {},
   "outputs": [],
   "source": [
    "users.drop_duplicates(keep='last').shape"
   ]
  },
  {
   "cell_type": "code",
   "execution_count": null,
   "id": "803c1ecc",
   "metadata": {},
   "outputs": [],
   "source": [
    "users.drop_duplicates(keep=False).shape"
   ]
  },
  {
   "cell_type": "markdown",
   "id": "2debf3f6",
   "metadata": {},
   "source": [
    "## Podemos considerar apenas algumas colunas para identificar duplicadas"
   ]
  },
  {
   "cell_type": "code",
   "execution_count": null,
   "id": "b2f18de9",
   "metadata": {},
   "outputs": [],
   "source": [
    "#Nesse caso, a linha será considerada duplicada somente se idade e CEP forem iguais\n",
    "\n",
    "users.duplicated(subset=['age','zip_code']).sum()"
   ]
  },
  {
   "cell_type": "code",
   "execution_count": null,
   "id": "d12a0a24",
   "metadata": {},
   "outputs": [],
   "source": [
    "users.drop_duplicates(subset=['age','zip_code']).shape"
   ]
  }
 ],
 "metadata": {
  "kernelspec": {
   "display_name": "Python 3",
   "language": "python",
   "name": "python3"
  },
  "language_info": {
   "codemirror_mode": {
    "name": "ipython",
    "version": 3
   },
   "file_extension": ".py",
   "mimetype": "text/x-python",
   "name": "python",
   "nbconvert_exporter": "python",
   "pygments_lexer": "ipython3",
   "version": "3.8.8"
  }
 },
 "nbformat": 4,
 "nbformat_minor": 5
}
