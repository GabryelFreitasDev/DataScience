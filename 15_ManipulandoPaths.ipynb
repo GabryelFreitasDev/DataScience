{
 "cells": [
  {
   "cell_type": "code",
   "execution_count": null,
   "id": "ff1cb3f7",
   "metadata": {},
   "outputs": [],
   "source": [
    "import os"
   ]
  },
  {
   "cell_type": "code",
   "execution_count": null,
   "id": "2aa9c06d",
   "metadata": {},
   "outputs": [],
   "source": [
    "os.path"
   ]
  },
  {
   "cell_type": "code",
   "execution_count": null,
   "id": "6c8213ee",
   "metadata": {},
   "outputs": [],
   "source": [
    "#Utilização do dir em um método\n",
    "dir(os.path)"
   ]
  },
  {
   "cell_type": "code",
   "execution_count": null,
   "id": "40b6bced",
   "metadata": {},
   "outputs": [],
   "source": [
    "fullpath = 'C:\\\\Raw\\\\teste.txt'"
   ]
  },
  {
   "cell_type": "code",
   "execution_count": null,
   "id": "fdb04048",
   "metadata": {},
   "outputs": [],
   "source": [
    "#Basename pega o nome completo de um arquivo em um caminho completo\n",
    "\n",
    "arquivo = os.path.basename(fullpath)"
   ]
  },
  {
   "cell_type": "code",
   "execution_count": null,
   "id": "d3cf9afc",
   "metadata": {},
   "outputs": [],
   "source": [
    "arquivo"
   ]
  },
  {
   "cell_type": "code",
   "execution_count": null,
   "id": "b3bb5351",
   "metadata": {},
   "outputs": [],
   "source": [
    "#Pegando nome do arquivo por índice\n",
    "#Negativo conta da direita para esquerda\n",
    "\n",
    "fullpath[-9:]\n",
    "\n",
    "#Assim ele consegue pegar o nome do arquivo inteiro"
   ]
  },
  {
   "cell_type": "code",
   "execution_count": null,
   "id": "51926e3d",
   "metadata": {},
   "outputs": [],
   "source": [
    "#Separando as extensões dos nomes\n",
    "#O método retorna uma tupla\n",
    "\n",
    "os.path.splitext(arquivo)"
   ]
  },
  {
   "cell_type": "code",
   "execution_count": null,
   "id": "6f2a4c02",
   "metadata": {},
   "outputs": [],
   "source": [
    "#Pegando a posição 0 da tupla: nome\n",
    "\n",
    "os.path.splitext(arquivo)[0]"
   ]
  },
  {
   "cell_type": "code",
   "execution_count": null,
   "id": "8ce29eb7",
   "metadata": {},
   "outputs": [],
   "source": [
    "#Pegando a posição 1 da tupla: extensão\n",
    "\n",
    "os.path.splitext(arquivo)[1]"
   ]
  },
  {
   "cell_type": "code",
   "execution_count": null,
   "id": "41681d90",
   "metadata": {},
   "outputs": [],
   "source": [
    "#Verificando se um diretório existe\n",
    "\n",
    "os.path.exists(fullpath)"
   ]
  },
  {
   "cell_type": "code",
   "execution_count": null,
   "id": "43016325",
   "metadata": {},
   "outputs": [],
   "source": [
    "#Criando um diretório, caso ele não exista\n",
    "path = 'C://Raw//Dados'\n",
    "\n",
    "if not os.path.exists(path):\n",
    "    os.mkdir(path)"
   ]
  }
 ],
 "metadata": {
  "kernelspec": {
   "display_name": "Python 3",
   "language": "python",
   "name": "python3"
  },
  "language_info": {
   "codemirror_mode": {
    "name": "ipython",
    "version": 3
   },
   "file_extension": ".py",
   "mimetype": "text/x-python",
   "name": "python",
   "nbconvert_exporter": "python",
   "pygments_lexer": "ipython3",
   "version": "3.8.8"
  }
 },
 "nbformat": 4,
 "nbformat_minor": 5
}
