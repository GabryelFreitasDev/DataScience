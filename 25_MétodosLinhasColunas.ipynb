{
 "cells": [
  {
   "cell_type": "code",
   "execution_count": null,
   "id": "216329c5",
   "metadata": {},
   "outputs": [],
   "source": [
    "import numpy as np\n",
    "import pandas as pd"
   ]
  },
  {
   "cell_type": "code",
   "execution_count": null,
   "id": "b5f36718",
   "metadata": {},
   "outputs": [],
   "source": [
    "file = \"C:\\\\Git\\\\DataScience\\\\Diarias.csv\"\n",
    "diarias = pd.read_csv(file, sep = '\\t')\n",
    "diarias.head(6)"
   ]
  },
  {
   "cell_type": "code",
   "execution_count": null,
   "id": "06527e54",
   "metadata": {},
   "outputs": [],
   "source": [
    "#Utilizando o latin-1 para ler acentos corretamente\n",
    "file = \"C:\\\\Git\\\\DataScience\\\\Diarias.csv\"\n",
    "diarias = pd.read_csv(file, encoding = 'latin-1', sep = '\\t')\n",
    "diarias.head(6)"
   ]
  },
  {
   "cell_type": "code",
   "execution_count": null,
   "id": "b4765819",
   "metadata": {},
   "outputs": [],
   "source": [
    "type(diarias)"
   ]
  },
  {
   "cell_type": "code",
   "execution_count": null,
   "id": "82633ef1",
   "metadata": {},
   "outputs": [],
   "source": [
    "#Tamanho\n",
    "\n",
    "diarias.shape"
   ]
  },
  {
   "cell_type": "code",
   "execution_count": null,
   "id": "08f45169",
   "metadata": {},
   "outputs": [],
   "source": [
    "#Tipos\n",
    "\n",
    "diarias.dtypes"
   ]
  },
  {
   "cell_type": "code",
   "execution_count": null,
   "id": "edd8f877",
   "metadata": {},
   "outputs": [],
   "source": [
    "#Métodos (quando utilizamos parênteses) são ações, enquanto propriedades (sem parênteses) representam o que o data frame é."
   ]
  },
  {
   "cell_type": "code",
   "execution_count": null,
   "id": "11ac7601",
   "metadata": {},
   "outputs": [],
   "source": [
    "file = \"C:\\\\Git\\\\DataScience\\\\movies.csv\"\n",
    "filmes = pd.read_csv(file)\n",
    "filmes.head()"
   ]
  },
  {
   "cell_type": "code",
   "execution_count": null,
   "id": "1ab831c4",
   "metadata": {},
   "outputs": [],
   "source": [
    "filmes.describe()\n",
    "#Pega todos os valores numéricos por padrão e faz contagem, média, desvio padrão, valor mínimo, 1º, 2º e 3º quartis, e máximo"
   ]
  },
  {
   "cell_type": "code",
   "execution_count": null,
   "id": "cc098eaa",
   "metadata": {},
   "outputs": [],
   "source": [
    "filmes.shape"
   ]
  },
  {
   "cell_type": "code",
   "execution_count": null,
   "id": "33c7b857",
   "metadata": {},
   "outputs": [],
   "source": [
    "filmes.dtypes"
   ]
  },
  {
   "cell_type": "code",
   "execution_count": null,
   "id": "169b57bc",
   "metadata": {},
   "outputs": [],
   "source": [
    "#Como verificar atributos e métodos?"
   ]
  },
  {
   "cell_type": "code",
   "execution_count": null,
   "id": "0730cac6",
   "metadata": {},
   "outputs": [],
   "source": [
    "#Métodos podem receber argumentos\n",
    "\n",
    "filmes.describe(include=['object']) \n",
    "\n",
    "#Describe considerando também as colunas string. Nesse caso, as operações mudam:\n",
    "# - Contagem\n",
    "# - Único\n",
    "# - Maior número de ocorrências\n",
    "# - Quantas ocorrência o mais frequente teve"
   ]
  },
  {
   "cell_type": "code",
   "execution_count": null,
   "id": "7342db31",
   "metadata": {},
   "outputs": [],
   "source": [
    "#Como saber os argumentos de um método?\n",
    "#Posicionando o cursor entre os parênteses e pressionando shift + tab de 1 a 3 vezes\n",
    "\n",
    "filmes.describe()\n",
    "\n",
    "#Verificar a diferença entre dados categóricos (string, data...) e numéricos (int, float...)"
   ]
  },
  {
   "cell_type": "code",
   "execution_count": null,
   "id": "b3189516",
   "metadata": {},
   "outputs": [],
   "source": [
    "#Renomeando colunas"
   ]
  },
  {
   "cell_type": "code",
   "execution_count": null,
   "id": "cd78dd23",
   "metadata": {},
   "outputs": [],
   "source": [
    "filmes.columns"
   ]
  },
  {
   "cell_type": "code",
   "execution_count": null,
   "id": "79d3fb9e",
   "metadata": {},
   "outputs": [],
   "source": [
    "filmes.rename(columns={'star rating':'star_rating','content rating':'content_rating','actors list':'actors_list'})"
   ]
  },
  {
   "cell_type": "code",
   "execution_count": null,
   "id": "1576ddc2",
   "metadata": {},
   "outputs": [],
   "source": [
    "filmes.columns\n",
    "\n",
    "#A transformação não vai ocorrer até que seja definida de forma explícita, ou seja, devemos forçar a alteração, ou seja:\n",
    "# 1 - Atribuir o resultado a uma nova variável, ou seja, data frame, ou\n",
    "# 2 - Utilizar o argumento inplace=True, forçando a alteração"
   ]
  },
  {
   "cell_type": "code",
   "execution_count": null,
   "id": "e7a19e4f",
   "metadata": {},
   "outputs": [],
   "source": [
    "filmes.rename(columns={'star rating':'star_rating','content rating':'content_rating','actors list':'actors_list'},inplace=True)\n",
    "filmes.columns"
   ]
  },
  {
   "cell_type": "code",
   "execution_count": null,
   "id": "015e0278",
   "metadata": {},
   "outputs": [],
   "source": [
    "#Podemos também passar a lista de colunas explicitamente\n",
    "\n",
    "colunas_filmes = ['star rating', 'title', 'content rating', 'genre', 'duration', 'actors list']\n",
    "filmes.columns = colunas_filmes\n",
    "filmes.columns"
   ]
  },
  {
   "cell_type": "code",
   "execution_count": null,
   "id": "a9b9827b",
   "metadata": {},
   "outputs": [],
   "source": [
    "#Podemos renomear as colunas na leitura do arquivo\n",
    "\n",
    "colunas_filmes = ['star_rating', 'title', 'content_rating', 'genre', 'duration', 'actors_list']\n",
    "file = \"C:\\\\Git\\\\DataScience\\\\movies.csv\"\n",
    "filmes = pd.read_csv(file, header=0,names=colunas_filmes)\n",
    "filmes.columns"
   ]
  },
  {
   "cell_type": "code",
   "execution_count": null,
   "id": "ec71de4f",
   "metadata": {},
   "outputs": [],
   "source": [
    "#Funções do Python para manipulação de várias colunas"
   ]
  },
  {
   "cell_type": "code",
   "execution_count": null,
   "id": "62cf43a1",
   "metadata": {},
   "outputs": [],
   "source": [
    "file = \"C:\\\\Git\\\\DataScience\\\\movies.csv\"\n",
    "filmes = pd.read_csv(file)\n",
    "filmes.head()\n",
    "\n",
    "filmes.columns = filmes.columns.str.replace(' ','_')\n",
    "filmes.columns"
   ]
  },
  {
   "cell_type": "code",
   "execution_count": null,
   "id": "4a3f4eb5",
   "metadata": {},
   "outputs": [],
   "source": [
    "#Removendo colunas do data frame"
   ]
  },
  {
   "cell_type": "code",
   "execution_count": null,
   "id": "c90be6df",
   "metadata": {},
   "outputs": [],
   "source": [
    "#Por uma questão de boa prática, ao realizar alguma alteração no data frame, devemos atribuir a outra variável.\n",
    "#Assim é possível rastrear as mudanças e também voltar ao último passo.\n",
    "#Aqui também podemos utilizar o inplace=True\n",
    "\n",
    "#Axis = 1 - Colunas / Axis = 0 - Linhas\n",
    "\n",
    "filmes01 = filmes.drop('content_rating',axis=1)\n",
    "filmes01.head()\n",
    "\n",
    "#Filme01 foi criado sem a coluna content_rating"
   ]
  },
  {
   "cell_type": "code",
   "execution_count": null,
   "id": "7f1b8528",
   "metadata": {},
   "outputs": [],
   "source": [
    "#Rmovendo mais de uma coluna\n",
    "\n",
    "filmes02 = filmes.drop(['duration','actors_list'],axis=1) #Passando uma lista de colunas\n",
    "filmes02.head()"
   ]
  },
  {
   "cell_type": "code",
   "execution_count": null,
   "id": "468eb36d",
   "metadata": {},
   "outputs": [],
   "source": [
    "#Removendo linhas do data frame"
   ]
  },
  {
   "cell_type": "code",
   "execution_count": null,
   "id": "3a64158d",
   "metadata": {},
   "outputs": [],
   "source": [
    "filmes02.head()"
   ]
  },
  {
   "cell_type": "code",
   "execution_count": null,
   "id": "d654b944",
   "metadata": {},
   "outputs": [],
   "source": [
    "filmes03 = filmes02.drop([0,1],axis=0)\n",
    "filmes03.head()"
   ]
  }
 ],
 "metadata": {
  "kernelspec": {
   "display_name": "Python 3",
   "language": "python",
   "name": "python3"
  },
  "language_info": {
   "codemirror_mode": {
    "name": "ipython",
    "version": 3
   },
   "file_extension": ".py",
   "mimetype": "text/x-python",
   "name": "python",
   "nbconvert_exporter": "python",
   "pygments_lexer": "ipython3",
   "version": "3.8.8"
  }
 },
 "nbformat": 4,
 "nbformat_minor": 5
}
