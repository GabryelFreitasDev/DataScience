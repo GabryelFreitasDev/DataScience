{
 "cells": [
  {
   "cell_type": "code",
   "execution_count": null,
   "id": "1e4ad23a",
   "metadata": {},
   "outputs": [],
   "source": [
    "#Leitura dos dados do CSV\n",
    "oport_csv = open('GeralOportunidades.csv','r')\n",
    "linhas    = oport_csv.readlines()\n",
    "oport_csv.close()"
   ]
  },
  {
   "cell_type": "code",
   "execution_count": null,
   "id": "37f124e4",
   "metadata": {},
   "outputs": [],
   "source": [
    "#Separacao das colunas do cabeçalho\n",
    "colunas = linhas[0].split(',')"
   ]
  },
  {
   "cell_type": "code",
   "execution_count": null,
   "id": "5792d6e7",
   "metadata": {},
   "outputs": [],
   "source": [
    "#Definição do dicionário de oportunidades\n",
    "dados_oport = {}\n",
    "\n",
    "for coluna in colunas:\n",
    "    dados_oport[coluna] = []"
   ]
  },
  {
   "cell_type": "code",
   "execution_count": null,
   "id": "bb857be7",
   "metadata": {},
   "outputs": [],
   "source": [
    "#Conversão dos dados em listas\n",
    "lista_dados = []\n",
    "\n",
    "for dado in linhas[1:]:\n",
    "    dado_lista = dado.split(',')\n",
    "    lista_dados.append(dado_lista)"
   ]
  },
  {
   "cell_type": "code",
   "execution_count": null,
   "id": "40247298",
   "metadata": {},
   "outputs": [],
   "source": [
    "#Preenchimento do dicionário com os dados indexados\n",
    "\n",
    "for oportunidade in lista_dados:\n",
    "    for indice, dado in enumerate(oportunidade):\n",
    "        coluna = colunas[indice]\n",
    "        dados_oport[coluna].append(dado)"
   ]
  },
  {
   "cell_type": "code",
   "execution_count": null,
   "id": "b86df8ba",
   "metadata": {},
   "outputs": [],
   "source": [
    "#Preenchimento da lista de valores\n",
    "lista_valores = []\n",
    "\n",
    "for valor in dados_oport[\"valor_total_estimado\"]:\n",
    "    lista_valores.append(float(valor))"
   ]
  },
  {
   "cell_type": "code",
   "execution_count": null,
   "id": "9f3b0498",
   "metadata": {},
   "outputs": [],
   "source": [
    "#Função para soma e contagem das oportunidades\n",
    "def ticket_medio(lista):\n",
    "    soma = sum(lista)\n",
    "    qtde = len(lista)\n",
    "    return soma / qtde"
   ]
  },
  {
   "cell_type": "code",
   "execution_count": null,
   "id": "34160236",
   "metadata": {},
   "outputs": [],
   "source": [
    "print(\"O valor medio das oportunidades é:\",round(ticket_medio(lista_valores),2))"
   ]
  }
 ],
 "metadata": {
  "kernelspec": {
   "display_name": "Python 3",
   "language": "python",
   "name": "python3"
  },
  "language_info": {
   "codemirror_mode": {
    "name": "ipython",
    "version": 3
   },
   "file_extension": ".py",
   "mimetype": "text/x-python",
   "name": "python",
   "nbconvert_exporter": "python",
   "pygments_lexer": "ipython3",
   "version": "3.8.8"
  }
 },
 "nbformat": 4,
 "nbformat_minor": 5
}
