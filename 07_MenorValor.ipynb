{
 "cells": [
  {
   "cell_type": "code",
   "execution_count": null,
   "id": "212caf25",
   "metadata": {},
   "outputs": [],
   "source": [
    "def leitura():\n",
    "    lista = []\n",
    "    num   = 0\n",
    "    \n",
    "    for i in range(0,5):\n",
    "        print(\"Informe o \",i + 1,\"º número:\")\n",
    "        num = int(input())\n",
    "        lista.append(num)\n",
    "        \n",
    "    return lista"
   ]
  },
  {
   "cell_type": "code",
   "execution_count": null,
   "id": "1e772716",
   "metadata": {},
   "outputs": [],
   "source": [
    "def buscaMenor(lista):\n",
    "    del retorno[0:]\n",
    "    retorno.append(lista[0])\n",
    "    retorno.append(0)\n",
    "    \n",
    "    for i in range(0,5):\n",
    "        if (lista[i] < retorno[0]):\n",
    "            retorno[0] = lista[i]\n",
    "            retorno[1] = i\n",
    "            \n",
    "    return retorno"
   ]
  },
  {
   "cell_type": "code",
   "execution_count": null,
   "id": "1271dfbc",
   "metadata": {},
   "outputs": [],
   "source": [
    "lista   = leitura()\n",
    "retorno = buscaMenor(lista)\n",
    "print(\"O menor número da lista é\",retorno[0],\",localizado na posição\",retorno[1] + 1,\".\")"
   ]
  }
 ],
 "metadata": {
  "kernelspec": {
   "display_name": "Python 3",
   "language": "python",
   "name": "python3"
  },
  "language_info": {
   "codemirror_mode": {
    "name": "ipython",
    "version": 3
   },
   "file_extension": ".py",
   "mimetype": "text/x-python",
   "name": "python",
   "nbconvert_exporter": "python",
   "pygments_lexer": "ipython3",
   "version": "3.8.8"
  }
 },
 "nbformat": 4,
 "nbformat_minor": 5
}
