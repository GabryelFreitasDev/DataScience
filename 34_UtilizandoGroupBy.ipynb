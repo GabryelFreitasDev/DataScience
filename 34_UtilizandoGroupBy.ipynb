{
 "cells": [
  {
   "cell_type": "markdown",
   "id": "e9663ee2",
   "metadata": {},
   "source": [
    "## Utilizando o group by"
   ]
  },
  {
   "cell_type": "code",
   "execution_count": null,
   "id": "36cba593",
   "metadata": {},
   "outputs": [],
   "source": [
    "import numpy as np\n",
    "import pandas as pd"
   ]
  },
  {
   "cell_type": "code",
   "execution_count": null,
   "id": "7e66d8c6",
   "metadata": {},
   "outputs": [],
   "source": [
    "arquivo=\"C:\\\\Git\\\\DataScience\\\\drinks.csv\"\n",
    "drinks=pd.read_csv(arquivo)"
   ]
  },
  {
   "cell_type": "code",
   "execution_count": null,
   "id": "4614a497",
   "metadata": {},
   "outputs": [],
   "source": [
    "#Calculando a média de cerveja para todo o dataset\n",
    "\n",
    "drinks.beer_servings.mean()"
   ]
  },
  {
   "cell_type": "code",
   "execution_count": null,
   "id": "99f2e13e",
   "metadata": {},
   "outputs": [],
   "source": [
    "#Calculando a média de cerveja consumida somente pelo continente Europeu\n",
    "\n",
    "drinks[drinks.continent=='Europe'].beer_servings.mean()"
   ]
  },
  {
   "cell_type": "markdown",
   "id": "2c63349b",
   "metadata": {},
   "source": [
    "## Calculando a quantidade de cerveja por continente"
   ]
  },
  {
   "cell_type": "code",
   "execution_count": null,
   "id": "f6e6569e",
   "metadata": {},
   "outputs": [],
   "source": [
    "cerveja_continente = drinks.groupby('continent').beer_servings.mean()"
   ]
  },
  {
   "cell_type": "code",
   "execution_count": null,
   "id": "97fae6b1",
   "metadata": {},
   "outputs": [],
   "source": [
    "#Ordenando\n",
    "cerveja_continente.sort_values(ascending=False)"
   ]
  },
  {
   "cell_type": "markdown",
   "id": "b109d790",
   "metadata": {},
   "source": [
    "## Qual o máximo de cerveja consumido por continente?"
   ]
  },
  {
   "cell_type": "code",
   "execution_count": null,
   "id": "0adb7a94",
   "metadata": {},
   "outputs": [],
   "source": [
    "#Funções de agregação como o min e max também funcionam com o group by\n",
    "\n",
    "drinks.groupby('continent').beer_servings.max()"
   ]
  },
  {
   "cell_type": "markdown",
   "id": "d576fba1",
   "metadata": {},
   "source": [
    "## Múltiplas agregações com a função agg, que recebe uma lista de parâmetros presentes na função describe "
   ]
  },
  {
   "cell_type": "code",
   "execution_count": null,
   "id": "4f178aee",
   "metadata": {},
   "outputs": [],
   "source": [
    "drinks.groupby('continent').beer_servings.agg(['count','mean','min','max'])"
   ]
  },
  {
   "cell_type": "code",
   "execution_count": null,
   "id": "8bd9021a",
   "metadata": {},
   "outputs": [],
   "source": [
    "#Caso não especifique a coluna, a função group by trará todas\n",
    "\n",
    "drinks.groupby('continent').mean()"
   ]
  },
  {
   "cell_type": "markdown",
   "id": "b327b291",
   "metadata": {},
   "source": [
    "## Plotando o primeiro gráfico"
   ]
  },
  {
   "cell_type": "markdown",
   "id": "2ee0b028",
   "metadata": {},
   "source": [
    "Quando um gráfico é plotado, ele vai pra fora do Jupyter. Com o comando abaixo, o gráfico será plotado dentro do Jupyter"
   ]
  },
  {
   "cell_type": "code",
   "execution_count": null,
   "id": "9893e418",
   "metadata": {},
   "outputs": [],
   "source": [
    "%matplotlib inline"
   ]
  },
  {
   "cell_type": "code",
   "execution_count": null,
   "id": "a6eda342",
   "metadata": {},
   "outputs": [],
   "source": [
    "#Agrupando as bebidas por continente, tirando a média e plotando um gráfico de barras\n",
    "\n",
    "drinks.groupby('continent').mean().plot(kind='bar')"
   ]
  }
 ],
 "metadata": {
  "kernelspec": {
   "display_name": "Python 3",
   "language": "python",
   "name": "python3"
  },
  "language_info": {
   "codemirror_mode": {
    "name": "ipython",
    "version": 3
   },
   "file_extension": ".py",
   "mimetype": "text/x-python",
   "name": "python",
   "nbconvert_exporter": "python",
   "pygments_lexer": "ipython3",
   "version": "3.8.8"
  }
 },
 "nbformat": 4,
 "nbformat_minor": 5
}
