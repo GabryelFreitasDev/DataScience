{
 "cells": [
  {
   "cell_type": "code",
   "execution_count": null,
   "id": "d9be7e10",
   "metadata": {},
   "outputs": [],
   "source": [
    "#Importação do numpy\n",
    "\n",
    "import numpy as np"
   ]
  },
  {
   "cell_type": "code",
   "execution_count": null,
   "id": "ac5b37b4",
   "metadata": {},
   "outputs": [],
   "source": [
    "#Criação de um array\n",
    "a1 = np.array(['Spark','Hadoop','Python','R'])"
   ]
  },
  {
   "cell_type": "code",
   "execution_count": null,
   "id": "6499df1a",
   "metadata": {},
   "outputs": [],
   "source": [
    "a1"
   ]
  },
  {
   "cell_type": "code",
   "execution_count": null,
   "id": "2f17c751",
   "metadata": {},
   "outputs": [],
   "source": [
    "#Array com listas de tipos diferentes\n",
    "a2 = np.array([['Altura','Largura','Profundidade'],[42, 78, 10]])"
   ]
  },
  {
   "cell_type": "code",
   "execution_count": null,
   "id": "f92822f1",
   "metadata": {},
   "outputs": [],
   "source": [
    "a2"
   ]
  },
  {
   "cell_type": "code",
   "execution_count": null,
   "id": "85262271",
   "metadata": {},
   "outputs": [],
   "source": [
    "a3 = np.array([[10,20,30],[40,50,60]])"
   ]
  },
  {
   "cell_type": "code",
   "execution_count": null,
   "id": "87a11cbd",
   "metadata": {},
   "outputs": [],
   "source": [
    "a3"
   ]
  },
  {
   "cell_type": "code",
   "execution_count": null,
   "id": "3faaff1c",
   "metadata": {},
   "outputs": [],
   "source": [
    "#Tamanho do array\n",
    "print(a1.shape)\n",
    "print(a2.shape)"
   ]
  },
  {
   "cell_type": "code",
   "execution_count": null,
   "id": "028c8bf7",
   "metadata": {},
   "outputs": [],
   "source": [
    "#Dimensões do array\n",
    "a1.ndim"
   ]
  },
  {
   "cell_type": "code",
   "execution_count": null,
   "id": "972da9f2",
   "metadata": {},
   "outputs": [],
   "source": [
    "#Dimensões do array\n",
    "a2.ndim"
   ]
  },
  {
   "cell_type": "code",
   "execution_count": null,
   "id": "ab477678",
   "metadata": {},
   "outputs": [],
   "source": [
    "#Valor máximo do array (o max funciona apenas com arrays homogêneos)\n",
    "\n",
    "a3.max() #Método max"
   ]
  },
  {
   "cell_type": "code",
   "execution_count": null,
   "id": "04e52a08",
   "metadata": {},
   "outputs": [],
   "source": [
    "a3.ndim #Atributo ndim"
   ]
  },
  {
   "cell_type": "code",
   "execution_count": null,
   "id": "9252ae22",
   "metadata": {},
   "outputs": [],
   "source": [
    "#Método arrange: gera um array com números no intervalo indicado entre parênteses\n",
    "\n",
    "array = np.arange(20)\n",
    "array"
   ]
  },
  {
   "cell_type": "code",
   "execution_count": null,
   "id": "ab89a68f",
   "metadata": {},
   "outputs": [],
   "source": [
    "#Usando o arange com start/end - de 0 a 100 de 10 em 10\n",
    "\n",
    "array = np.arange(0,100,10)\n",
    "array"
   ]
  },
  {
   "cell_type": "code",
   "execution_count": null,
   "id": "3ea31322",
   "metadata": {},
   "outputs": [],
   "source": [
    "#Estruturas com linspace\n",
    "\n",
    "#No arange, o último argumento é o incremento. No linspace, esse aegumento é o número de elementos do vetor (aleatório)\n",
    "\n",
    "matriz = np.linspace(0,10,20)\n",
    "matriz"
   ]
  },
  {
   "cell_type": "code",
   "execution_count": null,
   "id": "ba4a6d4c",
   "metadata": {},
   "outputs": [],
   "source": [
    "matriz = np.linspace(0,10,5)\n",
    "matriz"
   ]
  },
  {
   "cell_type": "code",
   "execution_count": null,
   "id": "7b70771f",
   "metadata": {},
   "outputs": [],
   "source": [
    "matriz = np.linspace(0,5,5)\n",
    "matriz"
   ]
  },
  {
   "cell_type": "code",
   "execution_count": null,
   "id": "f293008e",
   "metadata": {},
   "outputs": [],
   "source": [
    "#numpy.zeros\n",
    "\n",
    "matriz = np.zeros((10,10))\n",
    "matriz"
   ]
  },
  {
   "cell_type": "code",
   "execution_count": null,
   "id": "4bdeb097",
   "metadata": {},
   "outputs": [],
   "source": [
    "#numpy.ones\n",
    "\n",
    "matriz = np.ones((2,3))\n",
    "matriz"
   ]
  },
  {
   "cell_type": "code",
   "execution_count": null,
   "id": "b6549aa0",
   "metadata": {},
   "outputs": [],
   "source": [
    "#numpy.eye: Matriz do tipo identity (diagonal principal preenchida com 1)\n",
    "\n",
    "matriz = np.eye(10)\n",
    "matriz"
   ]
  },
  {
   "cell_type": "code",
   "execution_count": null,
   "id": "8c140462",
   "metadata": {},
   "outputs": [],
   "source": [
    "#numpy.diag: Faz a mesma coisa do eye, porém posso escolher os valores das diagonais\n",
    "\n",
    "matriz = np.diag((2,4,6,8,10,12,14,16,18,20))\n",
    "matriz"
   ]
  },
  {
   "cell_type": "code",
   "execution_count": null,
   "id": "a154ab62",
   "metadata": {},
   "outputs": [],
   "source": [
    "#numpy.empty: Produz uma matriz vazia\n",
    "\n",
    "matriz = np.empty((10,5))\n",
    "matriz"
   ]
  },
  {
   "cell_type": "code",
   "execution_count": null,
   "id": "b195da28",
   "metadata": {},
   "outputs": [],
   "source": [
    "#numpy.tile: multiplicação de arrays\n",
    "\n",
    "np.tile(np.array([[1,2],[3,4],[5,6]]),3)"
   ]
  },
  {
   "cell_type": "code",
   "execution_count": null,
   "id": "2ea01212",
   "metadata": {},
   "outputs": [],
   "source": [
    "#numpy.tile: multiplicação de arrays\n",
    "\n",
    "np.tile(np.array([[1,2],[3,4],[5,6]]),(3,6)) #Número de vezes do array na vertical, número de vezes do array na horizontal"
   ]
  }
 ],
 "metadata": {
  "kernelspec": {
   "display_name": "Python 3",
   "language": "python",
   "name": "python3"
  },
  "language_info": {
   "codemirror_mode": {
    "name": "ipython",
    "version": 3
   },
   "file_extension": ".py",
   "mimetype": "text/x-python",
   "name": "python",
   "nbconvert_exporter": "python",
   "pygments_lexer": "ipython3",
   "version": "3.8.8"
  }
 },
 "nbformat": 4,
 "nbformat_minor": 5
}
