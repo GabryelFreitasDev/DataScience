{
 "cells": [
  {
   "cell_type": "code",
   "execution_count": null,
   "id": "384507ef",
   "metadata": {},
   "outputs": [],
   "source": [
    "import numpy as np"
   ]
  },
  {
   "cell_type": "code",
   "execution_count": null,
   "id": "9b6a6391",
   "metadata": {},
   "outputs": [],
   "source": [
    "#A diferença da matriz pro array é que ela é estritamente bidimensional\n",
    "#Matriz tem desempenho melhor do que array bidimensional"
   ]
  },
  {
   "cell_type": "code",
   "execution_count": null,
   "id": "a707e897",
   "metadata": {},
   "outputs": [],
   "source": [
    "A = np.matrix([[1,2],[3,4]])\n",
    "\n",
    "B = np.matrix([[5,3],[8,7]])\n",
    "\n",
    "Z = np.array([\n",
    "    [[2,6],[8,4]],\n",
    "    [[2,6],[8,4]],\n",
    "    [[2,6],[8,4]]\n",
    "])\n",
    "\n",
    "Y = np.array([2,6,8,4])"
   ]
  },
  {
   "cell_type": "code",
   "execution_count": null,
   "id": "f92d8df1",
   "metadata": {},
   "outputs": [],
   "source": [
    "print(type(A))"
   ]
  },
  {
   "cell_type": "code",
   "execution_count": null,
   "id": "9f371581",
   "metadata": {},
   "outputs": [],
   "source": [
    "print(type(Z))"
   ]
  },
  {
   "cell_type": "code",
   "execution_count": null,
   "id": "0c71bf24",
   "metadata": {},
   "outputs": [],
   "source": [
    "print(type(Y))"
   ]
  },
  {
   "cell_type": "code",
   "execution_count": null,
   "id": "19c13269",
   "metadata": {},
   "outputs": [],
   "source": [
    "print(A)"
   ]
  },
  {
   "cell_type": "code",
   "execution_count": null,
   "id": "c5c96064",
   "metadata": {},
   "outputs": [],
   "source": [
    "print(Z)"
   ]
  },
  {
   "cell_type": "code",
   "execution_count": null,
   "id": "cc3435f2",
   "metadata": {},
   "outputs": [],
   "source": [
    "print(Y)"
   ]
  },
  {
   "cell_type": "code",
   "execution_count": null,
   "id": "fb4aee37",
   "metadata": {},
   "outputs": [],
   "source": [
    "Z.shape #Resultado (dimensões, linhas e colunas)"
   ]
  },
  {
   "cell_type": "code",
   "execution_count": null,
   "id": "3b07f2cc",
   "metadata": {},
   "outputs": [],
   "source": [
    "#Soma\n",
    "\n",
    "print(A + B)"
   ]
  },
  {
   "cell_type": "code",
   "execution_count": null,
   "id": "f5259083",
   "metadata": {},
   "outputs": [],
   "source": [
    "#Soma\n",
    "\n",
    "print(B + 3)"
   ]
  },
  {
   "cell_type": "code",
   "execution_count": null,
   "id": "f6214da2",
   "metadata": {},
   "outputs": [],
   "source": [
    "#Subtração\n",
    "\n",
    "print(A - B)"
   ]
  },
  {
   "cell_type": "code",
   "execution_count": null,
   "id": "7135cbeb",
   "metadata": {},
   "outputs": [],
   "source": [
    "#Multiplicação\n",
    "\n",
    "A = np.matrix([[1,2],[3,4]])\n",
    "\n",
    "print(A)"
   ]
  },
  {
   "cell_type": "code",
   "execution_count": null,
   "id": "1ad8ab8c",
   "metadata": {},
   "outputs": [],
   "source": [
    "#Arrumação em cruz\n",
    "\n",
    "print(A * A)"
   ]
  },
  {
   "cell_type": "code",
   "execution_count": null,
   "id": "8c3f374e",
   "metadata": {},
   "outputs": [],
   "source": [
    "#Multiplicação índice a índice\n",
    "\n",
    "print(np.multiply(A,A))"
   ]
  },
  {
   "cell_type": "code",
   "execution_count": null,
   "id": "cb66a7db",
   "metadata": {},
   "outputs": [],
   "source": [
    "#Inversa\n",
    "\n",
    "print(np.linalg.inv(A)) #Pacote linalg"
   ]
  },
  {
   "cell_type": "code",
   "execution_count": null,
   "id": "aa06eb8d",
   "metadata": {},
   "outputs": [],
   "source": [
    "from numpy.linalg import inv #Importação direta do inv para cálculo de inversa"
   ]
  },
  {
   "cell_type": "code",
   "execution_count": null,
   "id": "2eac6cf2",
   "metadata": {},
   "outputs": [],
   "source": [
    "print(inv(A))"
   ]
  },
  {
   "cell_type": "code",
   "execution_count": null,
   "id": "dd23f673",
   "metadata": {},
   "outputs": [],
   "source": [
    "#Transposta (PIVOT)\n",
    "\n",
    "print(A.T)"
   ]
  }
 ],
 "metadata": {
  "kernelspec": {
   "display_name": "Python 3",
   "language": "python",
   "name": "python3"
  },
  "language_info": {
   "codemirror_mode": {
    "name": "ipython",
    "version": 3
   },
   "file_extension": ".py",
   "mimetype": "text/x-python",
   "name": "python",
   "nbconvert_exporter": "python",
   "pygments_lexer": "ipython3",
   "version": "3.8.8"
  }
 },
 "nbformat": 4,
 "nbformat_minor": 5
}
