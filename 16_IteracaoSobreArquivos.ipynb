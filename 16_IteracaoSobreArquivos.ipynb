{
 "cells": [
  {
   "cell_type": "code",
   "execution_count": null,
   "id": "bc1e213c",
   "metadata": {},
   "outputs": [],
   "source": [
    "import os\n",
    "\n",
    "os.chdir('C:\\\\Raw') #Acessando o diretório Raw"
   ]
  },
  {
   "cell_type": "code",
   "execution_count": null,
   "id": "b290df94",
   "metadata": {},
   "outputs": [],
   "source": [
    "#Escrevendo no arquivo teste.txt\n",
    "\n",
    "with open ('C:\\\\Raw\\\\teste.txt','w') as arq:\n",
    "    arq.write('Escrevendo com WITH')"
   ]
  },
  {
   "cell_type": "code",
   "execution_count": null,
   "id": "066d61c5",
   "metadata": {},
   "outputs": [],
   "source": [
    "#Renomeando arquivos e diretórios\n",
    "\n",
    "os.rename('teste.txt','teste.csv')"
   ]
  },
  {
   "cell_type": "code",
   "execution_count": null,
   "id": "d7c24c00",
   "metadata": {},
   "outputs": [],
   "source": [
    "#Listando arquivos do diretório\n",
    "os.listdir()"
   ]
  },
  {
   "cell_type": "code",
   "execution_count": null,
   "id": "c77634cd",
   "metadata": {},
   "outputs": [],
   "source": [
    "#Arquivo recebe uma tupla com o nome na posição 0 e extensão na 1\n",
    "\n",
    "arquivo = 'teste.csv'\n",
    "\n",
    "nome = os.path.splitext(arquivo)[0]"
   ]
  },
  {
   "cell_type": "code",
   "execution_count": null,
   "id": "f6e9b3f9",
   "metadata": {},
   "outputs": [],
   "source": [
    "novonome = nome + '.txt'"
   ]
  },
  {
   "cell_type": "code",
   "execution_count": null,
   "id": "0d2df20d",
   "metadata": {},
   "outputs": [],
   "source": [
    "#Renomeando o arquivo\n",
    "\n",
    "os.rename(arquivo,novonome)"
   ]
  },
  {
   "cell_type": "code",
   "execution_count": null,
   "id": "7953025e",
   "metadata": {},
   "outputs": [],
   "source": [
    "os.listdir()"
   ]
  },
  {
   "cell_type": "code",
   "execution_count": null,
   "id": "bb42162d",
   "metadata": {},
   "outputs": [],
   "source": [
    "#Importação do glob para criar listas de arquivos a partir de buscas\n",
    "#em diretórios usando caracteres coringas\n",
    "\n",
    "import glob\n",
    "import os"
   ]
  },
  {
   "cell_type": "code",
   "execution_count": null,
   "id": "a226a5db",
   "metadata": {},
   "outputs": [],
   "source": [
    "os.chdir('C:\\\\Raw\\\\iteracao')"
   ]
  },
  {
   "cell_type": "code",
   "execution_count": null,
   "id": "ed20ba65",
   "metadata": {},
   "outputs": [],
   "source": [
    "os.listdir()"
   ]
  },
  {
   "cell_type": "code",
   "execution_count": null,
   "id": "c8cf158b",
   "metadata": {},
   "outputs": [],
   "source": [
    "#Utilizando o glob\n",
    "#Todos os arquivos com extensão txt serão armazenados na lista\n",
    "\n",
    "txtlist = glob.glob('*.csv')"
   ]
  },
  {
   "cell_type": "code",
   "execution_count": null,
   "id": "ccbd1a4f",
   "metadata": {},
   "outputs": [],
   "source": [
    "txtlist"
   ]
  },
  {
   "cell_type": "code",
   "execution_count": null,
   "id": "0186fd49",
   "metadata": {},
   "outputs": [],
   "source": [
    "#Iterando a lista\n",
    "\n",
    "for arquivo in txtlist:\n",
    "    nome      = os.path.splitext(arquivo)[0]\n",
    "    novonome  = nome + '.txt'\n",
    "    os.rename(arquivo,novonome)"
   ]
  },
  {
   "cell_type": "code",
   "execution_count": null,
   "id": "c7e8a592",
   "metadata": {},
   "outputs": [],
   "source": [
    "os.listdir()"
   ]
  }
 ],
 "metadata": {
  "kernelspec": {
   "display_name": "Python 3",
   "language": "python",
   "name": "python3"
  },
  "language_info": {
   "codemirror_mode": {
    "name": "ipython",
    "version": 3
   },
   "file_extension": ".py",
   "mimetype": "text/x-python",
   "name": "python",
   "nbconvert_exporter": "python",
   "pygments_lexer": "ipython3",
   "version": "3.8.8"
  }
 },
 "nbformat": 4,
 "nbformat_minor": 5
}
