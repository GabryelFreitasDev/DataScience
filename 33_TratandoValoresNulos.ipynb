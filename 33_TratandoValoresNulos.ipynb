{
 "cells": [
  {
   "cell_type": "markdown",
   "id": "99a96f8c",
   "metadata": {},
   "source": [
    "## Tratando valores nulos (NaN)"
   ]
  },
  {
   "cell_type": "code",
   "execution_count": null,
   "id": "d4d05873",
   "metadata": {},
   "outputs": [],
   "source": [
    "import numpy as np\n",
    "import pandas as pd"
   ]
  },
  {
   "cell_type": "code",
   "execution_count": null,
   "id": "2fbee103",
   "metadata": {},
   "outputs": [],
   "source": [
    "file=\"C:\\\\Git\\\\DataScience\\\\ufo.csv\"\n",
    "ufo=pd.read_csv(file)"
   ]
  },
  {
   "cell_type": "code",
   "execution_count": null,
   "id": "33ec8c29",
   "metadata": {},
   "outputs": [],
   "source": [
    "#Utilizando o tail (inverso do head)\n",
    "\n",
    "ufo.tail()"
   ]
  },
  {
   "cell_type": "markdown",
   "id": "7afe4729",
   "metadata": {},
   "source": [
    "* NaN não é uma string. Ele é um valor especial do Numpy: **numpy.nan**\n",
    "* É comum a referência \"Not a Number\", que significa **missing value**\n",
    "* O método ***read_csv*** detecta valores nulos automaticamente e preenche com NaN na leitura do arquivo"
   ]
  },
  {
   "cell_type": "markdown",
   "id": "05a84617",
   "metadata": {},
   "source": [
    "## O isnull() retorna um data frame booleano, onde True indica valor nulo e False valor preenchido"
   ]
  },
  {
   "cell_type": "code",
   "execution_count": null,
   "id": "02555af9",
   "metadata": {},
   "outputs": [],
   "source": [
    "#No arquivo nulos, os valores ímpares são nulos\n",
    "\n",
    "file=\"C:\\\\Git\\\\DataScience\\\\nulos.csv\"\n",
    "nulos=pd.read_csv(file)"
   ]
  },
  {
   "cell_type": "code",
   "execution_count": null,
   "id": "3da8f2fb",
   "metadata": {},
   "outputs": [],
   "source": [
    "nulos.isnull().tail()"
   ]
  },
  {
   "cell_type": "code",
   "execution_count": null,
   "id": "a4e16db6",
   "metadata": {},
   "outputs": [],
   "source": [
    "ufo.isnull().tail()"
   ]
  },
  {
   "cell_type": "markdown",
   "id": "50f4bcd5",
   "metadata": {},
   "source": [
    "## notnull é o oposto do isnull()"
   ]
  },
  {
   "cell_type": "code",
   "execution_count": null,
   "id": "0bb9a89a",
   "metadata": {},
   "outputs": [],
   "source": [
    "nulos.notnull().tail()"
   ]
  },
  {
   "cell_type": "code",
   "execution_count": null,
   "id": "e5c80cad",
   "metadata": {},
   "outputs": [],
   "source": [
    "ufo.notnull().tail()"
   ]
  },
  {
   "cell_type": "markdown",
   "id": "d7b78ff0",
   "metadata": {},
   "source": [
    "## E como saber a quantidade de nulos em uma coluna?"
   ]
  },
  {
   "cell_type": "code",
   "execution_count": null,
   "id": "689d810a",
   "metadata": {},
   "outputs": [],
   "source": [
    "ufo.isnull().sum()"
   ]
  },
  {
   "cell_type": "markdown",
   "id": "78762f31",
   "metadata": {},
   "source": [
    "### Como os isnull().sum() funciona?"
   ]
  },
  {
   "cell_type": "markdown",
   "id": "054373e9",
   "metadata": {},
   "source": [
    "O ***isnull()*** retorna verdadeiro ou falso. O retorno verdadeiro é convertido pelo Pandas em 0 para falso e 1 para verdadeiro. Então o método ***sum()*** agrega os valores das colunas, pois, ele ***opera por padrão no eixo 0***."
   ]
  },
  {
   "cell_type": "markdown",
   "id": "42175a66",
   "metadata": {},
   "source": [
    "## Construindo um filtro de valores nulos"
   ]
  },
  {
   "cell_type": "code",
   "execution_count": null,
   "id": "cc963047",
   "metadata": {},
   "outputs": [],
   "source": [
    "#Verificando as linhas em que a coluna city possui valor nulo\n",
    "\n",
    "ufo[ufo.City.isnull()].head(20)"
   ]
  },
  {
   "cell_type": "code",
   "execution_count": null,
   "id": "d734682d",
   "metadata": {},
   "outputs": [],
   "source": [
    "#Número de linhas e colunas\n",
    "\n",
    "A = ufo.shape #O resultado é uma tupla\n",
    "A"
   ]
  },
  {
   "cell_type": "markdown",
   "id": "0d8561bd",
   "metadata": {},
   "source": [
    "## dropna()"
   ]
  },
  {
   "cell_type": "markdown",
   "id": "e1092acd",
   "metadata": {},
   "source": [
    "### any: se qualquer valor estiver faltando na linha, então o dropna apaga a linha"
   ]
  },
  {
   "cell_type": "code",
   "execution_count": null,
   "id": "61931b9b",
   "metadata": {},
   "outputs": [],
   "source": [
    "B = ufo.dropna(how='any').shape\n",
    "B"
   ]
  },
  {
   "cell_type": "code",
   "execution_count": null,
   "id": "c1482ea3",
   "metadata": {},
   "outputs": [],
   "source": [
    "#O retorno do shape é uma tupla\n",
    "\n",
    "print('Deletadas ' + str((A[0] - B[0])) + ' linhas com valores nulos')"
   ]
  },
  {
   "cell_type": "code",
   "execution_count": null,
   "id": "4ea4cd9b",
   "metadata": {},
   "outputs": [],
   "source": [
    "#O inplace também é um parâmetro do dropna e é falso por padrão\n",
    "\n",
    "ufo.dropna(how='any').shape"
   ]
  },
  {
   "cell_type": "code",
   "execution_count": null,
   "id": "0ee00e0b",
   "metadata": {},
   "outputs": [],
   "source": [
    "#As linhas com NaN continuam no data frame\n",
    "\n",
    "ufo.shape"
   ]
  },
  {
   "cell_type": "markdown",
   "id": "7939b572",
   "metadata": {},
   "source": [
    "### all: se todos os valores da linha forem nulos, ela será deletada"
   ]
  },
  {
   "cell_type": "code",
   "execution_count": null,
   "id": "a1caff02",
   "metadata": {},
   "outputs": [],
   "source": [
    "ufo.dropna(how='all').shape"
   ]
  },
  {
   "cell_type": "markdown",
   "id": "6154bb67",
   "metadata": {},
   "source": [
    "### Utilizando o dropna com parâmetros"
   ]
  },
  {
   "cell_type": "markdown",
   "id": "ed5d8f3e",
   "metadata": {},
   "source": [
    "#### O parâmetro subset recebe uma lista"
   ]
  },
  {
   "cell_type": "code",
   "execution_count": null,
   "id": "5f5538e7",
   "metadata": {},
   "outputs": [],
   "source": [
    "#Estamos criando um subset com City e Shape Reported. Se houver qualquer valor nulo nessas colunas, a linha será deletada\n",
    "\n",
    "ufo.dropna(subset=['City','Shape Reported'],how='any').shape"
   ]
  },
  {
   "cell_type": "code",
   "execution_count": null,
   "id": "5c7b2231",
   "metadata": {},
   "outputs": [],
   "source": [
    "#Se todos os valores estiverem nulos em City ou Shape Reported, as linhas serão deletadas\n",
    "\n",
    "ufo.dropna(subset=['City','Shape Reported'],how='all').shape"
   ]
  },
  {
   "cell_type": "markdown",
   "id": "5b9a2186",
   "metadata": {},
   "source": [
    "***Como trabalha o parâmetro how?***\n",
    "\n",
    "* O any funciona como um OR ou I\n",
    "* o all funciona como um AND ou &"
   ]
  },
  {
   "cell_type": "markdown",
   "id": "4b225c66",
   "metadata": {},
   "source": [
    "#### value_counts realiza um count, porém não conta os valores NaN"
   ]
  },
  {
   "cell_type": "code",
   "execution_count": null,
   "id": "4d1b07fe",
   "metadata": {},
   "outputs": [],
   "source": [
    "ufo['Shape Reported'].value_counts().head()"
   ]
  },
  {
   "cell_type": "code",
   "execution_count": null,
   "id": "20620202",
   "metadata": {},
   "outputs": [],
   "source": [
    "#Podemos incluir os valores NaN\n",
    "\n",
    "ufo['Shape Reported'].value_counts(dropna=False).head()"
   ]
  },
  {
   "cell_type": "code",
   "execution_count": null,
   "id": "236116eb",
   "metadata": {},
   "outputs": [],
   "source": [
    "#Podemos ainda preencher os valores que estão faltando\n",
    "\n",
    "ufo['Shape Reported'].fillna(value='DIVERSOS',inplace=True)"
   ]
  },
  {
   "cell_type": "code",
   "execution_count": null,
   "id": "957cadd3",
   "metadata": {},
   "outputs": [],
   "source": [
    "#Confirmando a contagem incluindo o valor DIVERSOS\n",
    "\n",
    "ufo['Shape Reported'].value_counts().head()"
   ]
  }
 ],
 "metadata": {
  "kernelspec": {
   "display_name": "Python 3",
   "language": "python",
   "name": "python3"
  },
  "language_info": {
   "codemirror_mode": {
    "name": "ipython",
    "version": 3
   },
   "file_extension": ".py",
   "mimetype": "text/x-python",
   "name": "python",
   "nbconvert_exporter": "python",
   "pygments_lexer": "ipython3",
   "version": "3.8.8"
  }
 },
 "nbformat": 4,
 "nbformat_minor": 5
}
