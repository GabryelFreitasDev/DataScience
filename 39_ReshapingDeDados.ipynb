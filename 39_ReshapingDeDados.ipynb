{
 "cells": [
  {
   "cell_type": "markdown",
   "id": "ade9f228",
   "metadata": {},
   "source": [
    "## Group by e Reshape"
   ]
  },
  {
   "cell_type": "code",
   "execution_count": null,
   "id": "121ec441",
   "metadata": {},
   "outputs": [],
   "source": [
    "import numpy as np\n",
    "import pandas as pd"
   ]
  },
  {
   "cell_type": "code",
   "execution_count": null,
   "id": "a9c8ae31",
   "metadata": {},
   "outputs": [],
   "source": [
    "file=\"C:\\\\Git\\\\DataScience\\\\drinks.csv\"\n",
    "drinks=pd.read_csv(file)"
   ]
  },
  {
   "cell_type": "markdown",
   "id": "392d5927",
   "metadata": {},
   "source": [
    "## Utilizando o apply para aplicar funções em data frames"
   ]
  },
  {
   "cell_type": "code",
   "execution_count": null,
   "id": "41866a5c",
   "metadata": {},
   "outputs": [],
   "source": [
    "def consumo(a):\n",
    "    if a < 75:\n",
    "        return 'low'\n",
    "    if a >= 175:\n",
    "        return 'high'\n",
    "    else:\n",
    "        return 'middle'"
   ]
  },
  {
   "cell_type": "code",
   "execution_count": null,
   "id": "bf09dc08",
   "metadata": {},
   "outputs": [],
   "source": [
    "#A função apply aplica uma função linha a linha com base em uma coluna do data frame. O padrão é aplicar pra todas as colunas\n",
    "\n",
    "drinks['consumo'] = drinks['beer_servings'].apply(consumo)"
   ]
  },
  {
   "cell_type": "code",
   "execution_count": null,
   "id": "52e9d559",
   "metadata": {},
   "outputs": [],
   "source": [
    "drinks.head()"
   ]
  },
  {
   "cell_type": "markdown",
   "id": "457cda6f",
   "metadata": {},
   "source": [
    "## Exportando data frames"
   ]
  },
  {
   "cell_type": "code",
   "execution_count": null,
   "id": "e247ae4a",
   "metadata": {},
   "outputs": [],
   "source": [
    "#Sem indexação\n",
    "\n",
    "drinks.to_csv('drinks_consumo.csv',encoding='utf-8',index=False)"
   ]
  },
  {
   "cell_type": "code",
   "execution_count": null,
   "id": "128d0235",
   "metadata": {},
   "outputs": [],
   "source": [
    "#Com indexação\n",
    "\n",
    "drinks.to_csv('drinks_indice.csv',encoding='utf-8',index=True)"
   ]
  },
  {
   "cell_type": "code",
   "execution_count": null,
   "id": "49771bbd",
   "metadata": {},
   "outputs": [],
   "source": [
    "#Alterando o separador e a indexação padrão\n",
    "\n",
    "drinks.to_csv('drinks_default.csv',encoding='utf-8',sep='\\t')"
   ]
  },
  {
   "cell_type": "markdown",
   "id": "201d850d",
   "metadata": {},
   "source": [
    "## Importando"
   ]
  },
  {
   "cell_type": "code",
   "execution_count": null,
   "id": "25623183",
   "metadata": {},
   "outputs": [],
   "source": [
    "#O data frame que iremos trabalhar - index=False\n",
    "\n",
    "file='C:\\\\Git\\\\DataScience\\\\drinks_consumo.csv'\n",
    "drinks_consumo= pd.read_csv(file)\n",
    "drinks_consumo.head()"
   ]
  },
  {
   "cell_type": "code",
   "execution_count": null,
   "id": "f24f2cf0",
   "metadata": {},
   "outputs": [],
   "source": [
    "#Leitura de arquivo com index = True\n",
    "\n",
    "file='C:\\\\Git\\\\DataScience\\\\drinks_indice.csv'\n",
    "drinks_index= pd.read_csv(file)\n",
    "drinks_index.head()"
   ]
  },
  {
   "cell_type": "code",
   "execution_count": null,
   "id": "0a14b0d5",
   "metadata": {},
   "outputs": [],
   "source": [
    "#Index padrão = True - Lendo com read_table arquivos com tab\n",
    "\n",
    "file='C:\\\\Git\\\\DataScience\\\\drinks_default.csv'\n",
    "drinks_default= pd.read_table(file)\n",
    "drinks_default.head()"
   ]
  },
  {
   "cell_type": "code",
   "execution_count": null,
   "id": "601bd3bb",
   "metadata": {},
   "outputs": [],
   "source": [
    "#Index padrão = True - Lendo com read_csv arquivos com tab, colocando o separador\n",
    "\n",
    "file='C:\\\\Git\\\\DataScience\\\\drinks_default.csv'\n",
    "drinks_default= pd.read_csv(file,sep='\\t')\n",
    "drinks_default.head()"
   ]
  },
  {
   "cell_type": "code",
   "execution_count": null,
   "id": "f7911164",
   "metadata": {},
   "outputs": [],
   "source": [
    "drinks_consumo.count()"
   ]
  },
  {
   "cell_type": "markdown",
   "id": "cc908b0c",
   "metadata": {},
   "source": [
    "## Apagando uma coluna"
   ]
  },
  {
   "cell_type": "code",
   "execution_count": null,
   "id": "44dbc2b7",
   "metadata": {},
   "outputs": [],
   "source": [
    "del drinks['population']"
   ]
  },
  {
   "cell_type": "code",
   "execution_count": null,
   "id": "8a40a53d",
   "metadata": {},
   "outputs": [],
   "source": [
    "#Aplicando o group by\n",
    "\n",
    "drinks_1 = drinks_consumo.groupby('continent')"
   ]
  },
  {
   "cell_type": "code",
   "execution_count": null,
   "id": "4a6db94f",
   "metadata": {},
   "outputs": [],
   "source": [
    "#Verificando o tipo\n",
    "\n",
    "type(drinks_1)"
   ]
  },
  {
   "cell_type": "code",
   "execution_count": null,
   "id": "df99c3fb",
   "metadata": {},
   "outputs": [],
   "source": [
    "#Apresentando os grupos\n",
    "\n",
    "drinks_1.groups"
   ]
  },
  {
   "cell_type": "code",
   "execution_count": null,
   "id": "57b85b69",
   "metadata": {},
   "outputs": [],
   "source": [
    "#Quantidade de grupos\n",
    "\n",
    "len(drinks_1.groups)"
   ]
  },
  {
   "cell_type": "code",
   "execution_count": null,
   "id": "5a8d0a84",
   "metadata": {},
   "outputs": [],
   "source": [
    "ordenaDrinks = drinks_1.size()"
   ]
  },
  {
   "cell_type": "code",
   "execution_count": null,
   "id": "bd37a712",
   "metadata": {},
   "outputs": [],
   "source": [
    "ordenaDrinks"
   ]
  },
  {
   "cell_type": "code",
   "execution_count": null,
   "id": "3e0eba33",
   "metadata": {},
   "outputs": [],
   "source": [
    "#Ordenação dos grupos em ordem crescente\n",
    "\n",
    "ordenaDrinks.sort_values(ascending=True)"
   ]
  },
  {
   "cell_type": "code",
   "execution_count": null,
   "id": "1fbe84ba",
   "metadata": {},
   "outputs": [],
   "source": [
    "#Agrupamento por mais de uma coluna\n",
    "\n",
    "drinks_2 = drinks_consumo.groupby(['continent','consumo'])"
   ]
  },
  {
   "cell_type": "code",
   "execution_count": null,
   "id": "7fc61df8",
   "metadata": {},
   "outputs": [],
   "source": [
    "total = drinks_2.size()\n",
    "total.sort_values(ascending=False)\n",
    "total"
   ]
  },
  {
   "cell_type": "markdown",
   "id": "c758b67e",
   "metadata": {},
   "source": [
    "## Movimentando índices"
   ]
  },
  {
   "cell_type": "code",
   "execution_count": null,
   "id": "ecb62504",
   "metadata": {},
   "outputs": [],
   "source": [
    "drinks_3 = drinks_consumo.set_index('consumo')"
   ]
  },
  {
   "cell_type": "code",
   "execution_count": null,
   "id": "85d10367",
   "metadata": {},
   "outputs": [],
   "source": [
    "drinks_3.head()"
   ]
  },
  {
   "cell_type": "code",
   "execution_count": null,
   "id": "d8665817",
   "metadata": {},
   "outputs": [],
   "source": [
    "#Aplicando o group by por índice\n",
    "\n",
    "drinks_3 = drinks_3.groupby(level='consumo')"
   ]
  },
  {
   "cell_type": "code",
   "execution_count": null,
   "id": "56f15a33",
   "metadata": {},
   "outputs": [],
   "source": [
    "drinks_3"
   ]
  },
  {
   "cell_type": "code",
   "execution_count": null,
   "id": "750a2816",
   "metadata": {},
   "outputs": [],
   "source": [
    "drinks_3.sum()"
   ]
  },
  {
   "cell_type": "code",
   "execution_count": null,
   "id": "6b1c3837",
   "metadata": {},
   "outputs": [],
   "source": [
    "drinks_4 = drinks.set_index(['consumo','continent'])"
   ]
  },
  {
   "cell_type": "code",
   "execution_count": null,
   "id": "3064a4b6",
   "metadata": {},
   "outputs": [],
   "source": [
    "drinks_4.head()"
   ]
  },
  {
   "cell_type": "code",
   "execution_count": null,
   "id": "3f874576",
   "metadata": {},
   "outputs": [],
   "source": [
    "#Aplicando group by level nos índices\n",
    "\n",
    "drinks_4 = drinks_4.groupby(level=['consumo','continent'])"
   ]
  },
  {
   "cell_type": "code",
   "execution_count": null,
   "id": "6835d613",
   "metadata": {},
   "outputs": [],
   "source": [
    "drinks_4.sum()"
   ]
  },
  {
   "cell_type": "markdown",
   "id": "f34c10d3",
   "metadata": {},
   "source": [
    "## Realizando a mesma operação com numpy"
   ]
  },
  {
   "cell_type": "code",
   "execution_count": null,
   "id": "7ef27078",
   "metadata": {},
   "outputs": [],
   "source": [
    "drinks_4.aggregate(np.sum)"
   ]
  },
  {
   "cell_type": "code",
   "execution_count": null,
   "id": "27c9b36d",
   "metadata": {},
   "outputs": [],
   "source": [
    "drinks_4.aggregate([np.sum,np.mean,np.size])"
   ]
  },
  {
   "cell_type": "markdown",
   "id": "5544bfa6",
   "metadata": {},
   "source": [
    "## Agrupando por mais índices"
   ]
  },
  {
   "cell_type": "code",
   "execution_count": null,
   "id": "8e56fd3d",
   "metadata": {},
   "outputs": [],
   "source": [
    "drinks_5 = drinks_consumo.set_index(['continent','consumo'])"
   ]
  },
  {
   "cell_type": "code",
   "execution_count": null,
   "id": "90b9d0ae",
   "metadata": {},
   "outputs": [],
   "source": [
    "drinks_5 = drinks_5.groupby(level=['continent','consumo'])"
   ]
  },
  {
   "cell_type": "code",
   "execution_count": null,
   "id": "f006910c",
   "metadata": {},
   "outputs": [],
   "source": [
    "drinks.head(10)"
   ]
  },
  {
   "cell_type": "code",
   "execution_count": null,
   "id": "e8db8a9f",
   "metadata": {},
   "outputs": [],
   "source": [
    "drinks_5.sum()"
   ]
  },
  {
   "cell_type": "markdown",
   "id": "143170d9",
   "metadata": {},
   "source": [
    "## Deixando apenas a coluna país (categórica)"
   ]
  },
  {
   "cell_type": "code",
   "execution_count": null,
   "id": "b4b3e54c",
   "metadata": {},
   "outputs": [],
   "source": [
    "drinks_6 = drinks_consumo.set_index(['consumo','continent','beer_servings','spirit_servings','wine_servings','total_litres_of_pure_alcohol'])"
   ]
  },
  {
   "cell_type": "code",
   "execution_count": null,
   "id": "ebb99910",
   "metadata": {},
   "outputs": [],
   "source": [
    "del drinks_6['population']"
   ]
  },
  {
   "cell_type": "code",
   "execution_count": null,
   "id": "c5f003cd",
   "metadata": {},
   "outputs": [],
   "source": [
    "drinks_6.columns"
   ]
  },
  {
   "cell_type": "code",
   "execution_count": null,
   "id": "cd2656c1",
   "metadata": {},
   "outputs": [],
   "source": [
    "drinks_6.shape"
   ]
  },
  {
   "cell_type": "code",
   "execution_count": null,
   "id": "8520388d",
   "metadata": {},
   "outputs": [],
   "source": [
    "drinks_6.index"
   ]
  },
  {
   "cell_type": "code",
   "execution_count": null,
   "id": "1cc23c44",
   "metadata": {},
   "outputs": [],
   "source": [
    "drinks_6 = drinks_6.groupby(level=['consumo','continent'])"
   ]
  },
  {
   "cell_type": "code",
   "execution_count": null,
   "id": "7e108c6e",
   "metadata": {},
   "outputs": [],
   "source": [
    "drinks_6.count()"
   ]
  },
  {
   "cell_type": "code",
   "execution_count": null,
   "id": "d8771f4f",
   "metadata": {},
   "outputs": [],
   "source": [
    "drinks_6.sum()"
   ]
  },
  {
   "cell_type": "code",
   "execution_count": null,
   "id": "16849025",
   "metadata": {},
   "outputs": [],
   "source": [
    "drinks_7 = drinks_consumo.set_index(['consumo','continent','beer_servings','spirit_servings','wine_servings','total_litres_of_pure_alcohol'])"
   ]
  },
  {
   "cell_type": "code",
   "execution_count": null,
   "id": "980f526e",
   "metadata": {},
   "outputs": [],
   "source": [
    "del drinks_7['population']"
   ]
  },
  {
   "cell_type": "code",
   "execution_count": null,
   "id": "d01a763e",
   "metadata": {},
   "outputs": [],
   "source": [
    "drinks_7 = drinks_7.groupby(level=['consumo','continent','beer_servings'])"
   ]
  },
  {
   "cell_type": "code",
   "execution_count": null,
   "id": "21fe5a99",
   "metadata": {},
   "outputs": [],
   "source": [
    "drinks_7.sum()"
   ]
  }
 ],
 "metadata": {
  "kernelspec": {
   "display_name": "Python 3",
   "language": "python",
   "name": "python3"
  },
  "language_info": {
   "codemirror_mode": {
    "name": "ipython",
    "version": 3
   },
   "file_extension": ".py",
   "mimetype": "text/x-python",
   "name": "python",
   "nbconvert_exporter": "python",
   "pygments_lexer": "ipython3",
   "version": "3.8.8"
  }
 },
 "nbformat": 4,
 "nbformat_minor": 5
}
