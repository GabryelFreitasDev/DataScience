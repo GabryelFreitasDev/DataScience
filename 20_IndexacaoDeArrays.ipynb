{
 "cells": [
  {
   "cell_type": "code",
   "execution_count": null,
   "id": "985fa747",
   "metadata": {},
   "outputs": [],
   "source": [
    "import numpy as np"
   ]
  },
  {
   "cell_type": "code",
   "execution_count": null,
   "id": "440946cd",
   "metadata": {},
   "outputs": [],
   "source": [
    "a = [1,2,11,6,8,18,2] #Lista em Python\n",
    "\n",
    "array = np.array(a)   #Lista do Python equivale ao array do np\n",
    "\n",
    "print(type(array))"
   ]
  },
  {
   "cell_type": "code",
   "execution_count": null,
   "id": "6b388f03",
   "metadata": {},
   "outputs": [],
   "source": [
    "#Verificando o tamanho do array\n",
    "print(array.shape)"
   ]
  },
  {
   "cell_type": "code",
   "execution_count": null,
   "id": "99fe3b45",
   "metadata": {},
   "outputs": [],
   "source": [
    "#Primeiro elemento\n",
    "array[0]"
   ]
  },
  {
   "cell_type": "code",
   "execution_count": null,
   "id": "6a6ecfd0",
   "metadata": {},
   "outputs": [],
   "source": [
    "#Último elemento\n",
    "array[-1]"
   ]
  },
  {
   "cell_type": "code",
   "execution_count": null,
   "id": "e5962a72",
   "metadata": {},
   "outputs": [],
   "source": [
    "#Índice 1 até 5 (exclusivo: não traz o último elemento)\n",
    "\n",
    "print(array[1:5])"
   ]
  },
  {
   "cell_type": "code",
   "execution_count": null,
   "id": "f87df877",
   "metadata": {},
   "outputs": [],
   "source": [
    "#Passo de 2 em 2\n",
    "\n",
    "print(array[1:5:2])"
   ]
  },
  {
   "cell_type": "code",
   "execution_count": null,
   "id": "2abe5be7",
   "metadata": {},
   "outputs": [],
   "source": [
    "#Com índices negativos\n",
    "#-7 representa o primeiro da esquerda e -3 representa o último elemento a ser trazido (exclusivo: não traz o último elemento)\n",
    "\n",
    "print(array[-7:-3])"
   ]
  },
  {
   "cell_type": "code",
   "execution_count": null,
   "id": "afffbd3b",
   "metadata": {},
   "outputs": [],
   "source": [
    "#Índice 3 até o fim\n",
    "\n",
    "print(array[3:])"
   ]
  },
  {
   "cell_type": "code",
   "execution_count": null,
   "id": "d4998a00",
   "metadata": {},
   "outputs": [],
   "source": [
    "#Início até o índice 4\n",
    "\n",
    "print(a[:4])"
   ]
  },
  {
   "cell_type": "code",
   "execution_count": null,
   "id": "50aaaea9",
   "metadata": {},
   "outputs": [],
   "source": [
    "#Invertendo array: início até o fim ao passo de -1\n",
    "\n",
    "array[::-1]"
   ]
  },
  {
   "cell_type": "code",
   "execution_count": null,
   "id": "b38bed64",
   "metadata": {},
   "outputs": [],
   "source": [
    "#Copiando array por referência\n",
    "\n",
    "b = array[:]\n",
    "print(b)"
   ]
  },
  {
   "cell_type": "code",
   "execution_count": null,
   "id": "f8c56d13",
   "metadata": {},
   "outputs": [],
   "source": [
    "#Concatenando 2 arrays\n",
    "\n",
    "x = np.array([2,6,8,4])\n",
    "y = np.array([11,8,2])\n",
    "\n",
    "z = np.concatenate([x,y])\n",
    "\n",
    "print(z)"
   ]
  }
 ],
 "metadata": {
  "kernelspec": {
   "display_name": "Python 3",
   "language": "python",
   "name": "python3"
  },
  "language_info": {
   "codemirror_mode": {
    "name": "ipython",
    "version": 3
   },
   "file_extension": ".py",
   "mimetype": "text/x-python",
   "name": "python",
   "nbconvert_exporter": "python",
   "pygments_lexer": "ipython3",
   "version": "3.8.8"
  }
 },
 "nbformat": 4,
 "nbformat_minor": 5
}
