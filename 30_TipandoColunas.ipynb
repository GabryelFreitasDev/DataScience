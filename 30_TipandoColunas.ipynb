{
 "cells": [
  {
   "cell_type": "code",
   "execution_count": null,
   "id": "f201d621",
   "metadata": {},
   "outputs": [],
   "source": [
    "import numpy as np\n",
    "import pandas as pd"
   ]
  },
  {
   "cell_type": "code",
   "execution_count": null,
   "id": "c9642c08",
   "metadata": {},
   "outputs": [],
   "source": [
    "file=\"C:\\\\Git\\\\DataScience\\\\drinks.csv\"\n",
    "drinks = pd.read_csv(file)"
   ]
  },
  {
   "cell_type": "code",
   "execution_count": null,
   "id": "71647c10",
   "metadata": {},
   "outputs": [],
   "source": [
    "#Verificando os tipos\n",
    "\n",
    "drinks.dtypes"
   ]
  },
  {
   "cell_type": "code",
   "execution_count": null,
   "id": "ddb9974e",
   "metadata": {},
   "outputs": [],
   "source": [
    "#Alterando o tipo em uma série existente\n",
    "\n",
    "#NÃO CONSEGUIMOS CONVERTER DIRETO populacao_int = drinks['population'] = int(drinks.population.str.replace('.',''))\n",
    "\n",
    "populacao_int = drinks['population'] = drinks.population.str.replace('.','')\n",
    "\n",
    "populacao_int.head()"
   ]
  },
  {
   "cell_type": "code",
   "execution_count": null,
   "id": "717bd14f",
   "metadata": {},
   "outputs": [],
   "source": [
    "inteiros = []\n",
    "\n",
    "for item in drinks.population:\n",
    "    a = item.replace('.','')\n",
    "    b = int(a)\n",
    "    inteiros.append(b)"
   ]
  },
  {
   "cell_type": "code",
   "execution_count": null,
   "id": "fcbe57cb",
   "metadata": {},
   "outputs": [],
   "source": [
    "inteiros[3]"
   ]
  },
  {
   "cell_type": "code",
   "execution_count": null,
   "id": "4aafb72c",
   "metadata": {},
   "outputs": [],
   "source": [
    "type(inteiros[3])"
   ]
  },
  {
   "cell_type": "code",
   "execution_count": null,
   "id": "ad1a0cfd",
   "metadata": {},
   "outputs": [],
   "source": [
    "drinks[\"pop_total\"] = pd.Series(inteiros)"
   ]
  },
  {
   "cell_type": "code",
   "execution_count": null,
   "id": "be760ca7",
   "metadata": {},
   "outputs": [],
   "source": [
    "drinks.head()"
   ]
  },
  {
   "cell_type": "code",
   "execution_count": null,
   "id": "791dd481",
   "metadata": {},
   "outputs": [],
   "source": [
    "drinks.dtypes"
   ]
  },
  {
   "cell_type": "code",
   "execution_count": null,
   "id": "83dfbb63",
   "metadata": {},
   "outputs": [],
   "source": [
    "#Removendo a coluna population\n",
    "\n",
    "drinks = drinks.drop('population',axis=1)"
   ]
  },
  {
   "cell_type": "code",
   "execution_count": null,
   "id": "53aeaf4d",
   "metadata": {},
   "outputs": [],
   "source": [
    "drinks.head()"
   ]
  },
  {
   "cell_type": "code",
   "execution_count": null,
   "id": "dbd079c6",
   "metadata": {},
   "outputs": [],
   "source": [
    "drinks.describe()"
   ]
  }
 ],
 "metadata": {
  "kernelspec": {
   "display_name": "Python 3",
   "language": "python",
   "name": "python3"
  },
  "language_info": {
   "codemirror_mode": {
    "name": "ipython",
    "version": 3
   },
   "file_extension": ".py",
   "mimetype": "text/x-python",
   "name": "python",
   "nbconvert_exporter": "python",
   "pygments_lexer": "ipython3",
   "version": "3.8.8"
  }
 },
 "nbformat": 4,
 "nbformat_minor": 5
}
