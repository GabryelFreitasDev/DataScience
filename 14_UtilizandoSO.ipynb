{
 "cells": [
  {
   "cell_type": "code",
   "execution_count": null,
   "id": "d38bb988",
   "metadata": {},
   "outputs": [],
   "source": [
    "#Importação da biblioteca de interação com o SO\n",
    "import os"
   ]
  },
  {
   "cell_type": "code",
   "execution_count": null,
   "id": "bd7a7145",
   "metadata": {},
   "outputs": [],
   "source": [
    "#Verificando o diretório atual\n",
    "os.getcwd()"
   ]
  },
  {
   "cell_type": "code",
   "execution_count": null,
   "id": "ceeab8e3",
   "metadata": {},
   "outputs": [],
   "source": [
    "#Visualizando todos os métodos de uma biblioteca importada\n",
    "dir(os)"
   ]
  },
  {
   "cell_type": "code",
   "execution_count": null,
   "id": "915f369e",
   "metadata": {},
   "outputs": [],
   "source": [
    "#Importação do Pandas\n",
    "import pandas"
   ]
  },
  {
   "cell_type": "code",
   "execution_count": null,
   "id": "c043a2b4",
   "metadata": {},
   "outputs": [],
   "source": [
    "dir (pandas)"
   ]
  },
  {
   "cell_type": "code",
   "execution_count": null,
   "id": "cf109914",
   "metadata": {},
   "outputs": [],
   "source": [
    "#Navegando entre diretórios\n",
    "os.chdir('c:\\\\')\n",
    "os.getcwd()"
   ]
  },
  {
   "cell_type": "code",
   "execution_count": null,
   "id": "fbb6de82",
   "metadata": {},
   "outputs": [],
   "source": [
    "#Criando diretórios\n",
    "os.mkdir('c:\\\\ExemploDiretorio')\n",
    "os.chdir('c:\\\\ExemploDiretorio')\n",
    "with open ('arquivo.txt','w') as arq:\n",
    "    arq.write('Arquivo crido')"
   ]
  },
  {
   "cell_type": "code",
   "execution_count": null,
   "id": "667a8ea1",
   "metadata": {},
   "outputs": [],
   "source": [
    "#Verificando arquivos do diretório\n",
    "os.listdir()"
   ]
  },
  {
   "cell_type": "code",
   "execution_count": null,
   "id": "2bbb25e1",
   "metadata": {},
   "outputs": [],
   "source": [
    "#Remoção de arquivos\n",
    "os.remove('arquivo.txt')"
   ]
  }
 ],
 "metadata": {
  "kernelspec": {
   "display_name": "Python 3",
   "language": "python",
   "name": "python3"
  },
  "language_info": {
   "codemirror_mode": {
    "name": "ipython",
    "version": 3
   },
   "file_extension": ".py",
   "mimetype": "text/x-python",
   "name": "python",
   "nbconvert_exporter": "python",
   "pygments_lexer": "ipython3",
   "version": "3.8.8"
  }
 },
 "nbformat": 4,
 "nbformat_minor": 5
}
