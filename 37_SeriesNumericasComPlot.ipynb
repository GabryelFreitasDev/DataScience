{
 "cells": [
  {
   "cell_type": "code",
   "execution_count": null,
   "id": "ae0f2e00",
   "metadata": {},
   "outputs": [],
   "source": [
    "import pandas as pd\n",
    "import numpy as np"
   ]
  },
  {
   "cell_type": "code",
   "execution_count": null,
   "id": "4a9fa118",
   "metadata": {},
   "outputs": [],
   "source": [
    "colunas_filmes = ['star_rating','title','content_rating','genre','duration','actors_list']\n",
    "\n",
    "file=\"C:\\\\Git\\\\DataScience\\\\movies.csv\"\n",
    "filmes=pd.read_csv(file,header=0,names=colunas_filmes)\n",
    "filmes.columns"
   ]
  },
  {
   "cell_type": "markdown",
   "id": "20bfbe77",
   "metadata": {},
   "source": [
    "## Explorando séries numéricas"
   ]
  },
  {
   "cell_type": "code",
   "execution_count": null,
   "id": "ecb80d23",
   "metadata": {},
   "outputs": [],
   "source": [
    "filmes.duration.describe()"
   ]
  },
  {
   "cell_type": "code",
   "execution_count": null,
   "id": "89c9db37",
   "metadata": {},
   "outputs": [],
   "source": [
    "#Retirando a média de duração\n",
    "\n",
    "filmes.duration.mean()"
   ]
  },
  {
   "cell_type": "code",
   "execution_count": null,
   "id": "c9f5bbad",
   "metadata": {},
   "outputs": [],
   "source": [
    "#Utilizando o value counts() para série categórica\n",
    "\n",
    "filmes.genre.value_counts()"
   ]
  },
  {
   "cell_type": "code",
   "execution_count": null,
   "id": "05647180",
   "metadata": {},
   "outputs": [],
   "source": [
    "#Podemos utilizar o value_counts() para dados não categóricos também\n",
    "\n",
    "filmes.duration.value_counts()"
   ]
  },
  {
   "cell_type": "markdown",
   "id": "a83fe67d",
   "metadata": {},
   "source": [
    "## Plotando histograma e gráfico de barras "
   ]
  },
  {
   "cell_type": "code",
   "execution_count": null,
   "id": "c7dbb814",
   "metadata": {},
   "outputs": [],
   "source": [
    "%matplotlib inline"
   ]
  },
  {
   "cell_type": "code",
   "execution_count": null,
   "id": "c1d71f41",
   "metadata": {},
   "outputs": [],
   "source": [
    "filmes.duration.plot(kind='hist')"
   ]
  },
  {
   "cell_type": "code",
   "execution_count": null,
   "id": "80c34be0",
   "metadata": {},
   "outputs": [],
   "source": [
    "filmes.genre.value_counts().plot(kind='bar')"
   ]
  }
 ],
 "metadata": {
  "kernelspec": {
   "display_name": "Python 3",
   "language": "python",
   "name": "python3"
  },
  "language_info": {
   "codemirror_mode": {
    "name": "ipython",
    "version": 3
   },
   "file_extension": ".py",
   "mimetype": "text/x-python",
   "name": "python",
   "nbconvert_exporter": "python",
   "pygments_lexer": "ipython3",
   "version": "3.8.8"
  }
 },
 "nbformat": 4,
 "nbformat_minor": 5
}
