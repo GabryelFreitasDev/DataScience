{
 "cells": [
  {
   "cell_type": "code",
   "execution_count": null,
   "id": "46dd1ed6",
   "metadata": {},
   "outputs": [],
   "source": [
    "import matplotlib.pyplot as plt\n",
    "%matplotlib inline"
   ]
  },
  {
   "cell_type": "code",
   "execution_count": null,
   "id": "bd3c879a",
   "metadata": {},
   "outputs": [],
   "source": [
    "x  = []\n",
    "y  = []\n",
    "y2 = []"
   ]
  },
  {
   "cell_type": "code",
   "execution_count": null,
   "id": "98ebcb8c",
   "metadata": {},
   "outputs": [],
   "source": [
    "for num in range(-200,201,10):\n",
    "    x.append(num)\n",
    "    y.append(num)\n",
    "    y2.append(2 * num)"
   ]
  },
  {
   "cell_type": "code",
   "execution_count": null,
   "id": "a1686988",
   "metadata": {},
   "outputs": [],
   "source": [
    "plt.plot(x,y, c='red', ls='-', lw=2, marker='o', ms=10, fillstyle='top', mfc='blue')\n",
    "plt.plot(x, y2, c='green')"
   ]
  },
  {
   "cell_type": "code",
   "execution_count": null,
   "id": "bf7c4ceb",
   "metadata": {},
   "outputs": [],
   "source": [
    "#Adicionando descrição aos eixos"
   ]
  },
  {
   "cell_type": "code",
   "execution_count": null,
   "id": "f930df48",
   "metadata": {},
   "outputs": [],
   "source": [
    "plt.plot(x,y, c='red', ls='-', lw=2, marker='o', ms=10, fillstyle='top', mfc='blue')\n",
    "plt.plot(x, y2, c='green')\n",
    "\n",
    "#Primeira descrição\n",
    "plt.xlabel('Eixo X')"
   ]
  },
  {
   "cell_type": "code",
   "execution_count": null,
   "id": "cd7d5886",
   "metadata": {},
   "outputs": [],
   "source": [
    "#Formatando a fonte descritiva dos eixos"
   ]
  },
  {
   "cell_type": "code",
   "execution_count": null,
   "id": "0fe2afb1",
   "metadata": {},
   "outputs": [],
   "source": [
    "plt.plot(x,y, c='red', ls='-', lw=2, marker='o', ms=10, fillstyle='top', mfc='blue')\n",
    "plt.plot(x, y2, c='green')\n",
    "\n",
    "#Primeira descrição\n",
    "plt.xlabel('Espaço para o Eixo X', color='red', fontsize=15)"
   ]
  },
  {
   "cell_type": "code",
   "execution_count": null,
   "id": "7193aca6",
   "metadata": {},
   "outputs": [],
   "source": [
    "#Alinhamento dos textos descritivos"
   ]
  },
  {
   "cell_type": "code",
   "execution_count": null,
   "id": "4b83e1dd",
   "metadata": {},
   "outputs": [],
   "source": [
    "#Espaço livre a partir do ponto médio do eixo\n",
    "\n",
    "plt.plot(x,y, c='red', ls='-', lw=2, marker='o', ms=10, fillstyle='top', mfc='blue')\n",
    "plt.plot(x, y2, c='green')\n",
    "\n",
    "#Alinhando a partir de 0\n",
    "\n",
    "plt.xlabel('Espaço para o Eixo X', color='red', fontsize=15, horizontalalignment='right')\n",
    "\n",
    "#O alinhamento não é em relação às margens, mas ao ponto médio do eixo"
   ]
  },
  {
   "cell_type": "code",
   "execution_count": null,
   "id": "68c9b7bf",
   "metadata": {},
   "outputs": [],
   "source": [
    "#Y label"
   ]
  },
  {
   "cell_type": "code",
   "execution_count": null,
   "id": "0887cf9e",
   "metadata": {},
   "outputs": [],
   "source": [
    "plt.plot(x,y, c='red', ls='-', lw=2, marker='o', ms=10, fillstyle='top', mfc='blue')\n",
    "plt.plot(x, y2, c='green')\n",
    "\n",
    "#Realizando formatações no eixo Y\n",
    "\n",
    "plt.xlabel('Espaço para o Eixo X', color='red', fontsize=15, horizontalalignment='center')\n",
    "plt.ylabel('Espaço para o Eixo Y', color='blue', fontsize=15, horizontalalignment='center')"
   ]
  },
  {
   "cell_type": "code",
   "execution_count": null,
   "id": "ee06ce0f",
   "metadata": {},
   "outputs": [],
   "source": [
    "#Alinhamento vertical - Alinhamos o eixo Y verticalmente atravpes da opção horizontalalignment"
   ]
  },
  {
   "cell_type": "code",
   "execution_count": null,
   "id": "b62ed79f",
   "metadata": {},
   "outputs": [],
   "source": [
    "plt.plot(x,y, c='red', ls='-', lw=2, marker='o', ms=10, fillstyle='top', mfc='blue')\n",
    "plt.plot(x, y2, c='green')\n",
    "\n",
    "#Alinhando verticalmente\n",
    "\n",
    "plt.xlabel('Espaço para o Eixo X', color='red', fontsize=15, horizontalalignment='center')\n",
    "plt.ylabel('Espaço para o Eixo Y', color='blue', fontsize=15, horizontalalignment='right')"
   ]
  },
  {
   "cell_type": "code",
   "execution_count": null,
   "id": "bf90bfa5",
   "metadata": {},
   "outputs": [],
   "source": [
    "#Adicionando um título"
   ]
  },
  {
   "cell_type": "code",
   "execution_count": null,
   "id": "b1a10328",
   "metadata": {},
   "outputs": [],
   "source": [
    "plt.plot(x,y, c='red', ls='-', lw=2, marker='o', ms=10, fillstyle='top', mfc='blue')\n",
    "plt.plot(x, y2, c='green')\n",
    "\n",
    "plt.xlabel('Espaço para o Eixo X', color='red', fontsize=15, horizontalalignment='center')\n",
    "plt.ylabel('Espaço para o Eixo Y', color='blue', fontsize=15, horizontalalignment='right')\n",
    "\n",
    "#Title\n",
    "plt.title(\"Título do gráfico\", color='gray', fontsize=25)"
   ]
  },
  {
   "cell_type": "code",
   "execution_count": null,
   "id": "8a3c0966",
   "metadata": {},
   "outputs": [],
   "source": [
    "#Texto matemático"
   ]
  },
  {
   "cell_type": "code",
   "execution_count": null,
   "id": "19706fe3",
   "metadata": {},
   "outputs": [],
   "source": [
    "plt.plot(x,y, c='red', ls='-', lw=2, marker='o', ms=10, fillstyle='top', mfc='blue')\n",
    "plt.plot(x, y2, c='green')\n",
    "\n",
    "plt.xlabel('Espaço para o Eixo X', color='red', fontsize=15, horizontalalignment='center')\n",
    "plt.ylabel('Espaço para o Eixo Y', color='blue', fontsize=15, horizontalalignment='right')\n",
    "\n",
    "# verticalalignment = \"bottom\"\n",
    "plt.title(r\"Título do gráfico $\\frac{5}{4}$\", color='gray', fontsize=25)\n",
    "# r: indica que está sendo aberta uma janela de programação"
   ]
  },
  {
   "cell_type": "code",
   "execution_count": null,
   "id": "99336283",
   "metadata": {},
   "outputs": [],
   "source": [
    "#Labels ou legendas"
   ]
  },
  {
   "cell_type": "code",
   "execution_count": null,
   "id": "bb2da2d7",
   "metadata": {},
   "outputs": [],
   "source": [
    "plt.plot(x,y, c='red', ls='-', lw=2, marker='o', ms=10, fillstyle='top', mfc='blue', label='Primeiro')\n",
    "plt.plot(x, y2, c='green', label='Segundo')\n",
    "\n",
    "plt.xlabel('Espaço para o Eixo X', color='red', fontsize=15, horizontalalignment='center')\n",
    "plt.ylabel('Espaço para o Eixo Y', color='blue', fontsize=15, horizontalalignment='center')\n",
    "\n",
    "plt.title(r\"Título do gráfico $\\frac{5}{4}$\", color='gray', fontsize=25)\n",
    "\n",
    "#Inserindo a legenda\n",
    "plt.legend()"
   ]
  },
  {
   "cell_type": "code",
   "execution_count": null,
   "id": "7fa2dc22",
   "metadata": {},
   "outputs": [],
   "source": [
    "#Posição das labels"
   ]
  },
  {
   "cell_type": "code",
   "execution_count": null,
   "id": "ce990602",
   "metadata": {},
   "outputs": [],
   "source": [
    "plt.plot(x,y, c='red', ls='-', lw=2, marker='o', ms=10, fillstyle='top', mfc='blue', label='Primeiro')\n",
    "plt.plot(x, y2, c='green', label='Segundo')\n",
    "\n",
    "plt.xlabel('Espaço para o Eixo X', color='red', fontsize=15, horizontalalignment='center')\n",
    "plt.ylabel('Espaço para o Eixo Y', color='blue', fontsize=15, horizontalalignment='center')\n",
    "\n",
    "plt.title(r\"Título do gráfico $\\frac{5}{4}$\", color='gray', fontsize=25)\n",
    "\n",
    "#Posicionando a legenda\n",
    "plt.legend(loc = 'lower right')"
   ]
  },
  {
   "cell_type": "code",
   "execution_count": null,
   "id": "b89e5b8b",
   "metadata": {},
   "outputs": [],
   "source": [
    "#Customizando os eixos (tickers)"
   ]
  },
  {
   "cell_type": "code",
   "execution_count": null,
   "id": "ca15caa6",
   "metadata": {},
   "outputs": [],
   "source": [
    "plt.plot(x,y, c='red', ls='-', lw=2, marker='o', ms=10, fillstyle='top', mfc='blue', label='Primeiro')\n",
    "plt.plot(x, y2, c='green', label='Segundo')\n",
    "\n",
    "plt.xlabel('Espaço para o Eixo X', color='red', fontsize=15, horizontalalignment='center')\n",
    "plt.ylabel('Espaço para o Eixo Y', color='blue', fontsize=15, horizontalalignment='center')\n",
    "\n",
    "plt.title(r\"Título do gráfico $\\frac{5}{4}$\", color='gray', fontsize=25)\n",
    "\n",
    "plt.legend(loc = 'lower right')\n",
    "\n",
    "#Iniciando a customização dos eixos\n",
    "eixoX = ['JAN', 'ABR', 'JUL']\n",
    "\n",
    "plt.xticks([-200,0,200], eixoX)"
   ]
  },
  {
   "cell_type": "code",
   "execution_count": null,
   "id": "7ed3a387",
   "metadata": {},
   "outputs": [],
   "source": [
    "#Customizando o eixo Y"
   ]
  },
  {
   "cell_type": "code",
   "execution_count": null,
   "id": "d87f9744",
   "metadata": {},
   "outputs": [],
   "source": [
    "plt.plot(x,y, c='red', ls='-', label='Produto A')\n",
    "plt.plot(x, y2, c='green', ls='-', label='produto B')\n",
    "\n",
    "plt.xlabel('Meses', color='red', fontsize=15, horizontalalignment='center')\n",
    "plt.ylabel('Classificação', color='blue', fontsize=15, horizontalalignment='center')\n",
    "\n",
    "plt.legend(loc = 'lower right')\n",
    "\n",
    "#Customizando os eixos X e Y\n",
    "\n",
    "plt.title('Produtos em 2018', color='gray', fontsize=25)\n",
    "\n",
    "eixoX = ['JAN', 'ABR', 'JUL']\n",
    "eixoY = ['Fraco', 'Regular', 'Neutro', 'Bom', 'Excelente']\n",
    "\n",
    "plt.xticks([-200,0,200], eixoX)\n",
    "plt.yticks([-400,-100,0,100,400], eixoY)"
   ]
  },
  {
   "cell_type": "code",
   "execution_count": null,
   "id": "571dbaa8",
   "metadata": {},
   "outputs": [],
   "source": [
    "#Rotacionando ticks"
   ]
  },
  {
   "cell_type": "code",
   "execution_count": null,
   "id": "452a3397",
   "metadata": {},
   "outputs": [],
   "source": [
    "eixoX = ['01/01/2018', '01/04/2018', '30/06/2018', '01/07/2018', '01/10/2018']\n",
    "eixoY = ['Fraco', 'Regular', 'Neutro', 'Bom', 'Excelente']\n",
    "\n",
    "plt.plot(x,y, c='red', ls='-', label='Produto A')\n",
    "plt.plot(x, y2, c='green', ls='-', label='produto B')\n",
    "\n",
    "plt.xlabel('Datas', color='red', fontsize=15, horizontalalignment='center')\n",
    "plt.ylabel('Classificação', color='blue', fontsize=15, horizontalalignment='center')\n",
    "\n",
    "plt.title('Produtos', color='gray', fontsize=25)\n",
    "\n",
    "plt.xticks([-200,-100,0,100,200], eixoX, rotation=50)\n",
    "plt.yticks([-400,-100,0,100,400], eixoY)\n",
    "\n",
    "plt.legend(loc = 'lower right')"
   ]
  }
 ],
 "metadata": {
  "kernelspec": {
   "display_name": "Python 3",
   "language": "python",
   "name": "python3"
  },
  "language_info": {
   "codemirror_mode": {
    "name": "ipython",
    "version": 3
   },
   "file_extension": ".py",
   "mimetype": "text/x-python",
   "name": "python",
   "nbconvert_exporter": "python",
   "pygments_lexer": "ipython3",
   "version": "3.8.8"
  }
 },
 "nbformat": 4,
 "nbformat_minor": 5
}
