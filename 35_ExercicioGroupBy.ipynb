{
 "cells": [
  {
   "cell_type": "code",
   "execution_count": null,
   "id": "aba4b136",
   "metadata": {},
   "outputs": [],
   "source": [
    "import numpy as np\n",
    "import pandas as pd"
   ]
  },
  {
   "cell_type": "code",
   "execution_count": null,
   "id": "6d6c9bd2",
   "metadata": {},
   "outputs": [],
   "source": [
    "arquivo=\"C:\\\\Git\\\\DataScience\\\\Sanduiches.txt\"\n",
    "vendas=pd.read_table(arquivo)\n",
    "vendas.head(20)"
   ]
  },
  {
   "cell_type": "code",
   "execution_count": null,
   "id": "5ce653c3",
   "metadata": {},
   "outputs": [],
   "source": [
    "#Remoção do $ e convesão para float\n",
    "\n",
    "vendas['item_price']=vendas.item_price.str.replace('$','').astype(float)"
   ]
  },
  {
   "cell_type": "code",
   "execution_count": null,
   "id": "8f8ef6ba",
   "metadata": {},
   "outputs": [],
   "source": [
    "vendas.head(20)"
   ]
  },
  {
   "cell_type": "code",
   "execution_count": null,
   "id": "cf48cb19",
   "metadata": {},
   "outputs": [],
   "source": [
    "#Calculando valor das contas e quantidade dos itens pelo order_id\n",
    "\n",
    "resumo = vendas.groupby('order_id').sum(['new_item_price','quantity'])"
   ]
  },
  {
   "cell_type": "code",
   "execution_count": null,
   "id": "afecd371",
   "metadata": {},
   "outputs": [],
   "source": [
    "resumo.describe()"
   ]
  },
  {
   "cell_type": "code",
   "execution_count": null,
   "id": "9221b5a6",
   "metadata": {},
   "outputs": [],
   "source": [
    "vendas.groupby('order_id').item_price.agg(['count','mean','min','max','sum']).head(20)"
   ]
  }
 ],
 "metadata": {
  "kernelspec": {
   "display_name": "Python 3",
   "language": "python",
   "name": "python3"
  },
  "language_info": {
   "codemirror_mode": {
    "name": "ipython",
    "version": 3
   },
   "file_extension": ".py",
   "mimetype": "text/x-python",
   "name": "python",
   "nbconvert_exporter": "python",
   "pygments_lexer": "ipython3",
   "version": "3.8.8"
  }
 },
 "nbformat": 4,
 "nbformat_minor": 5
}
