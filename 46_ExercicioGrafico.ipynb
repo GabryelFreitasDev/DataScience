{
 "cells": [
  {
   "cell_type": "code",
   "execution_count": null,
   "id": "744a3923",
   "metadata": {},
   "outputs": [],
   "source": [
    "import matplotlib.pyplot as plt\n",
    "%matplotlib inline"
   ]
  },
  {
   "cell_type": "code",
   "execution_count": null,
   "id": "011b8b99",
   "metadata": {},
   "outputs": [],
   "source": [
    "#Dados"
   ]
  },
  {
   "cell_type": "code",
   "execution_count": null,
   "id": "f4f893a8",
   "metadata": {},
   "outputs": [],
   "source": [
    "a = [1,2,3,4,5,6,7,8,9,10,11,12]\n",
    "b = [15,4,4,6,8,10,10,12,14,12,10,10]\n",
    "\n",
    "c = [1,2,3,4,5,6,7,8,9,10,11,12]\n",
    "d = [12,7,7,9,11,13,8,15,17,15,13,17]\n",
    "\n",
    "e = [1,2,3,4,5,6,7,8,9,10,11,12]\n",
    "f = [5,10,5,4,23,1,9,4,12,19,23,2]"
   ]
  },
  {
   "cell_type": "code",
   "execution_count": null,
   "id": "f4f08032",
   "metadata": {},
   "outputs": [],
   "source": [
    "#Construção do gráfico"
   ]
  },
  {
   "cell_type": "code",
   "execution_count": null,
   "id": "8064047a",
   "metadata": {},
   "outputs": [],
   "source": [
    "#Descrições dos eixos\n",
    "eixoX = ['JAN', 'FEV', 'MAR', 'ABR', 'MAI', 'JUN', 'JUL', 'AGO', 'SET', 'OUT', 'NOV', 'DEZ']\n",
    "eixoY = ['Péssimo', 'Fraco', 'Regular', 'Neutro', 'Bom', 'Ótimo', 'Excelente']\n",
    "\n",
    "#Plotagem das linhas\n",
    "plt.plot(a,b, c='blue', ls=':', lw=1, marker='^', label='Funcionário A')\n",
    "plt.plot(c,d, c='red', ls=':', lw=1, marker='o', label='Funcionário B')\n",
    "plt.plot(e,f, c='purple', ls=':', lw=1, marker='x', label='Funcionário C')\n",
    "\n",
    "#Descrição dos eixos\n",
    "plt.xlabel('Período', color='green', fontsize=15, horizontalalignment='center')\n",
    "plt.ylabel('Classificação', color='green', fontsize=15, horizontalalignment='center')\n",
    "\n",
    "#Customização dos tickers\n",
    "plt.xticks([1,2,3,4,5,6,7,8,9,10,11,12], eixoX, rotation=50)\n",
    "plt.yticks([3.28, 6.56, 9.84, 13.12, 16.4, 19.68, 22.96], eixoY)\n",
    "\n",
    "#Plotagem do título\n",
    "plt.title('Produção 2018', color='gray', fontsize=25)\n",
    "\n",
    "#Legenda\n",
    "plt.legend()"
   ]
  },
  {
   "cell_type": "code",
   "execution_count": null,
   "id": "ba0e1f44",
   "metadata": {},
   "outputs": [],
   "source": [
    "#Corrigindo a escala do eixo Y"
   ]
  },
  {
   "cell_type": "code",
   "execution_count": null,
   "id": "7233e44a",
   "metadata": {},
   "outputs": [],
   "source": [
    "#Descrições dos eixos\n",
    "eixoX = ['JAN', 'FEV', 'MAR', 'ABR', 'MAI', 'JUN', 'JUL', 'AGO', 'SET', 'OUT', 'NOV', 'DEZ']\n",
    "eixoY = ['Péssimo', 'Fraco', 'Regular', 'Neutro', 'Bom', 'Ótimo', 'Excelente']\n",
    "\n",
    "#Plotagem das linhas\n",
    "plt.plot(a,b, c='blue', ls=':', lw=1, marker='^', label='Funcionário A')\n",
    "plt.plot(c,d, c='red', ls=':', lw=1, marker='o', label='Funcionário B')\n",
    "plt.plot(e,f, c='purple', ls=':', lw=1, marker='x', label='Funcionário C')\n",
    "\n",
    "#Descrição dos eixos\n",
    "plt.xlabel('Período', color='green', fontsize=15, horizontalalignment='center')\n",
    "plt.ylabel('Classificação', color='green', fontsize=15, horizontalalignment='center')\n",
    "\n",
    "#Customização dos tickers\n",
    "plt.xticks([1,2,3,4,5,6,7,8,9,10,11,12], eixoX, rotation=50)\n",
    "#Escala corrigida utilizando o maior ponto dividido por 2 e o resultado por 3, que são as casas que faltam de cada lado\n",
    "plt.yticks([0, 3.84, 7.67, 11.5, 15.33, 19.16, 23], eixoY)\n",
    "\n",
    "#Plotagem do título\n",
    "plt.title('Produção 2018', color='gray', fontsize=25)\n",
    "\n",
    "#Legenda\n",
    "plt.legend()"
   ]
  }
 ],
 "metadata": {
  "kernelspec": {
   "display_name": "Python 3",
   "language": "python",
   "name": "python3"
  },
  "language_info": {
   "codemirror_mode": {
    "name": "ipython",
    "version": 3
   },
   "file_extension": ".py",
   "mimetype": "text/x-python",
   "name": "python",
   "nbconvert_exporter": "python",
   "pygments_lexer": "ipython3",
   "version": "3.8.8"
  }
 },
 "nbformat": 4,
 "nbformat_minor": 5
}
