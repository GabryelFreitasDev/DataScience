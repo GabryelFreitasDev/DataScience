{
 "cells": [
  {
   "cell_type": "code",
   "execution_count": null,
   "id": "a20c10e9",
   "metadata": {
    "scrolled": true
   },
   "outputs": [],
   "source": [
    "#Elaborar um algoritmo que lê um conjunto de 30 valores e os coloca em 2 listas conforme estes valores forem pares ou ímpares.\n",
    "#O tamanho do vetor é de 5 posições.\n",
    "#Se alguma lista estiver cheia, escrevê-la.\n",
    "#Terminada a leitura escrever o conteúdo das duas listas. \n",
    "#Cada lista pode ser preenchida tantas vezes quantas forem necessárias"
   ]
  },
  {
   "cell_type": "code",
   "execution_count": null,
   "id": "da4a84fb",
   "metadata": {
    "scrolled": true
   },
   "outputs": [],
   "source": [
    "def limpaLista(lista):\n",
    "    del lista[0:]\n",
    "    return lista"
   ]
  },
  {
   "cell_type": "code",
   "execution_count": null,
   "id": "87a437d2",
   "metadata": {
    "scrolled": true
   },
   "outputs": [],
   "source": [
    "def printListaA(listaA):\n",
    "    listaA.sort()\n",
    "    print(\"Lista A:\", listaA)\n",
    "    return 0"
   ]
  },
  {
   "cell_type": "code",
   "execution_count": null,
   "id": "cb25e60d",
   "metadata": {},
   "outputs": [],
   "source": [
    "def printListaB(listaB):\n",
    "    listaB.sort()\n",
    "    print(\"Lista B:\", listaB)\n",
    "    return 0"
   ]
  },
  {
   "cell_type": "code",
   "execution_count": null,
   "id": "f615d34f",
   "metadata": {
    "scrolled": true
   },
   "outputs": [],
   "source": [
    "def parImpar(n):\n",
    "    if((n % 2) == 0):\n",
    "        return 1\n",
    "    else:\n",
    "        return 0"
   ]
  },
  {
   "cell_type": "code",
   "execution_count": null,
   "id": "1e32ab7d",
   "metadata": {
    "scrolled": true
   },
   "outputs": [],
   "source": [
    "i   = 1\n",
    "num = 0\n",
    "listaA = []\n",
    "listaB = []\n",
    "\n",
    "while i <= 12:\n",
    "    print(\"Informe o \",i,\"º número:\")\n",
    "    num = int(input())\n",
    "    if (parImpar(num) == 1):\n",
    "        listaA.append(num)\n",
    "    else:\n",
    "        listaB.append(num)\n",
    "        \n",
    "    if (len(listaA) == 5):\n",
    "        printListaA(listaA)\n",
    "        listaA = limpaLista(listaA)\n",
    "    elif (len(listaB) == 5):\n",
    "         printListaB(listaB)\n",
    "         listaB = limpaLista(listaB)\n",
    "    \n",
    "    i += 1\n",
    "    \n",
    "printListaA(listaA)\n",
    "printListaB(listaB)"
   ]
  },
  {
   "cell_type": "code",
   "execution_count": null,
   "id": "95162939",
   "metadata": {},
   "outputs": [],
   "source": []
  }
 ],
 "metadata": {
  "kernelspec": {
   "display_name": "Python 3",
   "language": "python",
   "name": "python3"
  },
  "language_info": {
   "codemirror_mode": {
    "name": "ipython",
    "version": 3
   },
   "file_extension": ".py",
   "mimetype": "text/x-python",
   "name": "python",
   "nbconvert_exporter": "python",
   "pygments_lexer": "ipython3",
   "version": "3.8.8"
  }
 },
 "nbformat": 4,
 "nbformat_minor": 5
}
