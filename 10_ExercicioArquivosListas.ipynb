{
 "cells": [
  {
   "cell_type": "code",
   "execution_count": 38,
   "id": "32ab97e5",
   "metadata": {},
   "outputs": [],
   "source": [
    "#Leitura dos dados do CSV\n",
    "titanic_csv = open('titanic.csv','r')\n",
    "linhas      = titanic_csv.readlines()\n",
    "titanic_csv.close()"
   ]
  },
  {
   "cell_type": "code",
   "execution_count": 39,
   "id": "d55714b7",
   "metadata": {},
   "outputs": [],
   "source": [
    "#Separação das colunas do cabeçalho\n",
    "colunas = linhas[0].split(',')"
   ]
  },
  {
   "cell_type": "code",
   "execution_count": 40,
   "id": "c2cbc75d",
   "metadata": {},
   "outputs": [],
   "source": [
    "#Função para tratamento das linhas do arquivo\n",
    "def tratar_nome(linha):\n",
    "    import re\n",
    "    match = re.compile(r'\"(.*)(,)(\\s.*)\"') #Remoção da vírgula do nome\n",
    "    return match.sub(r'\"\\3 \\1\"',linha)     #Troca de posições com substring"
   ]
  },
  {
   "cell_type": "code",
   "execution_count": 41,
   "id": "603196cb",
   "metadata": {},
   "outputs": [],
   "source": [
    "#Tratamento de todos os nomes\n",
    "dados_tratados = []\n",
    "\n",
    "for dado in linhas[1:]: #O índice 0 representa o cabeçalho\n",
    "    dado_tratado = tratar_nome(dado)       #Dado tratado é string\n",
    "    dado_lista   = dado_tratado.split(',') #Dado lista é string convertida em lista\n",
    "    dados_tratados.append(dado_lista)      #Preenchimento da lista com os dados tratados"
   ]
  },
  {
   "cell_type": "code",
   "execution_count": 42,
   "id": "f96b5c7a",
   "metadata": {},
   "outputs": [],
   "source": [
    "#Definição do dicionário titanic_dados\n",
    "\n",
    "titanic_dados = {} #Criação do dicionário vazio\n",
    "\n",
    "for coluna in colunas:         #Loop percorre todos os cabeçalhos\n",
    "    titanic_dados[coluna] = [] #Cada chave do dicionário recebe uma lista vazia"
   ]
  },
  {
   "cell_type": "code",
   "execution_count": 43,
   "id": "19ff2b1c",
   "metadata": {},
   "outputs": [],
   "source": [
    "#Preenchimento do dicionário com os dados tratados\n",
    "for passageiro in dados_tratados:\n",
    "    for indice,dado in enumerate(passageiro):\n",
    "        coluna = colunas[indice]\n",
    "        titanic_dados[coluna].append(dado)"
   ]
  },
  {
   "cell_type": "code",
   "execution_count": 44,
   "id": "e579ec55",
   "metadata": {},
   "outputs": [],
   "source": [
    "#Conversão das idades para float\n",
    "for indice, age in enumerate(titanic_dados[\"Age\"]):\n",
    "    if (titanic_dados[\"Age\"][indice] != ''):\n",
    "        titanic_dados[\"Age\"][indice] = float(age)\n",
    "    else:\n",
    "        titanic_dados[\"Age\"][indice] = -1"
   ]
  },
  {
   "cell_type": "code",
   "execution_count": 45,
   "id": "c69a342d",
   "metadata": {},
   "outputs": [],
   "source": [
    "#Preenchimento das listas de idades\n",
    "\n",
    "lista_geral  = []\n",
    "lista_sobr   = []\n",
    "lista_mortos = []\n",
    "\n",
    "for indice, age in enumerate(titanic_dados[\"Age\"]):\n",
    "    for surv in titanic_dados[\"Survived\"][indice]:\n",
    "        if (age != -1):\n",
    "            lista_geral.append(age)\n",
    "            if (surv == '1'):\n",
    "                lista_sobr.append(age)\n",
    "            else:\n",
    "                lista_mortos.append(age)\n",
    "    "
   ]
  },
  {
   "cell_type": "code",
   "execution_count": 46,
   "id": "bb0d5dfc",
   "metadata": {},
   "outputs": [],
   "source": [
    "#Função para soma e contagem geral\n",
    "def media_geral(lista):\n",
    "    soma = sum(lista)\n",
    "    qtde = len(lista)\n",
    "    return soma / qtde"
   ]
  },
  {
   "cell_type": "code",
   "execution_count": 47,
   "id": "c9033bfd",
   "metadata": {},
   "outputs": [],
   "source": [
    "#Função para soma e contagem de sobreviventes\n",
    "def media_sobr(lista):\n",
    "    soma = sum(lista)\n",
    "    qtde = len(lista)\n",
    "    return soma / qtde"
   ]
  },
  {
   "cell_type": "code",
   "execution_count": 48,
   "id": "8cbf0339",
   "metadata": {},
   "outputs": [],
   "source": [
    "#Função para soma e contagem de mortos\n",
    "def media_mortos(lista):\n",
    "    soma = sum(lista)\n",
    "    qtde = len(lista)\n",
    "    return soma / qtde"
   ]
  },
  {
   "cell_type": "code",
   "execution_count": 49,
   "id": "fbb61aad",
   "metadata": {},
   "outputs": [],
   "source": [
    "media_idades = round(media_geral(lista_geral),1)"
   ]
  },
  {
   "cell_type": "code",
   "execution_count": 50,
   "id": "10086f7a",
   "metadata": {},
   "outputs": [
    {
     "name": "stdout",
     "output_type": "stream",
     "text": [
      "A média de idade geral é: 29.7\n",
      "A média de idade dos sobreviventes é: 28.3\n",
      "A média de idade dos mortos é: 30.6\n"
     ]
    }
   ],
   "source": [
    "print(\"A média de idade geral é:\",round(media_geral(lista_geral),1))\n",
    "print(\"A média de idade dos sobreviventes é:\",round(media_sobr(lista_sobr),1))\n",
    "print(\"A média de idade dos mortos é:\",round(media_mortos(lista_mortos),1))"
   ]
  },
  {
   "cell_type": "code",
   "execution_count": 51,
   "id": "164e930f",
   "metadata": {},
   "outputs": [],
   "source": [
    "for indice, age in enumerate(titanic_dados[\"Age\"]):\n",
    "    if age == -1:\n",
    "        titanic_dados[\"Age\"][indice] = media_idades"
   ]
  }
 ],
 "metadata": {
  "kernelspec": {
   "display_name": "Python 3",
   "language": "python",
   "name": "python3"
  },
  "language_info": {
   "codemirror_mode": {
    "name": "ipython",
    "version": 3
   },
   "file_extension": ".py",
   "mimetype": "text/x-python",
   "name": "python",
   "nbconvert_exporter": "python",
   "pygments_lexer": "ipython3",
   "version": "3.8.8"
  }
 },
 "nbformat": 4,
 "nbformat_minor": 5
}
