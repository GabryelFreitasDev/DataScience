{
 "cells": [
  {
   "cell_type": "code",
   "execution_count": null,
   "id": "eecec382",
   "metadata": {},
   "outputs": [],
   "source": [
    "import numpy as np\n",
    "import pandas as pd"
   ]
  },
  {
   "cell_type": "code",
   "execution_count": null,
   "id": "7f4236f1",
   "metadata": {},
   "outputs": [],
   "source": [
    "file=\"C:\\\\Git\\\\DataScience\\\\drinks.csv\"\n",
    "drinks=pd.read_csv(file)"
   ]
  },
  {
   "cell_type": "code",
   "execution_count": null,
   "id": "7a001bb6",
   "metadata": {},
   "outputs": [],
   "source": [
    "#Qualquer data frame possui um índice\n",
    "\n",
    "drinks.index"
   ]
  },
  {
   "cell_type": "code",
   "execution_count": null,
   "id": "6e50605b",
   "metadata": {},
   "outputs": [],
   "source": [
    "#As colunas também estão armazenadas em um objeto de índices\n",
    "\n",
    "drinks.columns"
   ]
  },
  {
   "cell_type": "code",
   "execution_count": null,
   "id": "8c3f0ece",
   "metadata": {},
   "outputs": [],
   "source": [
    "#Índices ou colunas não não incluídas no shape\n",
    "\n",
    "drinks.shape"
   ]
  },
  {
   "cell_type": "code",
   "execution_count": null,
   "id": "d539a1ad",
   "metadata": {},
   "outputs": [],
   "source": [
    "#Índices e colunas são inteiros por padrão, caso não sejam definidos\n",
    "\n",
    "file=\"C:\\\\Git\\\\DataScience\\\\Users.txt\"\n",
    "\n",
    "pd.read_table(file,header=None,sep='|').head()"
   ]
  },
  {
   "cell_type": "markdown",
   "id": "25729f52",
   "metadata": {},
   "source": [
    "**Os índices são utilizados em geral para três operações:**\n",
    "1. Identificação\n",
    "2. Seleção\n",
    "3. Alinhamento"
   ]
  },
  {
   "cell_type": "markdown",
   "id": "6eaf7ea5",
   "metadata": {},
   "source": [
    "## Identificação"
   ]
  },
  {
   "cell_type": "code",
   "execution_count": null,
   "id": "b06b5ddb",
   "metadata": {},
   "outputs": [],
   "source": [
    "#Na identificação, o índice permanece com cada linha quanto filtramos um data frame\n",
    "\n",
    "drinks[drinks.continent=='South America'] #Acessando o índice continente do data frame drinks"
   ]
  },
  {
   "cell_type": "markdown",
   "id": "758c3765",
   "metadata": {},
   "source": [
    "## Seleção/Localização"
   ]
  },
  {
   "cell_type": "code",
   "execution_count": null,
   "id": "ac30fb31",
   "metadata": {},
   "outputs": [],
   "source": [
    "#Na seleção, podemos trazer uma parte do data frame utilizando o índice\n",
    "#A função loc permite a localização por índice\n",
    "\n",
    "drinks.loc[6, 'beer_servings'] #Acessando o índice 6 da linha e beer_serving da coluna"
   ]
  },
  {
   "cell_type": "markdown",
   "id": "074ce6ed",
   "metadata": {},
   "source": [
    "## Alterando índices"
   ]
  },
  {
   "cell_type": "markdown",
   "id": "5325fb8c",
   "metadata": {},
   "source": [
    "A alteração de índices reflet no data frame na forma de agrupamentos ou reshaping"
   ]
  },
  {
   "cell_type": "code",
   "execution_count": null,
   "id": "c34600f7",
   "metadata": {},
   "outputs": [],
   "source": [
    "#Alterando o índice para países com a opção inplace, que refletirá no data frame original\n",
    "\n",
    "drinks.set_index('country', inplace=True)"
   ]
  },
  {
   "cell_type": "code",
   "execution_count": null,
   "id": "e599e8f4",
   "metadata": {},
   "outputs": [],
   "source": [
    "#Verificando novamente os índices\n",
    "\n",
    "drinks.index"
   ]
  },
  {
   "cell_type": "code",
   "execution_count": null,
   "id": "34686354",
   "metadata": {},
   "outputs": [],
   "source": [
    "#Podemos então concluir que países não é mais uma coluna\n",
    "\n",
    "drinks.columns"
   ]
  },
  {
   "cell_type": "code",
   "execution_count": null,
   "id": "5a59a9a1",
   "metadata": {},
   "outputs": [],
   "source": [
    "#Anteriormente o shape era de 193 linhas e 7 colunas (193,7). E agora?\n",
    "\n",
    "drinks.shape"
   ]
  },
  {
   "cell_type": "code",
   "execution_count": null,
   "id": "9db3066b",
   "metadata": {},
   "outputs": [],
   "source": [
    "#Utilizamos mais uma vez a função loc para trazer parte do data frame\n",
    "\n",
    "drinks.loc['Brazil','beer_servings']"
   ]
  },
  {
   "cell_type": "markdown",
   "id": "0514d7cd",
   "metadata": {},
   "source": [
    "## Nomeando índices"
   ]
  },
  {
   "cell_type": "code",
   "execution_count": null,
   "id": "d9f3b49f",
   "metadata": {},
   "outputs": [],
   "source": [
    "#Podemos nomear os índices, mas essa característica é opcional, porém, recomendada em produção e documentação\n",
    "\n",
    "drinks.index.name = None\n",
    "drinks.head()"
   ]
  },
  {
   "cell_type": "code",
   "execution_count": null,
   "id": "3d11d529",
   "metadata": {},
   "outputs": [],
   "source": [
    "#Renomeando o índice\n",
    "\n",
    "drinks.index.name = 'country'\n",
    "drinks.head()"
   ]
  },
  {
   "cell_type": "markdown",
   "id": "7d46281c",
   "metadata": {},
   "source": [
    "## Resetando um índice"
   ]
  },
  {
   "cell_type": "code",
   "execution_count": null,
   "id": "a76f3fc3",
   "metadata": {},
   "outputs": [],
   "source": [
    "drinks.reset_index(inplace=True)\n",
    "drinks.head()"
   ]
  },
  {
   "cell_type": "markdown",
   "id": "f04e317b",
   "metadata": {},
   "source": [
    "## Métodos de data frames em séries"
   ]
  },
  {
   "cell_type": "code",
   "execution_count": null,
   "id": "4b14765b",
   "metadata": {},
   "outputs": [],
   "source": [
    "#Podemos mesclar praticamente todos os métodos dos data frames\n",
    "#Aqui, por exemplo, describe retorna um novo data frame\n",
    "\n",
    "drinks.describe()"
   ]
  },
  {
   "cell_type": "code",
   "execution_count": null,
   "id": "da3b7fdd",
   "metadata": {},
   "outputs": [],
   "source": [
    "#Que pode ser utilizado pelo método loc\n",
    "#Qual a média de cerveja consumida no mundo inteiro?\n",
    "\n",
    "drinks.describe().loc['mean','beer_servings']"
   ]
  },
  {
   "cell_type": "code",
   "execution_count": null,
   "id": "fbfe025b",
   "metadata": {},
   "outputs": [],
   "source": [
    "#Toda série também possui um índice, que é carregado a partir do data frame\n",
    "\n",
    "drinks.continent.head()"
   ]
  },
  {
   "cell_type": "code",
   "execution_count": null,
   "id": "6de0857a",
   "metadata": {},
   "outputs": [],
   "source": [
    "#Alterando o índice mais uma vez\n",
    "\n",
    "drinks.set_index('country',inplace=True)"
   ]
  },
  {
   "cell_type": "code",
   "execution_count": null,
   "id": "0a728c0e",
   "metadata": {},
   "outputs": [],
   "source": [
    "#Verificando uma série do data frame\n",
    "\n",
    "drinks.continent.head()"
   ]
  },
  {
   "cell_type": "code",
   "execution_count": null,
   "id": "a396e921",
   "metadata": {},
   "outputs": [],
   "source": [
    "#Outro exemplo de série retornada é quanto utilizamos o value_counts()\n",
    "\n",
    "drinks.continent.value_counts()"
   ]
  },
  {
   "cell_type": "code",
   "execution_count": null,
   "id": "683ad793",
   "metadata": {},
   "outputs": [],
   "source": [
    "#Podemos também ter acesso ao índice de uma série\n",
    "\n",
    "drinks.continent.value_counts().index"
   ]
  },
  {
   "cell_type": "code",
   "execution_count": null,
   "id": "5fe12d9b",
   "metadata": {},
   "outputs": [],
   "source": [
    "#Acessando os valores da série\n",
    "\n",
    "drinks.continent.value_counts().values"
   ]
  },
  {
   "cell_type": "code",
   "execution_count": null,
   "id": "d4caa788",
   "metadata": {},
   "outputs": [],
   "source": [
    "#Os elementos de uma série podem ser selecionados utilizando a notação de brackets\n",
    "\n",
    "drinks.continent.value_counts()['Africa']"
   ]
  },
  {
   "cell_type": "markdown",
   "id": "56cb4931",
   "metadata": {},
   "source": [
    "## Ordenando séries"
   ]
  },
  {
   "cell_type": "code",
   "execution_count": null,
   "id": "f8796630",
   "metadata": {},
   "outputs": [],
   "source": [
    "#Qualquer série pode ter os seus valores ordenados por valores\n",
    "\n",
    "drinks.continent.value_counts().sort_values()"
   ]
  },
  {
   "cell_type": "code",
   "execution_count": null,
   "id": "05fa6b70",
   "metadata": {},
   "outputs": [],
   "source": [
    "#Qualquer série pode ter os seus valores ordenados por índices\n",
    "\n",
    "drinks.continent.value_counts().sort_index()"
   ]
  },
  {
   "cell_type": "markdown",
   "id": "987d1641",
   "metadata": {},
   "source": [
    "## Alinhamento"
   ]
  },
  {
   "cell_type": "code",
   "execution_count": null,
   "id": "c0c07437",
   "metadata": {},
   "outputs": [],
   "source": [
    "#A coluna beer_servings contém a média anual de cerveja consumida por pessoa\n",
    "\n",
    "drinks.beer_servings.head()"
   ]
  },
  {
   "cell_type": "code",
   "execution_count": null,
   "id": "0078d982",
   "metadata": {},
   "outputs": [],
   "source": [
    "#Supondo uma classificação: 0 - 75 = Baixa / 76 - 150 = Média / 151 - ... = Alta\n",
    "#Vamos criar outra série baseada e ALINHADA à primeira\n",
    "\n",
    "cons_beer = pd.Series(['Baixo','Baixo','Alto'], index=['Afghanistan','Albania','Andorra'],name='consumo')\n",
    "cons_beer"
   ]
  },
  {
   "cell_type": "markdown",
   "id": "538275e2",
   "metadata": {},
   "source": [
    "* As duas séries estão **aligned** (alinhadas) pelos índices;\n",
    "* Se um valor está faltando em uma série, ele é marcado como **NaN**;\n",
    "* O alinhamento de índices nos facilita a trabalhar com **dados incompletos**."
   ]
  },
  {
   "cell_type": "code",
   "execution_count": null,
   "id": "47e78a9f",
   "metadata": {},
   "outputs": [],
   "source": [
    "#Concatenando as séries ou data frames\n",
    "\n",
    "pd.concat([drinks, cons_beer],axis=1).head()"
   ]
  }
 ],
 "metadata": {
  "kernelspec": {
   "display_name": "Python 3",
   "language": "python",
   "name": "python3"
  },
  "language_info": {
   "codemirror_mode": {
    "name": "ipython",
    "version": 3
   },
   "file_extension": ".py",
   "mimetype": "text/x-python",
   "name": "python",
   "nbconvert_exporter": "python",
   "pygments_lexer": "ipython3",
   "version": "3.8.8"
  }
 },
 "nbformat": 4,
 "nbformat_minor": 5
}
