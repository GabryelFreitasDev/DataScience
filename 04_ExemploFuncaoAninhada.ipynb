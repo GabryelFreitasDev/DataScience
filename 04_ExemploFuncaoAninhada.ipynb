{
 "cells": [
  {
   "cell_type": "code",
   "execution_count": null,
   "id": "f04239bc",
   "metadata": {},
   "outputs": [],
   "source": [
    "def maior(a,b):\n",
    "    if (a > b):\n",
    "        return a\n",
    "    elif (b > a):\n",
    "        return b\n",
    "    else:\n",
    "        return a"
   ]
  },
  {
   "cell_type": "code",
   "execution_count": null,
   "id": "624f2e7a",
   "metadata": {},
   "outputs": [],
   "source": [
    "def maiorTres(a,b,c):\n",
    "    aux = maior(a,b)\n",
    "    if (aux > c):\n",
    "        return aux\n",
    "    elif (c > aux):\n",
    "        return c\n",
    "    else:\n",
    "        return aux"
   ]
  },
  {
   "cell_type": "code",
   "execution_count": null,
   "id": "b5c30a5a",
   "metadata": {},
   "outputs": [],
   "source": [
    "print(\"Informe o valor de A:\")\n",
    "a = int(input())\n",
    "print(\"Informe o valor de B:\")\n",
    "b = int(input())\n",
    "print(\"Informe o valor de C:\")\n",
    "c = int(input())\n",
    "\n",
    "print(\"O maior número digitado é:\",maiorTres(a,b,c))"
   ]
  }
 ],
 "metadata": {
  "kernelspec": {
   "display_name": "Python 3",
   "language": "python",
   "name": "python3"
  },
  "language_info": {
   "codemirror_mode": {
    "name": "ipython",
    "version": 3
   },
   "file_extension": ".py",
   "mimetype": "text/x-python",
   "name": "python",
   "nbconvert_exporter": "python",
   "pygments_lexer": "ipython3",
   "version": "3.8.8"
  }
 },
 "nbformat": 4,
 "nbformat_minor": 5
}
